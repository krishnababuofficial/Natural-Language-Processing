{
 "cells": [
  {
   "cell_type": "markdown",
   "id": "c149afc7",
   "metadata": {},
   "source": [
    "## Import Packages"
   ]
  },
  {
   "cell_type": "code",
   "execution_count": 1,
   "id": "5a4db04d",
   "metadata": {},
   "outputs": [],
   "source": [
    "import pandas as pd\n",
    "import seaborn as sns\n",
    "import matplotlib.pyplot as plt\n",
    "\n",
    "import spacy\n",
    "nlp = spacy.load(\"en_core_web_sm\")\n",
    "\n",
    "from sklearn.naive_bayes import MultinomialNB\n",
    "from sklearn.pipeline import Pipeline\n",
    "from sklearn.metrics import classification_report\n",
    "from sklearn.model_selection import train_test_split\n",
    "from sklearn.feature_extraction.text import CountVectorizer\n",
    "from sklearn.metrics import confusion_matrix\n",
    "\n",
    "import warnings\n",
    "warnings.filterwarnings('ignore')"
   ]
  },
  {
   "cell_type": "markdown",
   "id": "eb2268e8",
   "metadata": {},
   "source": [
    "### Read Json_File"
   ]
  },
  {
   "cell_type": "code",
   "execution_count": 2,
   "id": "f9138e02",
   "metadata": {},
   "outputs": [
    {
     "data": {
      "text/html": [
       "<div>\n",
       "<style scoped>\n",
       "    .dataframe tbody tr th:only-of-type {\n",
       "        vertical-align: middle;\n",
       "    }\n",
       "\n",
       "    .dataframe tbody tr th {\n",
       "        vertical-align: top;\n",
       "    }\n",
       "\n",
       "    .dataframe thead th {\n",
       "        text-align: right;\n",
       "    }\n",
       "</style>\n",
       "<table border=\"1\" class=\"dataframe\">\n",
       "  <thead>\n",
       "    <tr style=\"text-align: right;\">\n",
       "      <th></th>\n",
       "      <th>text</th>\n",
       "      <th>category</th>\n",
       "    </tr>\n",
       "  </thead>\n",
       "  <tbody>\n",
       "    <tr>\n",
       "      <th>0</th>\n",
       "      <td>Watching Schrödinger's Cat Die University of C...</td>\n",
       "      <td>SCIENCE</td>\n",
       "    </tr>\n",
       "    <tr>\n",
       "      <th>1</th>\n",
       "      <td>WATCH: Freaky Vortex Opens Up In Flooded Lake</td>\n",
       "      <td>SCIENCE</td>\n",
       "    </tr>\n",
       "    <tr>\n",
       "      <th>2</th>\n",
       "      <td>Entrepreneurs Today Don't Need a Big Budget to...</td>\n",
       "      <td>BUSINESS</td>\n",
       "    </tr>\n",
       "    <tr>\n",
       "      <th>3</th>\n",
       "      <td>These Roads Could Recharge Your Electric Car A...</td>\n",
       "      <td>BUSINESS</td>\n",
       "    </tr>\n",
       "    <tr>\n",
       "      <th>4</th>\n",
       "      <td>Civilian 'Guard' Fires Gun While 'Protecting' ...</td>\n",
       "      <td>CRIME</td>\n",
       "    </tr>\n",
       "  </tbody>\n",
       "</table>\n",
       "</div>"
      ],
      "text/plain": [
       "                                                text  category\n",
       "0  Watching Schrödinger's Cat Die University of C...   SCIENCE\n",
       "1     WATCH: Freaky Vortex Opens Up In Flooded Lake    SCIENCE\n",
       "2  Entrepreneurs Today Don't Need a Big Budget to...  BUSINESS\n",
       "3  These Roads Could Recharge Your Electric Car A...  BUSINESS\n",
       "4  Civilian 'Guard' Fires Gun While 'Protecting' ...     CRIME"
      ]
     },
     "execution_count": 2,
     "metadata": {},
     "output_type": "execute_result"
    }
   ],
   "source": [
    "df = pd.read_json(\"news_dataset.json\")\n",
    "\n",
    "df.head()"
   ]
  },
  {
   "cell_type": "markdown",
   "id": "88b14403",
   "metadata": {},
   "source": [
    "## Data Info"
   ]
  },
  {
   "cell_type": "code",
   "execution_count": 3,
   "id": "a5a39963",
   "metadata": {},
   "outputs": [
    {
     "data": {
      "text/plain": [
       "(12695, 2)"
      ]
     },
     "execution_count": 3,
     "metadata": {},
     "output_type": "execute_result"
    }
   ],
   "source": [
    "df.shape"
   ]
  },
  {
   "cell_type": "code",
   "execution_count": 4,
   "id": "e354c12f",
   "metadata": {},
   "outputs": [
    {
     "name": "stdout",
     "output_type": "stream",
     "text": [
      "<class 'pandas.core.frame.DataFrame'>\n",
      "Int64Index: 12695 entries, 0 to 12694\n",
      "Data columns (total 2 columns):\n",
      " #   Column    Non-Null Count  Dtype \n",
      "---  ------    --------------  ----- \n",
      " 0   text      12695 non-null  object\n",
      " 1   category  12695 non-null  object\n",
      "dtypes: object(2)\n",
      "memory usage: 297.5+ KB\n"
     ]
    }
   ],
   "source": [
    "df.info()"
   ]
  },
  {
   "cell_type": "markdown",
   "id": "d07c235e",
   "metadata": {},
   "source": [
    "## Preprocessing &  Cleaning Data\n"
   ]
  },
  {
   "cell_type": "code",
   "execution_count": 4,
   "id": "56691ab7",
   "metadata": {},
   "outputs": [
    {
     "data": {
      "text/plain": [
       "BUSINESS    4254\n",
       "SPORTS      4167\n",
       "CRIME       2893\n",
       "SCIENCE     1381\n",
       "Name: category, dtype: int64"
      ]
     },
     "execution_count": 4,
     "metadata": {},
     "output_type": "execute_result"
    }
   ],
   "source": [
    "df['category'].value_counts()"
   ]
  },
  {
   "cell_type": "code",
   "execution_count": 5,
   "id": "9e8f49c8",
   "metadata": {},
   "outputs": [],
   "source": [
    "df['category_num'] = df['category'].map({'BUSINESS': 0, 'SPORTS': 1, 'CRIME': 2, 'SCIENCE': 3})"
   ]
  },
  {
   "cell_type": "code",
   "execution_count": 6,
   "id": "9e90dee2",
   "metadata": {},
   "outputs": [],
   "source": [
    "def preprocess(text):\n",
    "    doc = nlp(text)\n",
    "    \n",
    "    filter_words = []\n",
    "    \n",
    "    for token in doc:\n",
    "        if not token.is_stop and not token.is_punct:\n",
    "            filter_words.append(token.lemma_)\n",
    "    \n",
    "    return \" \".join(filter_words)"
   ]
  },
  {
   "cell_type": "code",
   "execution_count": 7,
   "id": "d93d6bd7",
   "metadata": {},
   "outputs": [],
   "source": [
    "df['preprocessed_text'] = df['text'].apply(preprocess)"
   ]
  },
  {
   "cell_type": "code",
   "execution_count": 8,
   "id": "661b83c0",
   "metadata": {},
   "outputs": [
    {
     "data": {
      "text/html": [
       "<div>\n",
       "<style scoped>\n",
       "    .dataframe tbody tr th:only-of-type {\n",
       "        vertical-align: middle;\n",
       "    }\n",
       "\n",
       "    .dataframe tbody tr th {\n",
       "        vertical-align: top;\n",
       "    }\n",
       "\n",
       "    .dataframe thead th {\n",
       "        text-align: right;\n",
       "    }\n",
       "</style>\n",
       "<table border=\"1\" class=\"dataframe\">\n",
       "  <thead>\n",
       "    <tr style=\"text-align: right;\">\n",
       "      <th></th>\n",
       "      <th>text</th>\n",
       "      <th>category</th>\n",
       "      <th>category_num</th>\n",
       "      <th>preprocessed_text</th>\n",
       "    </tr>\n",
       "  </thead>\n",
       "  <tbody>\n",
       "    <tr>\n",
       "      <th>0</th>\n",
       "      <td>Watching Schrödinger's Cat Die University of C...</td>\n",
       "      <td>SCIENCE</td>\n",
       "      <td>3</td>\n",
       "      <td>watch Schrödinger Cat Die University Californi...</td>\n",
       "    </tr>\n",
       "    <tr>\n",
       "      <th>1</th>\n",
       "      <td>WATCH: Freaky Vortex Opens Up In Flooded Lake</td>\n",
       "      <td>SCIENCE</td>\n",
       "      <td>3</td>\n",
       "      <td>WATCH Freaky vortex open Flooded Lake</td>\n",
       "    </tr>\n",
       "    <tr>\n",
       "      <th>2</th>\n",
       "      <td>Entrepreneurs Today Don't Need a Big Budget to...</td>\n",
       "      <td>BUSINESS</td>\n",
       "      <td>0</td>\n",
       "      <td>entrepreneur today need Big Budget start year ...</td>\n",
       "    </tr>\n",
       "    <tr>\n",
       "      <th>3</th>\n",
       "      <td>These Roads Could Recharge Your Electric Car A...</td>\n",
       "      <td>BUSINESS</td>\n",
       "      <td>0</td>\n",
       "      <td>road recharge electric Car drive high tech hig...</td>\n",
       "    </tr>\n",
       "    <tr>\n",
       "      <th>4</th>\n",
       "      <td>Civilian 'Guard' Fires Gun While 'Protecting' ...</td>\n",
       "      <td>CRIME</td>\n",
       "      <td>2</td>\n",
       "      <td>Civilian Guard Fires Gun protect Recruiting Ce...</td>\n",
       "    </tr>\n",
       "  </tbody>\n",
       "</table>\n",
       "</div>"
      ],
      "text/plain": [
       "                                                text  category  category_num  \\\n",
       "0  Watching Schrödinger's Cat Die University of C...   SCIENCE             3   \n",
       "1     WATCH: Freaky Vortex Opens Up In Flooded Lake    SCIENCE             3   \n",
       "2  Entrepreneurs Today Don't Need a Big Budget to...  BUSINESS             0   \n",
       "3  These Roads Could Recharge Your Electric Car A...  BUSINESS             0   \n",
       "4  Civilian 'Guard' Fires Gun While 'Protecting' ...     CRIME             2   \n",
       "\n",
       "                                   preprocessed_text  \n",
       "0  watch Schrödinger Cat Die University Californi...  \n",
       "1              WATCH Freaky vortex open Flooded Lake  \n",
       "2  entrepreneur today need Big Budget start year ...  \n",
       "3  road recharge electric Car drive high tech hig...  \n",
       "4  Civilian Guard Fires Gun protect Recruiting Ce...  "
      ]
     },
     "execution_count": 8,
     "metadata": {},
     "output_type": "execute_result"
    }
   ],
   "source": [
    "df.head()"
   ]
  },
  {
   "cell_type": "markdown",
   "id": "9b02435b",
   "metadata": {},
   "source": [
    "### PipeLine "
   ]
  },
  {
   "cell_type": "code",
   "execution_count": 9,
   "id": "9805a9ad",
   "metadata": {},
   "outputs": [],
   "source": [
    "clf_mnb = Pipeline([\n",
    "    ('Bow_Vectorizer', CountVectorizer(ngram_range = (1,1))),\n",
    "    ('Multi_NB', MultinomialNB())\n",
    "])"
   ]
  },
  {
   "cell_type": "markdown",
   "id": "c7f82563",
   "metadata": {},
   "source": [
    "## Splitting Train, Test"
   ]
  },
  {
   "cell_type": "code",
   "execution_count": 10,
   "id": "b3e57238",
   "metadata": {},
   "outputs": [],
   "source": [
    "\n",
    "xtrain, xtest, ytrain, ytest = train_test_split(df['preprocessed_text'], df['category_num'], test_size = 0.2, random_state = 3,stratify = df['category_num'])\n"
   ]
  },
  {
   "cell_type": "code",
   "execution_count": 12,
   "id": "61eae8be",
   "metadata": {},
   "outputs": [
    {
     "name": "stdout",
     "output_type": "stream",
     "text": [
      "Train ACC: 0.9564789287120914\n",
      "Test ACC: 0.9007483261126428\n",
      "\n",
      "              precision    recall  f1-score   support\n",
      "\n",
      "           0       0.89      0.93      0.91       851\n",
      "           1       0.92      0.94      0.93       833\n",
      "           2       0.88      0.89      0.89       579\n",
      "           3       0.91      0.73      0.81       276\n",
      "\n",
      "    accuracy                           0.90      2539\n",
      "   macro avg       0.90      0.87      0.88      2539\n",
      "weighted avg       0.90      0.90      0.90      2539\n",
      "\n"
     ]
    }
   ],
   "source": [
    "clf_mnb.fit(xtrain, ytrain)\n",
    "\n",
    "ypred = clf_mnb.predict(xtest)\n",
    "\n",
    "train = clf_mnb.score(xtrain,ytrain)\n",
    "test = clf_mnb.score(xtest, ytest)\n",
    "\n",
    "print(f'Train ACC: {train}\\nTest ACC: {test}\\n\\n{classification_report(ytest, ypred)}')"
   ]
  },
  {
   "cell_type": "code",
   "execution_count": 14,
   "id": "9d69219a",
   "metadata": {},
   "outputs": [
    {
     "data": {
      "text/plain": [
       "3776    Daily Fantasy Gambling DraftKings FanDuel Appl...\n",
       "6442    Happy Fourth July America Love Space Astronome...\n",
       "846                7 challenge successful People overcome\n",
       "652     Man Flu Stories Women Health Dudes new study i...\n",
       "8207    Store showroom have cake eat 2005 shop acousti...\n",
       "Name: preprocessed_text, dtype: object"
      ]
     },
     "execution_count": 14,
     "metadata": {},
     "output_type": "execute_result"
    }
   ],
   "source": [
    "xtest[:5]"
   ]
  },
  {
   "cell_type": "code",
   "execution_count": 15,
   "id": "3adc8b32",
   "metadata": {},
   "outputs": [
    {
     "data": {
      "text/plain": [
       "3776    1\n",
       "6442    3\n",
       "846     0\n",
       "652     3\n",
       "8207    0\n",
       "Name: category_num, dtype: int64"
      ]
     },
     "execution_count": 15,
     "metadata": {},
     "output_type": "execute_result"
    }
   ],
   "source": [
    "ytest[:5]"
   ]
  },
  {
   "cell_type": "code",
   "execution_count": 16,
   "id": "f5d87440",
   "metadata": {},
   "outputs": [
    {
     "data": {
      "text/plain": [
       "array([1, 3, 0, 3, 0], dtype=int64)"
      ]
     },
     "execution_count": 16,
     "metadata": {},
     "output_type": "execute_result"
    }
   ],
   "source": [
    "ypred[:5]\n",
    "\n",
    "# 'BUSINESS': 0, 'SPORTS': 1, 'CRIME': 2, 'SCIENCE': 3"
   ]
  },
  {
   "cell_type": "code",
   "execution_count": 17,
   "id": "e59742e6",
   "metadata": {},
   "outputs": [
    {
     "data": {
      "image/png": "[encoded data removed]",
      "text/plain": [
       "<Figure size 640x480 with 2 Axes>"
      ]
     },
     "metadata": {},
     "output_type": "display_data"
    }
   ],
   "source": [
    "confusion_m =confusion_matrix(ytest, ypred)\n",
    "\n",
    "sns.heatmap(confusion_m, annot = True, fmt = '.1f',\n",
    "            xticklabels = ['BUSINESS', 'SPORTS', 'CRIME', 'SCIENCE'], yticklabels = ['BUSINESS', 'SPORTS', 'CRIME', 'SCIENCE'])\n",
    "plt.xlabel('Predicted Output')\n",
    "plt.ylabel('Actual Output')\n",
    "plt.title(\"Confusion matrix for Multi_NB\")\n",
    "plt.show();"
   ]
  },
  {
   "cell_type": "code",
   "execution_count": 26,
   "id": "495ef970",
   "metadata": {},
   "outputs": [],
   "source": [
    "\n",
    "x_train, x_test, y_train, y_test = train_test_split(df['preprocessed_text'], df['category_num'], test_size = 0.2, random_state = 0, stratify = df['category_num'])"
   ]
  },
  {
   "cell_type": "code",
   "execution_count": 41,
   "id": "1bfe2af0",
   "metadata": {},
   "outputs": [],
   "source": [
    "from sklearn.ensemble import RandomForestClassifier\n",
    "\n",
    "clf_rf = Pipeline([\n",
    "    ('Bow_Vectorizer', CountVectorizer(ngram_range = (1,1))),\n",
    "    ('Random_forest', RandomForestClassifier())\n",
    "])"
   ]
  },
  {
   "cell_type": "code",
   "execution_count": 42,
   "id": "c2b9973b",
   "metadata": {},
   "outputs": [
    {
     "name": "stdout",
     "output_type": "stream",
     "text": [
      "Train ACC: 1.0\n",
      "Test ACC: 0.8428515163450178\n",
      "\n",
      "              precision    recall  f1-score   support\n",
      "\n",
      "           0       0.77      0.92      0.84       851\n",
      "           1       0.92      0.81      0.86       833\n",
      "           2       0.84      0.89      0.87       579\n",
      "           3       0.92      0.59      0.72       276\n",
      "\n",
      "    accuracy                           0.84      2539\n",
      "   macro avg       0.86      0.80      0.82      2539\n",
      "weighted avg       0.85      0.84      0.84      2539\n",
      "\n"
     ]
    }
   ],
   "source": [
    "clf_rf.fit(x_train, y_train)\n",
    "\n",
    "y_pred = clf_rf.predict(x_test)\n",
    "\n",
    "train = clf_rf.score(x_train,y_train)\n",
    "test = clf_rf.score(x_test, y_test)\n",
    "\n",
    "print(f'Train ACC: {train}\\nTest ACC: {test}\\n\\n{classification_report(y_test, y_pred)}')"
   ]
  },
  {
   "cell_type": "code",
   "execution_count": 43,
   "id": "99c2a5b0",
   "metadata": {},
   "outputs": [
    {
     "data": {
      "image/png": "[encoded data removed]",
      "text/plain": [
       "<Figure size 640x480 with 2 Axes>"
      ]
     },
     "metadata": {},
     "output_type": "display_data"
    }
   ],
   "source": [
    "confusion_m =confusion_matrix(y_test, y_pred)\n",
    "\n",
    "sns.heatmap(confusion_m, annot = True, fmt = '.1f',\n",
    "            xticklabels = ['BUSINESS', 'SPORTS', 'CRIME', 'SCIENCE'], yticklabels = ['BUSINESS', 'SPORTS', 'CRIME', 'SCIENCE'])\n",
    "plt.xlabel('Predicted Output')\n",
    "plt.ylabel('Actual Output')\n",
    "plt.title(\"Confusion matrix for Random_forest\")\n",
    "plt.show();"
   ]
  },
  {
   "cell_type": "code",
   "execution_count": null,
   "id": "10d560ca",
   "metadata": {},
   "outputs": [],
   "source": []
  }
 ],
 "metadata": {
  "kernelspec": {
   "display_name": "Python 3 (ipykernel)",
   "language": "python",
   "name": "python3"
  },
  "language_info": {
   "codemirror_mode": {
    "name": "ipython",
    "version": 3
   },
   "file_extension": ".py",
   "mimetype": "text/x-python",
   "name": "python",
   "nbconvert_exporter": "python",
   "pygments_lexer": "ipython3",
   "version": "3.9.13"
  }
 },
 "nbformat": 4,
 "nbformat_minor": 5
}
