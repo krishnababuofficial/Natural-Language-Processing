{
 "cells": [
  {
   "cell_type": "markdown",
   "id": "79476dcd",
   "metadata": {},
   "source": [
    "## Import Packages"
   ]
  },
  {
   "cell_type": "code",
   "execution_count": 1,
   "id": "195e49b5",
   "metadata": {
    "id": "195e49b5"
   },
   "outputs": [],
   "source": [
    "import pandas as pd\n",
    "import numpy as np\n",
    "import seaborn as sns\n",
    "import matplotlib.pyplot as plt\n",
    "import fasttext\n",
    "from sklearn.model_selection import train_test_split\n",
    "from sklearn.metrics import confusion_matrix\n",
    "from sklearn.naive_bayes import MultinomialNB\n",
    "from sklearn.metrics import classification_report\n",
    "from sklearn.ensemble import RandomForestClassifier\n",
    "\n",
    "import spacy\n",
    "nlp = spacy.load(\"en_core_web_md\")\n",
    "\n",
    "import warnings\n",
    "warnings.filterwarnings('ignore')"
   ]
  },
  {
   "cell_type": "code",
   "execution_count": 213,
   "id": "4372cec4",
   "metadata": {
    "colab": {
     "base_uri": "https://localhost:8080/",
     "height": 224
    },
    "id": "4372cec4",
    "outputId": "0dffc44e-0455-4146-ea63-7dfb31360f2f"
   },
   "outputs": [
    {
     "name": "stdout",
     "output_type": "stream",
     "text": [
      "(50000, 2)\n"
     ]
    },
    {
     "data": {
      "text/html": [
       "\n",
       "  <div id=\"df-21713c7e-da11-4030-890c-e75d9714350b\" class=\"colab-df-container\">\n",
       "    <div>\n",
       "<style scoped>\n",
       "    .dataframe tbody tr th:only-of-type {\n",
       "        vertical-align: middle;\n",
       "    }\n",
       "\n",
       "    .dataframe tbody tr th {\n",
       "        vertical-align: top;\n",
       "    }\n",
       "\n",
       "    .dataframe thead th {\n",
       "        text-align: right;\n",
       "    }\n",
       "</style>\n",
       "<table border=\"1\" class=\"dataframe\">\n",
       "  <thead>\n",
       "    <tr style=\"text-align: right;\">\n",
       "      <th></th>\n",
       "      <th>review</th>\n",
       "      <th>sentiment</th>\n",
       "    </tr>\n",
       "  </thead>\n",
       "  <tbody>\n",
       "    <tr>\n",
       "      <th>0</th>\n",
       "      <td>One of the other reviewers has mentioned that ...</td>\n",
       "      <td>positive</td>\n",
       "    </tr>\n",
       "    <tr>\n",
       "      <th>1</th>\n",
       "      <td>A wonderful little production. &lt;br /&gt;&lt;br /&gt;The...</td>\n",
       "      <td>positive</td>\n",
       "    </tr>\n",
       "    <tr>\n",
       "      <th>2</th>\n",
       "      <td>I thought this was a wonderful way to spend ti...</td>\n",
       "      <td>positive</td>\n",
       "    </tr>\n",
       "    <tr>\n",
       "      <th>3</th>\n",
       "      <td>Basically there's a family where a little boy ...</td>\n",
       "      <td>negative</td>\n",
       "    </tr>\n",
       "    <tr>\n",
       "      <th>4</th>\n",
       "      <td>Petter Mattei's \"Love in the Time of Money\" is...</td>\n",
       "      <td>positive</td>\n",
       "    </tr>\n",
       "  </tbody>\n",
       "</table>\n",
       "</div>\n",
       "    <div class=\"colab-df-buttons\">\n",
       "\n",
       "  <div class=\"colab-df-container\">\n",
       "    <button class=\"colab-df-convert\" onclick=\"convertToInteractive('df-21713c7e-da11-4030-890c-e75d9714350b')\"\n",
       "            title=\"Convert this dataframe to an interactive table.\"\n",
       "            style=\"display:none;\">\n",
       "\n",
       "  <svg xmlns=\"http://www.w3.org/2000/svg\" height=\"24px\" viewBox=\"0 -960 960 960\">\n",
       "    <path d=\"M120-120v-720h720v720H120Zm60-500h600v-160H180v160Zm220 220h160v-160H400v160Zm0 220h160v-160H400v160ZM180-400h160v-160H180v160Zm440 0h160v-160H620v160ZM180-180h160v-160H180v160Zm440 0h160v-160H620v160Z\"/>\n",
       "  </svg>\n",
       "    </button>\n",
       "\n",
       "  <style>\n",
       "    .colab-df-container {\n",
       "      display:flex;\n",
       "      gap: 12px;\n",
       "    }\n",
       "\n",
       "    .colab-df-convert {\n",
       "      background-color: #E8F0FE;\n",
       "      border: none;\n",
       "      border-radius: 50%;\n",
       "      cursor: pointer;\n",
       "      display: none;\n",
       "      fill: #1967D2;\n",
       "      height: 32px;\n",
       "      padding: 0 0 0 0;\n",
       "      width: 32px;\n",
       "    }\n",
       "\n",
       "    .colab-df-convert:hover {\n",
       "      background-color: #E2EBFA;\n",
       "      box-shadow: 0px 1px 2px rgba(60, 64, 67, 0.3), 0px 1px 3px 1px rgba(60, 64, 67, 0.15);\n",
       "      fill: #174EA6;\n",
       "    }\n",
       "\n",
       "    .colab-df-buttons div {\n",
       "      margin-bottom: 4px;\n",
       "    }\n",
       "\n",
       "    [theme=dark] .colab-df-convert {\n",
       "      background-color: #3B4455;\n",
       "      fill: #D2E3FC;\n",
       "    }\n",
       "\n",
       "    [theme=dark] .colab-df-convert:hover {\n",
       "      background-color: #434B5C;\n",
       "      box-shadow: 0px 1px 3px 1px rgba(0, 0, 0, 0.15);\n",
       "      filter: drop-shadow(0px 1px 2px rgba(0, 0, 0, 0.3));\n",
       "      fill: #FFFFFF;\n",
       "    }\n",
       "  </style>\n",
       "\n",
       "    <script>\n",
       "      const buttonEl =\n",
       "        document.querySelector('#df-21713c7e-da11-4030-890c-e75d9714350b button.colab-df-convert');\n",
       "      buttonEl.style.display =\n",
       "        google.colab.kernel.accessAllowed ? 'block' : 'none';\n",
       "\n",
       "      async function convertToInteractive(key) {\n",
       "        const element = document.querySelector('#df-21713c7e-da11-4030-890c-e75d9714350b');\n",
       "        const dataTable =\n",
       "          await google.colab.kernel.invokeFunction('convertToInteractive',\n",
       "                                                    [key], {});\n",
       "        if (!dataTable) return;\n",
       "\n",
       "        const docLinkHtml = 'Like what you see? Visit the ' +\n",
       "          '<a target=\"_blank\" href=https://colab.research.google.com/notebooks/data_table.ipynb>data table notebook</a>'\n",
       "          + ' to learn more about interactive tables.';\n",
       "        element.innerHTML = '';\n",
       "        dataTable['output_type'] = 'display_data';\n",
       "        await google.colab.output.renderOutput(dataTable, element);\n",
       "        const docLink = document.createElement('div');\n",
       "        docLink.innerHTML = docLinkHtml;\n",
       "        element.appendChild(docLink);\n",
       "      }\n",
       "    </script>\n",
       "  </div>\n",
       "\n",
       "\n",
       "<div id=\"df-e334db0a-0aef-438d-8e59-3594bb95d7e3\">\n",
       "  <button class=\"colab-df-quickchart\" onclick=\"quickchart('df-e334db0a-0aef-438d-8e59-3594bb95d7e3')\"\n",
       "            title=\"Suggest charts\"\n",
       "            style=\"display:none;\">\n",
       "\n",
       "<svg xmlns=\"http://www.w3.org/2000/svg\" height=\"24px\"viewBox=\"0 0 24 24\"\n",
       "     width=\"24px\">\n",
       "    <g>\n",
       "        <path d=\"M19 3H5c-1.1 0-2 .9-2 2v14c0 1.1.9 2 2 2h14c1.1 0 2-.9 2-2V5c0-1.1-.9-2-2-2zM9 17H7v-7h2v7zm4 0h-2V7h2v10zm4 0h-2v-4h2v4z\"/>\n",
       "    </g>\n",
       "</svg>\n",
       "  </button>\n",
       "\n",
       "<style>\n",
       "  .colab-df-quickchart {\n",
       "      --bg-color: #E8F0FE;\n",
       "      --fill-color: #1967D2;\n",
       "      --hover-bg-color: #E2EBFA;\n",
       "      --hover-fill-color: #174EA6;\n",
       "      --disabled-fill-color: #AAA;\n",
       "      --disabled-bg-color: #DDD;\n",
       "  }\n",
       "\n",
       "  [theme=dark] .colab-df-quickchart {\n",
       "      --bg-color: #3B4455;\n",
       "      --fill-color: #D2E3FC;\n",
       "      --hover-bg-color: #434B5C;\n",
       "      --hover-fill-color: #FFFFFF;\n",
       "      --disabled-bg-color: #3B4455;\n",
       "      --disabled-fill-color: #666;\n",
       "  }\n",
       "\n",
       "  .colab-df-quickchart {\n",
       "    background-color: var(--bg-color);\n",
       "    border: none;\n",
       "    border-radius: 50%;\n",
       "    cursor: pointer;\n",
       "    display: none;\n",
       "    fill: var(--fill-color);\n",
       "    height: 32px;\n",
       "    padding: 0;\n",
       "    width: 32px;\n",
       "  }\n",
       "\n",
       "  .colab-df-quickchart:hover {\n",
       "    background-color: var(--hover-bg-color);\n",
       "    box-shadow: 0 1px 2px rgba(60, 64, 67, 0.3), 0 1px 3px 1px rgba(60, 64, 67, 0.15);\n",
       "    fill: var(--button-hover-fill-color);\n",
       "  }\n",
       "\n",
       "  .colab-df-quickchart-complete:disabled,\n",
       "  .colab-df-quickchart-complete:disabled:hover {\n",
       "    background-color: var(--disabled-bg-color);\n",
       "    fill: var(--disabled-fill-color);\n",
       "    box-shadow: none;\n",
       "  }\n",
       "\n",
       "  .colab-df-spinner {\n",
       "    border: 2px solid var(--fill-color);\n",
       "    border-color: transparent;\n",
       "    border-bottom-color: var(--fill-color);\n",
       "    animation:\n",
       "      spin 1s steps(1) infinite;\n",
       "  }\n",
       "\n",
       "  @keyframes spin {\n",
       "    0% {\n",
       "      border-color: transparent;\n",
       "      border-bottom-color: var(--fill-color);\n",
       "      border-left-color: var(--fill-color);\n",
       "    }\n",
       "    20% {\n",
       "      border-color: transparent;\n",
       "      border-left-color: var(--fill-color);\n",
       "      border-top-color: var(--fill-color);\n",
       "    }\n",
       "    30% {\n",
       "      border-color: transparent;\n",
       "      border-left-color: var(--fill-color);\n",
       "      border-top-color: var(--fill-color);\n",
       "      border-right-color: var(--fill-color);\n",
       "    }\n",
       "    40% {\n",
       "      border-color: transparent;\n",
       "      border-right-color: var(--fill-color);\n",
       "      border-top-color: var(--fill-color);\n",
       "    }\n",
       "    60% {\n",
       "      border-color: transparent;\n",
       "      border-right-color: var(--fill-color);\n",
       "    }\n",
       "    80% {\n",
       "      border-color: transparent;\n",
       "      border-right-color: var(--fill-color);\n",
       "      border-bottom-color: var(--fill-color);\n",
       "    }\n",
       "    90% {\n",
       "      border-color: transparent;\n",
       "      border-bottom-color: var(--fill-color);\n",
       "    }\n",
       "  }\n",
       "</style>\n",
       "\n",
       "  <script>\n",
       "    async function quickchart(key) {\n",
       "      const quickchartButtonEl =\n",
       "        document.querySelector('#' + key + ' button');\n",
       "      quickchartButtonEl.disabled = true;  // To prevent multiple clicks.\n",
       "      quickchartButtonEl.classList.add('colab-df-spinner');\n",
       "      try {\n",
       "        const charts = await google.colab.kernel.invokeFunction(\n",
       "            'suggestCharts', [key], {});\n",
       "      } catch (error) {\n",
       "        console.error('Error during call to suggestCharts:', error);\n",
       "      }\n",
       "      quickchartButtonEl.classList.remove('colab-df-spinner');\n",
       "      quickchartButtonEl.classList.add('colab-df-quickchart-complete');\n",
       "    }\n",
       "    (() => {\n",
       "      let quickchartButtonEl =\n",
       "        document.querySelector('#df-e334db0a-0aef-438d-8e59-3594bb95d7e3 button');\n",
       "      quickchartButtonEl.style.display =\n",
       "        google.colab.kernel.accessAllowed ? 'block' : 'none';\n",
       "    })();\n",
       "  </script>\n",
       "</div>\n",
       "\n",
       "    </div>\n",
       "  </div>\n"
      ],
      "text/plain": [
       "                                              review sentiment\n",
       "0  One of the other reviewers has mentioned that ...  positive\n",
       "1  A wonderful little production. <br /><br />The...  positive\n",
       "2  I thought this was a wonderful way to spend ti...  positive\n",
       "3  Basically there's a family where a little boy ...  negative\n",
       "4  Petter Mattei's \"Love in the Time of Money\" is...  positive"
      ]
     },
     "execution_count": 213,
     "metadata": {},
     "output_type": "execute_result"
    }
   ],
   "source": [
    "df = pd.read_csv(\"/content/IMDB Dataset.csv\", nrows=50000)\n",
    "print(df.shape)\n",
    "df.head()"
   ]
  },
  {
   "cell_type": "code",
   "execution_count": 214,
   "id": "1bd34994",
   "metadata": {
    "colab": {
     "base_uri": "https://localhost:8080/"
    },
    "id": "1bd34994",
    "outputId": "aea98515-6043-420b-a019-c66667a9aafa"
   },
   "outputs": [
    {
     "data": {
      "text/plain": [
       "positive    25000\n",
       "negative    25000\n",
       "Name: sentiment, dtype: int64"
      ]
     },
     "execution_count": 214,
     "metadata": {},
     "output_type": "execute_result"
    }
   ],
   "source": [
    "df['sentiment'].value_counts()"
   ]
  },
  {
   "cell_type": "markdown",
   "id": "040a3aad",
   "metadata": {},
   "source": [
    "## Preprocessing & Cleaning"
   ]
  },
  {
   "cell_type": "code",
   "execution_count": 217,
   "id": "2680c1ff",
   "metadata": {
    "colab": {
     "base_uri": "https://localhost:8080/",
     "height": 71
    },
    "id": "2680c1ff",
    "outputId": "64a01b2a-f04f-49e3-e8c6-f416ea8dd594"
   },
   "outputs": [
    {
     "data": {
      "application/vnd.google.colaboratory.intrinsic+json": {
       "type": "string"
      },
      "text/plain": [
       "\"Basically there's a family where a little boy (Jake) thinks there's a zombie in his closet & his parents are fighting all the time.<br /><br />This movie is slower than a soap opera... and suddenly, Jake decides to become Rambo and kill the zombie.<br /><br />OK, first of all when you're going to make a film you must Decide if its a thriller or a drama! As a drama the movie is watchable. Parents are divorcing & arguing like in real life. And then we have Jake with his closet which totally ruins all the film! I expected to see a BOOGEYMAN similar movie, and instead i watched a drama with some meaningless thriller spots.<br /><br />3 out of 10 just for the well playing parents & descent dialogs. As for the shots with Jake: just ignore them.\""
      ]
     },
     "execution_count": 217,
     "metadata": {},
     "output_type": "execute_result"
    }
   ],
   "source": [
    "sample_test = df['review'][3]\n",
    "sample_test"
   ]
  },
  {
   "cell_type": "code",
   "execution_count": 218,
   "id": "264afa47",
   "metadata": {
    "id": "264afa47"
   },
   "outputs": [],
   "source": [
    "def preprocess(text):\n",
    "    doc = nlp(text)\n",
    "    filtered_word = []\n",
    "    for token in doc:\n",
    "        if not token.is_stop and not token.is_punct and token.is_alpha:\n",
    "            filtered_word.append(token.lemma_.lower())\n",
    "    return \" \".join(filtered_word)"
   ]
  },
  {
   "cell_type": "code",
   "execution_count": 219,
   "id": "930182c2",
   "metadata": {
    "colab": {
     "base_uri": "https://localhost:8080/",
     "height": 53
    },
    "id": "930182c2",
    "outputId": "65d7554b-8cdd-4167-8878-8bd701ce79ee"
   },
   "outputs": [
    {
     "data": {
      "application/vnd.google.colaboratory.intrinsic+json": {
       "type": "string"
      },
      "text/plain": [
       "'basically family little boy jake think zombie closet parent fight movie slow soap opera suddenly jake decide rambo kill go film decide thriller drama drama movie watchable parent divorcing argue like real life jake closet totally ruin film expect boogeyman similar movie instead watch drama meaningless thriller play parent descent dialog shot jake ignore'"
      ]
     },
     "execution_count": 219,
     "metadata": {},
     "output_type": "execute_result"
    }
   ],
   "source": [
    "preprocess(sample_test)"
   ]
  },
  {
   "cell_type": "code",
   "execution_count": 220,
   "id": "ed2e36c8",
   "metadata": {
    "colab": {
     "base_uri": "https://localhost:8080/",
     "height": 144
    },
    "id": "ed2e36c8",
    "outputId": "dc030a94-669c-45a8-a00d-2928df358676"
   },
   "outputs": [
    {
     "data": {
      "text/html": [
       "\n",
       "  <div id=\"df-77f7322b-eaed-470d-8e0e-f4533cfb2aad\" class=\"colab-df-container\">\n",
       "    <div>\n",
       "<style scoped>\n",
       "    .dataframe tbody tr th:only-of-type {\n",
       "        vertical-align: middle;\n",
       "    }\n",
       "\n",
       "    .dataframe tbody tr th {\n",
       "        vertical-align: top;\n",
       "    }\n",
       "\n",
       "    .dataframe thead th {\n",
       "        text-align: right;\n",
       "    }\n",
       "</style>\n",
       "<table border=\"1\" class=\"dataframe\">\n",
       "  <thead>\n",
       "    <tr style=\"text-align: right;\">\n",
       "      <th></th>\n",
       "      <th>review</th>\n",
       "      <th>sentiment</th>\n",
       "      <th>preprocessed_review</th>\n",
       "    </tr>\n",
       "  </thead>\n",
       "  <tbody>\n",
       "    <tr>\n",
       "      <th>0</th>\n",
       "      <td>One of the other reviewers has mentioned that ...</td>\n",
       "      <td>positive</td>\n",
       "      <td>reviewer mention watch oz episode hook right e...</td>\n",
       "    </tr>\n",
       "    <tr>\n",
       "      <th>1</th>\n",
       "      <td>A wonderful little production. &lt;br /&gt;&lt;br /&gt;The...</td>\n",
       "      <td>positive</td>\n",
       "      <td>wonderful little production br filming techniq...</td>\n",
       "    </tr>\n",
       "    <tr>\n",
       "      <th>2</th>\n",
       "      <td>I thought this was a wonderful way to spend ti...</td>\n",
       "      <td>positive</td>\n",
       "      <td>think wonderful way spend time hot summer week...</td>\n",
       "    </tr>\n",
       "  </tbody>\n",
       "</table>\n",
       "</div>\n",
       "    <div class=\"colab-df-buttons\">\n",
       "\n",
       "  <div class=\"colab-df-container\">\n",
       "    <button class=\"colab-df-convert\" onclick=\"convertToInteractive('df-77f7322b-eaed-470d-8e0e-f4533cfb2aad')\"\n",
       "            title=\"Convert this dataframe to an interactive table.\"\n",
       "            style=\"display:none;\">\n",
       "\n",
       "  <svg xmlns=\"http://www.w3.org/2000/svg\" height=\"24px\" viewBox=\"0 -960 960 960\">\n",
       "    <path d=\"M120-120v-720h720v720H120Zm60-500h600v-160H180v160Zm220 220h160v-160H400v160Zm0 220h160v-160H400v160ZM180-400h160v-160H180v160Zm440 0h160v-160H620v160ZM180-180h160v-160H180v160Zm440 0h160v-160H620v160Z\"/>\n",
       "  </svg>\n",
       "    </button>\n",
       "\n",
       "  <style>\n",
       "    .colab-df-container {\n",
       "      display:flex;\n",
       "      gap: 12px;\n",
       "    }\n",
       "\n",
       "    .colab-df-convert {\n",
       "      background-color: #E8F0FE;\n",
       "      border: none;\n",
       "      border-radius: 50%;\n",
       "      cursor: pointer;\n",
       "      display: none;\n",
       "      fill: #1967D2;\n",
       "      height: 32px;\n",
       "      padding: 0 0 0 0;\n",
       "      width: 32px;\n",
       "    }\n",
       "\n",
       "    .colab-df-convert:hover {\n",
       "      background-color: #E2EBFA;\n",
       "      box-shadow: 0px 1px 2px rgba(60, 64, 67, 0.3), 0px 1px 3px 1px rgba(60, 64, 67, 0.15);\n",
       "      fill: #174EA6;\n",
       "    }\n",
       "\n",
       "    .colab-df-buttons div {\n",
       "      margin-bottom: 4px;\n",
       "    }\n",
       "\n",
       "    [theme=dark] .colab-df-convert {\n",
       "      background-color: #3B4455;\n",
       "      fill: #D2E3FC;\n",
       "    }\n",
       "\n",
       "    [theme=dark] .colab-df-convert:hover {\n",
       "      background-color: #434B5C;\n",
       "      box-shadow: 0px 1px 3px 1px rgba(0, 0, 0, 0.15);\n",
       "      filter: drop-shadow(0px 1px 2px rgba(0, 0, 0, 0.3));\n",
       "      fill: #FFFFFF;\n",
       "    }\n",
       "  </style>\n",
       "\n",
       "    <script>\n",
       "      const buttonEl =\n",
       "        document.querySelector('#df-77f7322b-eaed-470d-8e0e-f4533cfb2aad button.colab-df-convert');\n",
       "      buttonEl.style.display =\n",
       "        google.colab.kernel.accessAllowed ? 'block' : 'none';\n",
       "\n",
       "      async function convertToInteractive(key) {\n",
       "        const element = document.querySelector('#df-77f7322b-eaed-470d-8e0e-f4533cfb2aad');\n",
       "        const dataTable =\n",
       "          await google.colab.kernel.invokeFunction('convertToInteractive',\n",
       "                                                    [key], {});\n",
       "        if (!dataTable) return;\n",
       "\n",
       "        const docLinkHtml = 'Like what you see? Visit the ' +\n",
       "          '<a target=\"_blank\" href=https://colab.research.google.com/notebooks/data_table.ipynb>data table notebook</a>'\n",
       "          + ' to learn more about interactive tables.';\n",
       "        element.innerHTML = '';\n",
       "        dataTable['output_type'] = 'display_data';\n",
       "        await google.colab.output.renderOutput(dataTable, element);\n",
       "        const docLink = document.createElement('div');\n",
       "        docLink.innerHTML = docLinkHtml;\n",
       "        element.appendChild(docLink);\n",
       "      }\n",
       "    </script>\n",
       "  </div>\n",
       "\n",
       "\n",
       "<div id=\"df-8829612a-e044-4f3f-ac83-0e6fdbcb06c1\">\n",
       "  <button class=\"colab-df-quickchart\" onclick=\"quickchart('df-8829612a-e044-4f3f-ac83-0e6fdbcb06c1')\"\n",
       "            title=\"Suggest charts\"\n",
       "            style=\"display:none;\">\n",
       "\n",
       "<svg xmlns=\"http://www.w3.org/2000/svg\" height=\"24px\"viewBox=\"0 0 24 24\"\n",
       "     width=\"24px\">\n",
       "    <g>\n",
       "        <path d=\"M19 3H5c-1.1 0-2 .9-2 2v14c0 1.1.9 2 2 2h14c1.1 0 2-.9 2-2V5c0-1.1-.9-2-2-2zM9 17H7v-7h2v7zm4 0h-2V7h2v10zm4 0h-2v-4h2v4z\"/>\n",
       "    </g>\n",
       "</svg>\n",
       "  </button>\n",
       "\n",
       "<style>\n",
       "  .colab-df-quickchart {\n",
       "      --bg-color: #E8F0FE;\n",
       "      --fill-color: #1967D2;\n",
       "      --hover-bg-color: #E2EBFA;\n",
       "      --hover-fill-color: #174EA6;\n",
       "      --disabled-fill-color: #AAA;\n",
       "      --disabled-bg-color: #DDD;\n",
       "  }\n",
       "\n",
       "  [theme=dark] .colab-df-quickchart {\n",
       "      --bg-color: #3B4455;\n",
       "      --fill-color: #D2E3FC;\n",
       "      --hover-bg-color: #434B5C;\n",
       "      --hover-fill-color: #FFFFFF;\n",
       "      --disabled-bg-color: #3B4455;\n",
       "      --disabled-fill-color: #666;\n",
       "  }\n",
       "\n",
       "  .colab-df-quickchart {\n",
       "    background-color: var(--bg-color);\n",
       "    border: none;\n",
       "    border-radius: 50%;\n",
       "    cursor: pointer;\n",
       "    display: none;\n",
       "    fill: var(--fill-color);\n",
       "    height: 32px;\n",
       "    padding: 0;\n",
       "    width: 32px;\n",
       "  }\n",
       "\n",
       "  .colab-df-quickchart:hover {\n",
       "    background-color: var(--hover-bg-color);\n",
       "    box-shadow: 0 1px 2px rgba(60, 64, 67, 0.3), 0 1px 3px 1px rgba(60, 64, 67, 0.15);\n",
       "    fill: var(--button-hover-fill-color);\n",
       "  }\n",
       "\n",
       "  .colab-df-quickchart-complete:disabled,\n",
       "  .colab-df-quickchart-complete:disabled:hover {\n",
       "    background-color: var(--disabled-bg-color);\n",
       "    fill: var(--disabled-fill-color);\n",
       "    box-shadow: none;\n",
       "  }\n",
       "\n",
       "  .colab-df-spinner {\n",
       "    border: 2px solid var(--fill-color);\n",
       "    border-color: transparent;\n",
       "    border-bottom-color: var(--fill-color);\n",
       "    animation:\n",
       "      spin 1s steps(1) infinite;\n",
       "  }\n",
       "\n",
       "  @keyframes spin {\n",
       "    0% {\n",
       "      border-color: transparent;\n",
       "      border-bottom-color: var(--fill-color);\n",
       "      border-left-color: var(--fill-color);\n",
       "    }\n",
       "    20% {\n",
       "      border-color: transparent;\n",
       "      border-left-color: var(--fill-color);\n",
       "      border-top-color: var(--fill-color);\n",
       "    }\n",
       "    30% {\n",
       "      border-color: transparent;\n",
       "      border-left-color: var(--fill-color);\n",
       "      border-top-color: var(--fill-color);\n",
       "      border-right-color: var(--fill-color);\n",
       "    }\n",
       "    40% {\n",
       "      border-color: transparent;\n",
       "      border-right-color: var(--fill-color);\n",
       "      border-top-color: var(--fill-color);\n",
       "    }\n",
       "    60% {\n",
       "      border-color: transparent;\n",
       "      border-right-color: var(--fill-color);\n",
       "    }\n",
       "    80% {\n",
       "      border-color: transparent;\n",
       "      border-right-color: var(--fill-color);\n",
       "      border-bottom-color: var(--fill-color);\n",
       "    }\n",
       "    90% {\n",
       "      border-color: transparent;\n",
       "      border-bottom-color: var(--fill-color);\n",
       "    }\n",
       "  }\n",
       "</style>\n",
       "\n",
       "  <script>\n",
       "    async function quickchart(key) {\n",
       "      const quickchartButtonEl =\n",
       "        document.querySelector('#' + key + ' button');\n",
       "      quickchartButtonEl.disabled = true;  // To prevent multiple clicks.\n",
       "      quickchartButtonEl.classList.add('colab-df-spinner');\n",
       "      try {\n",
       "        const charts = await google.colab.kernel.invokeFunction(\n",
       "            'suggestCharts', [key], {});\n",
       "      } catch (error) {\n",
       "        console.error('Error during call to suggestCharts:', error);\n",
       "      }\n",
       "      quickchartButtonEl.classList.remove('colab-df-spinner');\n",
       "      quickchartButtonEl.classList.add('colab-df-quickchart-complete');\n",
       "    }\n",
       "    (() => {\n",
       "      let quickchartButtonEl =\n",
       "        document.querySelector('#df-8829612a-e044-4f3f-ac83-0e6fdbcb06c1 button');\n",
       "      quickchartButtonEl.style.display =\n",
       "        google.colab.kernel.accessAllowed ? 'block' : 'none';\n",
       "    })();\n",
       "  </script>\n",
       "</div>\n",
       "\n",
       "    </div>\n",
       "  </div>\n"
      ],
      "text/plain": [
       "                                              review sentiment  \\\n",
       "0  One of the other reviewers has mentioned that ...  positive   \n",
       "1  A wonderful little production. <br /><br />The...  positive   \n",
       "2  I thought this was a wonderful way to spend ti...  positive   \n",
       "\n",
       "                                 preprocessed_review  \n",
       "0  reviewer mention watch oz episode hook right e...  \n",
       "1  wonderful little production br filming techniq...  \n",
       "2  think wonderful way spend time hot summer week...  "
      ]
     },
     "execution_count": 220,
     "metadata": {},
     "output_type": "execute_result"
    }
   ],
   "source": [
    "df['preprocessed_review'] = df['review'].apply(preprocess)\n",
    "df.head(3)"
   ]
  },
  {
   "cell_type": "code",
   "execution_count": 221,
   "id": "d076b777",
   "metadata": {
    "colab": {
     "base_uri": "https://localhost:8080/",
     "height": 53
    },
    "id": "d076b777",
    "outputId": "22abe50c-1fc8-4fcb-e76b-91904eefe786"
   },
   "outputs": [
    {
     "data": {
      "application/vnd.google.colaboratory.intrinsic+json": {
       "type": "string"
      },
      "text/plain": [
       "'basically family little boy jake think zombie closet parent fight movie slow soap opera suddenly jake decide rambo kill go film decide thriller drama drama movie watchable parent divorcing argue like real life jake closet totally ruin film expect boogeyman similar movie instead watch drama meaningless thriller play parent descent dialog shot jake ignore'"
      ]
     },
     "execution_count": 221,
     "metadata": {},
     "output_type": "execute_result"
    }
   ],
   "source": [
    "df['preprocessed_review'][3]"
   ]
  },
  {
   "cell_type": "code",
   "execution_count": 222,
   "id": "6caa1962",
   "metadata": {
    "colab": {
     "base_uri": "https://localhost:8080/",
     "height": 53
    },
    "id": "6caa1962",
    "outputId": "c8045ff6-ba6a-4171-a260-0a5ffda83709"
   },
   "outputs": [
    {
     "data": {
      "application/vnd.google.colaboratory.intrinsic+json": {
       "type": "string"
      },
      "text/plain": [
       "'__label__negative basically family little boy jake think zombie closet parent fight movie slow soap opera suddenly jake decide rambo kill go film decide thriller drama drama movie watchable parent divorcing argue like real life jake closet totally ruin film expect boogeyman similar movie instead watch drama meaningless thriller play parent descent dialog shot jake ignore'"
      ]
     },
     "execution_count": 222,
     "metadata": {},
     "output_type": "execute_result"
    }
   ],
   "source": [
    "df['final_text'] = \"__label__\"+ df['sentiment']+ \" \"+ df['preprocessed_review']\n",
    "df['final_text'][3]\n",
    "\n",
    "# For FastText Supervised Training the Target will be add with the begining of the training text \"__Label__\" + Text"
   ]
  },
  {
   "cell_type": "code",
   "execution_count": 223,
   "id": "7d705623",
   "metadata": {
    "colab": {
     "base_uri": "https://localhost:8080/",
     "height": 206
    },
    "id": "7d705623",
    "outputId": "c15cc4f9-9d0f-4f4a-ac65-6ece6e90d040"
   },
   "outputs": [
    {
     "data": {
      "text/html": [
       "\n",
       "  <div id=\"df-68bce299-0805-499f-af5b-efa738ce631f\" class=\"colab-df-container\">\n",
       "    <div>\n",
       "<style scoped>\n",
       "    .dataframe tbody tr th:only-of-type {\n",
       "        vertical-align: middle;\n",
       "    }\n",
       "\n",
       "    .dataframe tbody tr th {\n",
       "        vertical-align: top;\n",
       "    }\n",
       "\n",
       "    .dataframe thead th {\n",
       "        text-align: right;\n",
       "    }\n",
       "</style>\n",
       "<table border=\"1\" class=\"dataframe\">\n",
       "  <thead>\n",
       "    <tr style=\"text-align: right;\">\n",
       "      <th></th>\n",
       "      <th>review</th>\n",
       "      <th>sentiment</th>\n",
       "      <th>preprocessed_review</th>\n",
       "      <th>final_text</th>\n",
       "    </tr>\n",
       "  </thead>\n",
       "  <tbody>\n",
       "    <tr>\n",
       "      <th>0</th>\n",
       "      <td>One of the other reviewers has mentioned that ...</td>\n",
       "      <td>positive</td>\n",
       "      <td>reviewer mention watch oz episode hook right e...</td>\n",
       "      <td>__label__positive reviewer mention watch oz ep...</td>\n",
       "    </tr>\n",
       "    <tr>\n",
       "      <th>1</th>\n",
       "      <td>A wonderful little production. &lt;br /&gt;&lt;br /&gt;The...</td>\n",
       "      <td>positive</td>\n",
       "      <td>wonderful little production br filming techniq...</td>\n",
       "      <td>__label__positive wonderful little production ...</td>\n",
       "    </tr>\n",
       "    <tr>\n",
       "      <th>2</th>\n",
       "      <td>I thought this was a wonderful way to spend ti...</td>\n",
       "      <td>positive</td>\n",
       "      <td>think wonderful way spend time hot summer week...</td>\n",
       "      <td>__label__positive think wonderful way spend ti...</td>\n",
       "    </tr>\n",
       "    <tr>\n",
       "      <th>3</th>\n",
       "      <td>Basically there's a family where a little boy ...</td>\n",
       "      <td>negative</td>\n",
       "      <td>basically family little boy jake think zombie ...</td>\n",
       "      <td>__label__negative basically family little boy ...</td>\n",
       "    </tr>\n",
       "    <tr>\n",
       "      <th>4</th>\n",
       "      <td>Petter Mattei's \"Love in the Time of Money\" is...</td>\n",
       "      <td>positive</td>\n",
       "      <td>petter mattei love time money visually stunnin...</td>\n",
       "      <td>__label__positive petter mattei love time mone...</td>\n",
       "    </tr>\n",
       "  </tbody>\n",
       "</table>\n",
       "</div>\n",
       "    <div class=\"colab-df-buttons\">\n",
       "\n",
       "  <div class=\"colab-df-container\">\n",
       "    <button class=\"colab-df-convert\" onclick=\"convertToInteractive('df-68bce299-0805-499f-af5b-efa738ce631f')\"\n",
       "            title=\"Convert this dataframe to an interactive table.\"\n",
       "            style=\"display:none;\">\n",
       "\n",
       "  <svg xmlns=\"http://www.w3.org/2000/svg\" height=\"24px\" viewBox=\"0 -960 960 960\">\n",
       "    <path d=\"M120-120v-720h720v720H120Zm60-500h600v-160H180v160Zm220 220h160v-160H400v160Zm0 220h160v-160H400v160ZM180-400h160v-160H180v160Zm440 0h160v-160H620v160ZM180-180h160v-160H180v160Zm440 0h160v-160H620v160Z\"/>\n",
       "  </svg>\n",
       "    </button>\n",
       "\n",
       "  <style>\n",
       "    .colab-df-container {\n",
       "      display:flex;\n",
       "      gap: 12px;\n",
       "    }\n",
       "\n",
       "    .colab-df-convert {\n",
       "      background-color: #E8F0FE;\n",
       "      border: none;\n",
       "      border-radius: 50%;\n",
       "      cursor: pointer;\n",
       "      display: none;\n",
       "      fill: #1967D2;\n",
       "      height: 32px;\n",
       "      padding: 0 0 0 0;\n",
       "      width: 32px;\n",
       "    }\n",
       "\n",
       "    .colab-df-convert:hover {\n",
       "      background-color: #E2EBFA;\n",
       "      box-shadow: 0px 1px 2px rgba(60, 64, 67, 0.3), 0px 1px 3px 1px rgba(60, 64, 67, 0.15);\n",
       "      fill: #174EA6;\n",
       "    }\n",
       "\n",
       "    .colab-df-buttons div {\n",
       "      margin-bottom: 4px;\n",
       "    }\n",
       "\n",
       "    [theme=dark] .colab-df-convert {\n",
       "      background-color: #3B4455;\n",
       "      fill: #D2E3FC;\n",
       "    }\n",
       "\n",
       "    [theme=dark] .colab-df-convert:hover {\n",
       "      background-color: #434B5C;\n",
       "      box-shadow: 0px 1px 3px 1px rgba(0, 0, 0, 0.15);\n",
       "      filter: drop-shadow(0px 1px 2px rgba(0, 0, 0, 0.3));\n",
       "      fill: #FFFFFF;\n",
       "    }\n",
       "  </style>\n",
       "\n",
       "    <script>\n",
       "      const buttonEl =\n",
       "        document.querySelector('#df-68bce299-0805-499f-af5b-efa738ce631f button.colab-df-convert');\n",
       "      buttonEl.style.display =\n",
       "        google.colab.kernel.accessAllowed ? 'block' : 'none';\n",
       "\n",
       "      async function convertToInteractive(key) {\n",
       "        const element = document.querySelector('#df-68bce299-0805-499f-af5b-efa738ce631f');\n",
       "        const dataTable =\n",
       "          await google.colab.kernel.invokeFunction('convertToInteractive',\n",
       "                                                    [key], {});\n",
       "        if (!dataTable) return;\n",
       "\n",
       "        const docLinkHtml = 'Like what you see? Visit the ' +\n",
       "          '<a target=\"_blank\" href=https://colab.research.google.com/notebooks/data_table.ipynb>data table notebook</a>'\n",
       "          + ' to learn more about interactive tables.';\n",
       "        element.innerHTML = '';\n",
       "        dataTable['output_type'] = 'display_data';\n",
       "        await google.colab.output.renderOutput(dataTable, element);\n",
       "        const docLink = document.createElement('div');\n",
       "        docLink.innerHTML = docLinkHtml;\n",
       "        element.appendChild(docLink);\n",
       "      }\n",
       "    </script>\n",
       "  </div>\n",
       "\n",
       "\n",
       "<div id=\"df-b373d555-8be6-4045-92a4-9ac00ddbbf6b\">\n",
       "  <button class=\"colab-df-quickchart\" onclick=\"quickchart('df-b373d555-8be6-4045-92a4-9ac00ddbbf6b')\"\n",
       "            title=\"Suggest charts\"\n",
       "            style=\"display:none;\">\n",
       "\n",
       "<svg xmlns=\"http://www.w3.org/2000/svg\" height=\"24px\"viewBox=\"0 0 24 24\"\n",
       "     width=\"24px\">\n",
       "    <g>\n",
       "        <path d=\"M19 3H5c-1.1 0-2 .9-2 2v14c0 1.1.9 2 2 2h14c1.1 0 2-.9 2-2V5c0-1.1-.9-2-2-2zM9 17H7v-7h2v7zm4 0h-2V7h2v10zm4 0h-2v-4h2v4z\"/>\n",
       "    </g>\n",
       "</svg>\n",
       "  </button>\n",
       "\n",
       "<style>\n",
       "  .colab-df-quickchart {\n",
       "      --bg-color: #E8F0FE;\n",
       "      --fill-color: #1967D2;\n",
       "      --hover-bg-color: #E2EBFA;\n",
       "      --hover-fill-color: #174EA6;\n",
       "      --disabled-fill-color: #AAA;\n",
       "      --disabled-bg-color: #DDD;\n",
       "  }\n",
       "\n",
       "  [theme=dark] .colab-df-quickchart {\n",
       "      --bg-color: #3B4455;\n",
       "      --fill-color: #D2E3FC;\n",
       "      --hover-bg-color: #434B5C;\n",
       "      --hover-fill-color: #FFFFFF;\n",
       "      --disabled-bg-color: #3B4455;\n",
       "      --disabled-fill-color: #666;\n",
       "  }\n",
       "\n",
       "  .colab-df-quickchart {\n",
       "    background-color: var(--bg-color);\n",
       "    border: none;\n",
       "    border-radius: 50%;\n",
       "    cursor: pointer;\n",
       "    display: none;\n",
       "    fill: var(--fill-color);\n",
       "    height: 32px;\n",
       "    padding: 0;\n",
       "    width: 32px;\n",
       "  }\n",
       "\n",
       "  .colab-df-quickchart:hover {\n",
       "    background-color: var(--hover-bg-color);\n",
       "    box-shadow: 0 1px 2px rgba(60, 64, 67, 0.3), 0 1px 3px 1px rgba(60, 64, 67, 0.15);\n",
       "    fill: var(--button-hover-fill-color);\n",
       "  }\n",
       "\n",
       "  .colab-df-quickchart-complete:disabled,\n",
       "  .colab-df-quickchart-complete:disabled:hover {\n",
       "    background-color: var(--disabled-bg-color);\n",
       "    fill: var(--disabled-fill-color);\n",
       "    box-shadow: none;\n",
       "  }\n",
       "\n",
       "  .colab-df-spinner {\n",
       "    border: 2px solid var(--fill-color);\n",
       "    border-color: transparent;\n",
       "    border-bottom-color: var(--fill-color);\n",
       "    animation:\n",
       "      spin 1s steps(1) infinite;\n",
       "  }\n",
       "\n",
       "  @keyframes spin {\n",
       "    0% {\n",
       "      border-color: transparent;\n",
       "      border-bottom-color: var(--fill-color);\n",
       "      border-left-color: var(--fill-color);\n",
       "    }\n",
       "    20% {\n",
       "      border-color: transparent;\n",
       "      border-left-color: var(--fill-color);\n",
       "      border-top-color: var(--fill-color);\n",
       "    }\n",
       "    30% {\n",
       "      border-color: transparent;\n",
       "      border-left-color: var(--fill-color);\n",
       "      border-top-color: var(--fill-color);\n",
       "      border-right-color: var(--fill-color);\n",
       "    }\n",
       "    40% {\n",
       "      border-color: transparent;\n",
       "      border-right-color: var(--fill-color);\n",
       "      border-top-color: var(--fill-color);\n",
       "    }\n",
       "    60% {\n",
       "      border-color: transparent;\n",
       "      border-right-color: var(--fill-color);\n",
       "    }\n",
       "    80% {\n",
       "      border-color: transparent;\n",
       "      border-right-color: var(--fill-color);\n",
       "      border-bottom-color: var(--fill-color);\n",
       "    }\n",
       "    90% {\n",
       "      border-color: transparent;\n",
       "      border-bottom-color: var(--fill-color);\n",
       "    }\n",
       "  }\n",
       "</style>\n",
       "\n",
       "  <script>\n",
       "    async function quickchart(key) {\n",
       "      const quickchartButtonEl =\n",
       "        document.querySelector('#' + key + ' button');\n",
       "      quickchartButtonEl.disabled = true;  // To prevent multiple clicks.\n",
       "      quickchartButtonEl.classList.add('colab-df-spinner');\n",
       "      try {\n",
       "        const charts = await google.colab.kernel.invokeFunction(\n",
       "            'suggestCharts', [key], {});\n",
       "      } catch (error) {\n",
       "        console.error('Error during call to suggestCharts:', error);\n",
       "      }\n",
       "      quickchartButtonEl.classList.remove('colab-df-spinner');\n",
       "      quickchartButtonEl.classList.add('colab-df-quickchart-complete');\n",
       "    }\n",
       "    (() => {\n",
       "      let quickchartButtonEl =\n",
       "        document.querySelector('#df-b373d555-8be6-4045-92a4-9ac00ddbbf6b button');\n",
       "      quickchartButtonEl.style.display =\n",
       "        google.colab.kernel.accessAllowed ? 'block' : 'none';\n",
       "    })();\n",
       "  </script>\n",
       "</div>\n",
       "\n",
       "    </div>\n",
       "  </div>\n"
      ],
      "text/plain": [
       "                                              review sentiment  \\\n",
       "0  One of the other reviewers has mentioned that ...  positive   \n",
       "1  A wonderful little production. <br /><br />The...  positive   \n",
       "2  I thought this was a wonderful way to spend ti...  positive   \n",
       "3  Basically there's a family where a little boy ...  negative   \n",
       "4  Petter Mattei's \"Love in the Time of Money\" is...  positive   \n",
       "\n",
       "                                 preprocessed_review  \\\n",
       "0  reviewer mention watch oz episode hook right e...   \n",
       "1  wonderful little production br filming techniq...   \n",
       "2  think wonderful way spend time hot summer week...   \n",
       "3  basically family little boy jake think zombie ...   \n",
       "4  petter mattei love time money visually stunnin...   \n",
       "\n",
       "                                          final_text  \n",
       "0  __label__positive reviewer mention watch oz ep...  \n",
       "1  __label__positive wonderful little production ...  \n",
       "2  __label__positive think wonderful way spend ti...  \n",
       "3  __label__negative basically family little boy ...  \n",
       "4  __label__positive petter mattei love time mone...  "
      ]
     },
     "execution_count": 223,
     "metadata": {},
     "output_type": "execute_result"
    }
   ],
   "source": [
    "df.head()"
   ]
  },
  {
   "cell_type": "markdown",
   "id": "029e00e4",
   "metadata": {
    "id": "1c334824"
   },
   "source": [
    "## Splitting Train, Test"
   ]
  },
  {
   "cell_type": "code",
   "execution_count": 226,
   "id": "a9a8a74a",
   "metadata": {
    "id": "a9a8a74a"
   },
   "outputs": [],
   "source": [
    "train, test = train_test_split(df, test_size = 0.2)"
   ]
  },
  {
   "cell_type": "code",
   "execution_count": 227,
   "id": "2af58c94",
   "metadata": {
    "colab": {
     "base_uri": "https://localhost:8080/"
    },
    "id": "2af58c94",
    "outputId": "b3f62f13-72f5-4298-cdfd-d8fadbf55cfb"
   },
   "outputs": [
    {
     "data": {
      "text/plain": [
       "((40000, 4), (10000, 4))"
      ]
     },
     "execution_count": 227,
     "metadata": {},
     "output_type": "execute_result"
    }
   ],
   "source": [
    "train.shape, test.shape"
   ]
  },
  {
   "cell_type": "markdown",
   "id": "479f5a7a",
   "metadata": {},
   "source": [
    "### FastText using Supervised method for Sentiment Analysis"
   ]
  },
  {
   "cell_type": "markdown",
   "id": "2f07ea5e",
   "metadata": {},
   "source": [
    "- To train the model we only need the text we preparing before, 'final_text' as a CSV file\n",
    "- For Superviced FastText we need train and test csv for training the model & prediction  "
   ]
  },
  {
   "cell_type": "code",
   "execution_count": 228,
   "id": "3e6801c2",
   "metadata": {
    "id": "3e6801c2",
    "scrolled": true
   },
   "outputs": [],
   "source": [
    "train.to_csv(\"train_senti.csv\", columns=['final_text'], header=False, index=False)\n",
    "test.to_csv(\"test_senti.csv\", columns=['final_text'], header=False, index=False)\n"
   ]
  },
  {
   "cell_type": "code",
   "execution_count": 229,
   "id": "ccd218c8",
   "metadata": {
    "id": "ccd218c8"
   },
   "outputs": [],
   "source": [
    "model = fasttext.train_supervised(input = \"train_senti.csv\", epoch = 45, lr = 0.05, wordNgrams = 2)"
   ]
  },
  {
   "cell_type": "code",
   "execution_count": 230,
   "id": "84236f94",
   "metadata": {
    "colab": {
     "base_uri": "https://localhost:8080/"
    },
    "id": "84236f94",
    "outputId": "bc344604-6be6-45e6-f357-dc9c618fd47e",
    "scrolled": true
   },
   "outputs": [
    {
     "data": {
      "text/plain": [
       "(10000, 0.8959, 0.8959)"
      ]
     },
     "execution_count": 230,
     "metadata": {},
     "output_type": "execute_result"
    }
   ],
   "source": [
    "model.test(\"test_senti.csv\")\n",
    "\n"
   ]
  },
  {
   "cell_type": "code",
   "execution_count": 231,
   "id": "fe2fda02",
   "metadata": {
    "colab": {
     "base_uri": "https://localhost:8080/"
    },
    "id": "fe2fda02",
    "outputId": "02b3eebe-ff94-4d3b-b674-b52772933003"
   },
   "outputs": [
    {
     "data": {
      "text/plain": [
       "(('__label__negative',), array([1.00000858]))"
      ]
     },
     "execution_count": 231,
     "metadata": {},
     "output_type": "execute_result"
    }
   ],
   "source": [
    "model.predict('This was so bad I couldn´t finish it. The actresses are so bad at acting it feels like a bad comedy from minute one. The high rated reviews is obviously from friend/family and is pure BS.')"
   ]
  },
  {
   "cell_type": "code",
   "execution_count": 232,
   "id": "eeff16a8",
   "metadata": {
    "colab": {
     "base_uri": "https://localhost:8080/"
    },
    "id": "eeff16a8",
    "outputId": "6fce3351-eed8-4f9e-ba3f-ae64ab86b20b"
   },
   "outputs": [
    {
     "data": {
      "text/plain": [
       "(('__label__positive',), array([0.9999975]))"
      ]
     },
     "execution_count": 232,
     "metadata": {},
     "output_type": "execute_result"
    }
   ],
   "source": [
    "model.predict('Worth watching twice, first time for the plot, second time to absorb some of the sharp dialogue.')"
   ]
  },
  {
   "cell_type": "code",
   "execution_count": 233,
   "id": "e55a30dd",
   "metadata": {
    "colab": {
     "base_uri": "https://localhost:8080/"
    },
    "id": "e55a30dd",
    "outputId": "fbc5a0b3-46a0-4390-edb5-fc212c8301f2"
   },
   "outputs": [
    {
     "data": {
      "text/plain": [
       "(('__label__negative',), array([0.98562783]))"
      ]
     },
     "execution_count": 233,
     "metadata": {},
     "output_type": "execute_result"
    }
   ],
   "source": [
    "model.predict('I thought the cast was great. Brianna and Emma were exceptionaly talented in thier characters.')"
   ]
  },
  {
   "cell_type": "code",
   "execution_count": 234,
   "id": "8d3164be",
   "metadata": {
    "colab": {
     "base_uri": "https://localhost:8080/"
    },
    "id": "8d3164be",
    "outputId": "0c0c9040-d104-473a-d41e-616d71fe8f0b"
   },
   "outputs": [
    {
     "data": {
      "text/plain": [
       "(('__label__negative',), array([0.99906892]))"
      ]
     },
     "execution_count": 234,
     "metadata": {},
     "output_type": "execute_result"
    }
   ],
   "source": [
    "model.predict(\"\"\"I wanted to like this movie. I really did. But the thing is there is absolutely NOTHING to like about it lol. It's not funny, the acting is horrible, the plot is nonexistent and just nothing about this movie even makes sense. Don't waste your time with this one.\"\"\")"
   ]
  },
  {
   "cell_type": "code",
   "execution_count": 235,
   "id": "cd3c3335",
   "metadata": {
    "colab": {
     "base_uri": "https://localhost:8080/"
    },
    "id": "cd3c3335",
    "outputId": "045475a2-3d5b-4a34-f13e-40fd6df40ba1"
   },
   "outputs": [
    {
     "data": {
      "text/plain": [
       "(('__label__negative',), array([0.99517465]))"
      ]
     },
     "execution_count": 235,
     "metadata": {},
     "output_type": "execute_result"
    }
   ],
   "source": [
    "model.predict(\"'Home Alone' has succeeded in establishing itself as a Christmas tradition, spawning off three sequels (including a made-for-television flop), and a whole franchise in and of it.\")"
   ]
  },
  {
   "cell_type": "code",
   "execution_count": 236,
   "id": "662b5e68",
   "metadata": {
    "colab": {
     "base_uri": "https://localhost:8080/"
    },
    "id": "662b5e68",
    "outputId": "98b58e3b-d417-4a46-89d2-4285c74f86f4"
   },
   "outputs": [
    {
     "data": {
      "text/plain": [
       "(('__label__positive',), array([0.99945086]))"
      ]
     },
     "execution_count": 236,
     "metadata": {},
     "output_type": "execute_result"
    }
   ],
   "source": [
    "model.predict('The first 2 movies will always be my favourite just like for most people these movies never get old still love watching them even today')"
   ]
  },
  {
   "cell_type": "code",
   "execution_count": 237,
   "id": "41855868",
   "metadata": {
    "colab": {
     "base_uri": "https://localhost:8080/"
    },
    "id": "41855868",
    "outputId": "f92e8f71-7a1c-4a5d-f397-7dc2b3b73232"
   },
   "outputs": [
    {
     "data": {
      "text/plain": [
       "[(0.9820470213890076, 'chaos'),\n",
       " (0.9812921285629272, 'great'),\n",
       " (0.9812354445457458, 'favourite'),\n",
       " (0.9810404777526855, 'definitely'),\n",
       " (0.9810246825218201, 'enjoyable'),\n",
       " (0.9809043407440186, 'sensitive'),\n",
       " (0.9808710217475891, 'cool'),\n",
       " (0.980870246887207, 'eisenstein'),\n",
       " (0.9806515574455261, 'wax'),\n",
       " (0.980586588382721, 'tarzan')]"
      ]
     },
     "execution_count": 237,
     "metadata": {},
     "output_type": "execute_result"
    }
   ],
   "source": [
    "model.get_nearest_neighbors(\"watching\")"
   ]
  },
  {
   "cell_type": "code",
   "execution_count": 238,
   "id": "8c442fa3",
   "metadata": {
    "colab": {
     "base_uri": "https://localhost:8080/"
    },
    "id": "8c442fa3",
    "outputId": "629039fb-9e93-4e0b-deb6-76cef880a74a"
   },
   "outputs": [
    {
     "data": {
      "text/plain": [
       "[(0.9772838950157166, 'pleasant'),\n",
       " (0.977088987827301, 'winner'),\n",
       " (0.9770073890686035, 'bind'),\n",
       " (0.9769445061683655, 'glad'),\n",
       " (0.9767242670059204, 'sharky'),\n",
       " (0.9766753911972046, 'holly'),\n",
       " (0.9765193462371826, 'grim'),\n",
       " (0.9764215350151062, 'exciting'),\n",
       " (0.9762459397315979, 'swim'),\n",
       " (0.9762347936630249, 'eerie')]"
      ]
     },
     "execution_count": 238,
     "metadata": {},
     "output_type": "execute_result"
    }
   ],
   "source": [
    "model.get_nearest_neighbors(\"comedy\")"
   ]
  },
  {
   "cell_type": "code",
   "execution_count": 239,
   "id": "c4bead63",
   "metadata": {
    "colab": {
     "base_uri": "https://localhost:8080/"
    },
    "id": "c4bead63",
    "outputId": "085306db-9cfa-4531-c45e-24abe11e19d4"
   },
   "outputs": [
    {
     "data": {
      "text/plain": [
       "[(0.9896015524864197, 'wooden'),\n",
       " (0.9895752668380737, 'stupid'),\n",
       " (0.989567756652832, 'yell'),\n",
       " (0.9895392656326294, 'pay'),\n",
       " (0.9894558191299438, 'ridiculous'),\n",
       " (0.9893901944160461, 'bother'),\n",
       " (0.9893492460250854, 'lack'),\n",
       " (0.9892852306365967, 'drag'),\n",
       " (0.9892473816871643, 'weak'),\n",
       " (0.9891553521156311, 'uninteresting')]"
      ]
     },
     "execution_count": 239,
     "metadata": {},
     "output_type": "execute_result"
    }
   ],
   "source": [
    "model.get_nearest_neighbors(\"actor\")"
   ]
  },
  {
   "cell_type": "markdown",
   "id": "b9f310d3",
   "metadata": {
    "id": "P62QbpVnpZZU"
   },
   "source": [
    "### FastText using Unsupervised method for Classification"
   ]
  },
  {
   "cell_type": "code",
   "execution_count": 240,
   "id": "DsgbbhdgpZXk",
   "metadata": {
    "id": "DsgbbhdgpZXk"
   },
   "outputs": [],
   "source": [
    "df.to_csv(\"train_final_text.csv\", columns=['final_text'], header=False, index=False)"
   ]
  },
  {
   "cell_type": "code",
   "execution_count": 241,
   "id": "hT3apbmZ2u0z",
   "metadata": {
    "id": "hT3apbmZ2u0z"
   },
   "outputs": [],
   "source": [
    "model_unsupervised = fasttext.train_unsupervised(\"train_final_text.csv\", \"cbow\", epoch = 18, lr = 0.02, dim = 300)"
   ]
  },
  {
   "cell_type": "code",
   "execution_count": 242,
   "id": "AhV2aR7CrGYm",
   "metadata": {
    "colab": {
     "base_uri": "https://localhost:8080/"
    },
    "id": "AhV2aR7CrGYm",
    "outputId": "82cc5553-bfbf-4380-b201-84b0708de84c"
   },
   "outputs": [
    {
     "data": {
      "text/plain": [
       "[(0.6656250953674316, 'yike'),\n",
       " (0.664435088634491, 'ike'),\n",
       " (0.6189154386520386, 'lookalike'),\n",
       " (0.5971677899360657, 'nike'),\n",
       " (0.5736083388328552, 'lifelike'),\n",
       " (0.5727794170379639, 'alike'),\n",
       " (0.5551508665084839, 'liked'),\n",
       " (0.5305225253105164, 'unlike'),\n",
       " (0.5177373886108398, 'dislike'),\n",
       " (0.5125870704650879, 'liken')]"
      ]
     },
     "execution_count": 242,
     "metadata": {},
     "output_type": "execute_result"
    }
   ],
   "source": [
    "model_unsupervised.get_nearest_neighbors('like')"
   ]
  },
  {
   "cell_type": "code",
   "execution_count": 243,
   "id": "gKhSsqaCuYvs",
   "metadata": {
    "colab": {
     "base_uri": "https://localhost:8080/"
    },
    "id": "gKhSsqaCuYvs",
    "outputId": "a49ac856-e926-4727-84f7-a7e677906f75"
   },
   "outputs": [
    {
     "data": {
      "text/plain": [
       "[(0.9034777879714966, 'thrillers'),\n",
       " (0.8115355372428894, 'thrilled'),\n",
       " (0.7806792259216309, 'driller'),\n",
       " (0.7722163200378418, 'thrill'),\n",
       " (0.7178962230682373, 'chiller'),\n",
       " (0.715603768825531, 'filler'),\n",
       " (0.7136796712875366, 'thrilling'),\n",
       " (0.7025187015533447, 'hiller'),\n",
       " (0.6769968271255493, 'diller'),\n",
       " (0.6544435620307922, 'killer')]"
      ]
     },
     "execution_count": 243,
     "metadata": {},
     "output_type": "execute_result"
    }
   ],
   "source": [
    "model_unsupervised.get_nearest_neighbors('thriller')"
   ]
  },
  {
   "cell_type": "code",
   "execution_count": 244,
   "id": "RFa_oskruYYJ",
   "metadata": {
    "id": "RFa_oskruYYJ"
   },
   "outputs": [],
   "source": [
    "df['sentiment_num'] = df['sentiment'].map({\n",
    "   'positive': 0,\n",
    "   'negative': 1\n",
    "})"
   ]
  },
  {
   "cell_type": "code",
   "execution_count": 245,
   "id": "R86Sul-Yu_A1",
   "metadata": {
    "id": "R86Sul-Yu_A1"
   },
   "outputs": [],
   "source": [
    "df['preprocessed_review_vector'] = df['preprocessed_review'].apply(lambda x: model_unsupervised.get_word_vector(x))"
   ]
  },
  {
   "cell_type": "code",
   "execution_count": 246,
   "id": "22lbPIiNvspY",
   "metadata": {
    "colab": {
     "base_uri": "https://localhost:8080/"
    },
    "id": "22lbPIiNvspY",
    "outputId": "8d7ed5e2-7d16-46e9-c473-20852bfba3c5"
   },
   "outputs": [
    {
     "data": {
      "text/plain": [
       "0    [0.115810364, -0.2121032, -0.075258695, 0.0465...\n",
       "1    [0.07424301, -0.05059504, -0.09442588, 0.02871...\n",
       "2    [0.0498858, -0.1081499, -0.0074336645, -0.0105...\n",
       "3    [-0.030714914, -0.23271711, -0.040779263, -0.0...\n",
       "4    [0.02058254, -0.13121642, -0.11790839, 0.05228...\n",
       "Name: preprocessed_review_vector, dtype: object"
      ]
     },
     "execution_count": 246,
     "metadata": {},
     "output_type": "execute_result"
    }
   ],
   "source": [
    "df['preprocessed_review_vector'].head()"
   ]
  },
  {
   "cell_type": "code",
   "execution_count": 247,
   "id": "ndXtpgieu-sy",
   "metadata": {
    "id": "ndXtpgieu-sy"
   },
   "outputs": [],
   "source": [
    "x = df['preprocessed_review_vector']\n",
    "y = df['sentiment_num']\n",
    "\n",
    "x= np.stack(x)"
   ]
  },
  {
   "cell_type": "code",
   "execution_count": 249,
   "id": "_kOw6c9Xw45H",
   "metadata": {
    "id": "_kOw6c9Xw45H"
   },
   "outputs": [],
   "source": [
    "from sklearn.preprocessing import MinMaxScaler\n",
    "\n",
    "scaler = MinMaxScaler()\n",
    "\n",
    "X = scaler.fit_transform(x)"
   ]
  },
  {
   "cell_type": "code",
   "execution_count": 250,
   "id": "fv9wo6pbwL0h",
   "metadata": {
    "id": "fv9wo6pbwL0h"
   },
   "outputs": [],
   "source": [
    "xtrain, xtest, ytrain, ytest = train_test_split(X, y, test_size = 0.2, random_state = 0, stratify = y)"
   ]
  },
  {
   "cell_type": "code",
   "execution_count": 251,
   "id": "LcZT8eykwXbA",
   "metadata": {
    "colab": {
     "base_uri": "https://localhost:8080/"
    },
    "id": "LcZT8eykwXbA",
    "outputId": "56cc597a-0c01-4786-ce6a-56c76cca7cc0"
   },
   "outputs": [
    {
     "name": "stdout",
     "output_type": "stream",
     "text": [
      "Train Acc: 0.7743\n",
      "Test Acc: 0.7753\n",
      "\n",
      "Classification Report:\n",
      "              precision    recall  f1-score   support\n",
      "\n",
      "           0       0.77      0.78      0.78      5000\n",
      "           1       0.78      0.77      0.77      5000\n",
      "\n",
      "    accuracy                           0.78     10000\n",
      "   macro avg       0.78      0.78      0.78     10000\n",
      "weighted avg       0.78      0.78      0.78     10000\n",
      " \n"
     ]
    }
   ],
   "source": [
    "\n",
    "clf_MNB = MultinomialNB()\n",
    "\n",
    "clf_MNB.fit(xtrain, ytrain)\n",
    "ypred_MNB = clf_MNB.predict(xtest)\n",
    "\n",
    "train_MNB =clf_MNB.score(xtrain, ytrain)\n",
    "test_MNB =clf_MNB.score(xtest, ytest)\n",
    "print(f'Train Acc: {train_MNB}\\nTest Acc: {test_MNB}\\n\\nClassification Report:\\n{classification_report(ytest, ypred_MNB)} ')"
   ]
  },
  {
   "cell_type": "code",
   "execution_count": 252,
   "id": "KYVRk9E4x1nM",
   "metadata": {
    "colab": {
     "base_uri": "https://localhost:8080/",
     "height": 472
    },
    "id": "KYVRk9E4x1nM",
    "outputId": "5e5fa402-8349-42d1-9dda-ecddb6527a8a"
   },
   "outputs": [
    {
     "data": {
      "image/png": "[encoded data removed]",
      "text/plain": [
       "<Figure size 640x480 with 2 Axes>"
      ]
     },
     "metadata": {},
     "output_type": "display_data"
    }
   ],
   "source": [
    "\n",
    "confusion_m =confusion_matrix(ytest, ypred_MNB)\n",
    "\n",
    "sns.heatmap(confusion_m, annot = True, fmt = '.1f',\n",
    "            xticklabels = ['True', 'Fake'],\n",
    "            yticklabels = ['True', 'Fake'])\n",
    "plt.xlabel('Predicted Output')\n",
    "plt.ylabel('Actual Output')\n",
    "plt.title(\"Confusion matrix for Multi_NB\")\n",
    "plt.show();"
   ]
  },
  {
   "cell_type": "code",
   "execution_count": 253,
   "id": "DgF17pWIwfcy",
   "metadata": {
    "colab": {
     "base_uri": "https://localhost:8080/"
    },
    "id": "DgF17pWIwfcy",
    "outputId": "417983b3-58dc-4895-91a5-36617d9f98c8"
   },
   "outputs": [
    {
     "name": "stdout",
     "output_type": "stream",
     "text": [
      "Train Acc: 0.864625\n",
      "Test Acc: 0.8006\n",
      "\n",
      "Classification Report:\n",
      "              precision    recall  f1-score   support\n",
      "\n",
      "           0       0.81      0.78      0.80      5000\n",
      "           1       0.79      0.82      0.80      5000\n",
      "\n",
      "    accuracy                           0.80     10000\n",
      "   macro avg       0.80      0.80      0.80     10000\n",
      "weighted avg       0.80      0.80      0.80     10000\n",
      " \n"
     ]
    }
   ],
   "source": [
    "from sklearn.neighbors import KNeighborsClassifier\n",
    "\n",
    "clf_kn = KNeighborsClassifier()\n",
    "\n",
    "clf_kn.fit(xtrain, ytrain)\n",
    "ypred_kn = clf_kn.predict(xtest)\n",
    "\n",
    "train_kn =clf_kn.score(xtrain, ytrain)\n",
    "test_kn =clf_kn.score(xtest, ytest)\n",
    "print(f'Train Acc: {train_kn}\\nTest Acc: {test_kn}\\n\\nClassification Report:\\n{classification_report(ytest, ypred_kn)} ')"
   ]
  },
  {
   "cell_type": "code",
   "execution_count": 254,
   "id": "5c9qyljyxtL8",
   "metadata": {
    "colab": {
     "base_uri": "https://localhost:8080/",
     "height": 472
    },
    "id": "5c9qyljyxtL8",
    "outputId": "ba5bdf2d-bba1-40e7-f165-efade1306a45"
   },
   "outputs": [
    {
     "data": {
      "image/png": "[encoded data removed]",
      "text/plain": [
       "<Figure size 640x480 with 2 Axes>"
      ]
     },
     "metadata": {},
     "output_type": "display_data"
    }
   ],
   "source": [
    "confusion_m =confusion_matrix(ytest, ypred_kn)\n",
    "\n",
    "sns.heatmap(confusion_m, annot = True, fmt = '.1f',\n",
    "            xticklabels = ['True', 'Fake'],\n",
    "            yticklabels = ['True', 'Fake'])\n",
    "plt.xlabel('Predicted Output')\n",
    "plt.ylabel('Actual Output')\n",
    "plt.title(\"Confusion matrix for  KNeighborsClassifier\")\n",
    "plt.show();"
   ]
  },
  {
   "cell_type": "code",
   "execution_count": 255,
   "id": "V8-BSU3Nx-0r",
   "metadata": {
    "colab": {
     "base_uri": "https://localhost:8080/"
    },
    "id": "V8-BSU3Nx-0r",
    "outputId": "e376edae-dece-4c00-ada8-c996310725fb"
   },
   "outputs": [
    {
     "name": "stdout",
     "output_type": "stream",
     "text": [
      "Train Acc: 1.0\n",
      "Test Acc: 0.8299\n",
      "\n",
      "Classification Report:\n",
      "              precision    recall  f1-score   support\n",
      "\n",
      "           0       0.82      0.85      0.83      5000\n",
      "           1       0.85      0.81      0.83      5000\n",
      "\n",
      "    accuracy                           0.83     10000\n",
      "   macro avg       0.83      0.83      0.83     10000\n",
      "weighted avg       0.83      0.83      0.83     10000\n",
      " \n"
     ]
    }
   ],
   "source": [
    "\n",
    "clf_rf = RandomForestClassifier()\n",
    "\n",
    "clf_rf.fit(xtrain, ytrain)\n",
    "ypred_rf = clf_rf.predict(xtest)\n",
    "\n",
    "train_rf =clf_rf.score(xtrain, ytrain)\n",
    "test_rf =clf_rf.score(xtest, ytest)\n",
    "print(f'Train Acc: {train_rf}\\nTest Acc: {test_rf}\\n\\nClassification Report:\\n{classification_report(ytest, ypred_rf)} ')"
   ]
  },
  {
   "cell_type": "code",
   "execution_count": 256,
   "id": "ehyfU_jD3Tft",
   "metadata": {
    "colab": {
     "base_uri": "https://localhost:8080/",
     "height": 472
    },
    "id": "ehyfU_jD3Tft",
    "outputId": "d39c9c3e-45fb-45db-c7bf-dd82e8f57846"
   },
   "outputs": [
    {
     "data": {
      "image/png": "[encoded data removed]",
      "text/plain": [
       "<Figure size 640x480 with 2 Axes>"
      ]
     },
     "metadata": {},
     "output_type": "display_data"
    }
   ],
   "source": [
    "confusion_m =confusion_matrix(ytest, ypred_rf)\n",
    "\n",
    "sns.heatmap(confusion_m, annot = True, fmt = '.1f',\n",
    "            xticklabels = ['True', 'Fake'],\n",
    "            yticklabels = ['True', 'Fake'])\n",
    "plt.xlabel('Predicted Output')\n",
    "plt.ylabel('Actual Output')\n",
    "plt.title(\"Confusion matrix for  KNeighborsClassifier\")\n",
    "plt.show();"
   ]
  }
 ],
 "metadata": {
  "accelerator": "GPU",
  "colab": {
   "gpuType": "T4",
   "provenance": []
  },
  "kernelspec": {
   "display_name": "Python 3 (ipykernel)",
   "language": "python",
   "name": "python3"
  },
  "language_info": {
   "codemirror_mode": {
    "name": "ipython",
    "version": 3
   },
   "file_extension": ".py",
   "mimetype": "text/x-python",
   "name": "python",
   "nbconvert_exporter": "python",
   "pygments_lexer": "ipython3",
   "version": "3.9.13"
  }
 },
 "nbformat": 4,
 "nbformat_minor": 5
}
