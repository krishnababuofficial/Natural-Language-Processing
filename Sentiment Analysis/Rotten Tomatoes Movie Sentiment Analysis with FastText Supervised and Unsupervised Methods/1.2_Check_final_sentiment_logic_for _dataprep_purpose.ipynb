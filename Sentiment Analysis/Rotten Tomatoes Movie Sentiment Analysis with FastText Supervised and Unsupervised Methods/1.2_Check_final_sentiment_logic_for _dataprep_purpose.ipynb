{
 "cells": [
  {
   "cell_type": "markdown",
   "id": "1d0c46c4-7a1e-4e39-9504-018a2912f072",
   "metadata": {
    "jp-MarkdownHeadingCollapsed": true
   },
   "source": [
    "## Import Libs."
   ]
  },
  {
   "cell_type": "code",
   "execution_count": 1,
   "id": "9794e76a-a15d-47ea-b2bf-cb1d5cda7361",
   "metadata": {},
   "outputs": [],
   "source": [
    "import pandas as pd \n",
    "import numpy as np\n",
    "import matplotlib.pyplot as plt\n",
    "import seaborn as sns\n",
    "\n",
    "import warnings \n",
    "warnings.filterwarnings(\"ignore\")"
   ]
  },
  {
   "cell_type": "markdown",
   "id": "03a14630-b856-49e1-9473-30c961f00590",
   "metadata": {
    "jp-MarkdownHeadingCollapsed": true
   },
   "source": [
    "## Load the Data "
   ]
  },
  {
   "cell_type": "code",
   "execution_count": 2,
   "id": "6853a2b5-8e29-4633-a4fc-c2cd3e617488",
   "metadata": {},
   "outputs": [
    {
     "name": "stdout",
     "output_type": "stream",
     "text": [
      "<class 'pandas.core.frame.DataFrame'>\n",
      "RangeIndex: 16386 entries, 0 to 16385\n",
      "Data columns (total 28 columns):\n",
      " #   Column                       Non-Null Count  Dtype         \n",
      "---  ------                       --------------  -----         \n",
      " 0   movie_title                  16386 non-null  object        \n",
      " 1   movie_info                   16386 non-null  object        \n",
      " 2   movie_info_processed         16386 non-null  object        \n",
      " 3   movie_info_missing           16386 non-null  int64         \n",
      " 4   critics_consensus            16386 non-null  object        \n",
      " 5   critics_consensus_processed  16385 non-null  object        \n",
      " 6   critics_consensus_missing    16386 non-null  int64         \n",
      " 7   rating                       16386 non-null  object        \n",
      " 8   genre                        16386 non-null  object        \n",
      " 9   genre_missing                16386 non-null  int64         \n",
      " 10  directors                    16386 non-null  object        \n",
      " 11  directors_missing            16386 non-null  int64         \n",
      " 12  writers                      16386 non-null  object        \n",
      " 13  writers_missing              16386 non-null  int64         \n",
      " 14  cast                         16386 non-null  object        \n",
      " 15  cast_missing                 16386 non-null  int64         \n",
      " 16  in_theaters_date             16386 non-null  datetime64[ns]\n",
      " 17  in_theaters_date_missing     16386 non-null  int64         \n",
      " 18  on_streaming_date            16386 non-null  datetime64[ns]\n",
      " 19  on_streaming_date_missing    16386 non-null  int64         \n",
      " 20  runtime_in_minutes           16386 non-null  int64         \n",
      " 21  runtime_in_minutes_missing   16386 non-null  int64         \n",
      " 22  studio_name                  16386 non-null  object        \n",
      " 23  studio_name_missing          16386 non-null  int64         \n",
      " 24  tomatometer_status           16386 non-null  object        \n",
      " 25  tomatometer_rating           16386 non-null  int64         \n",
      " 26  tomatometer_count            16386 non-null  int64         \n",
      " 27  audience_rating              16386 non-null  int64         \n",
      "dtypes: datetime64[ns](2), int64(14), object(12)\n",
      "memory usage: 3.5+ MB\n"
     ]
    }
   ],
   "source": [
    "df_nlp = pd.read_excel(\"./df_copy_NlpTask.xlsx\")\n",
    "df_nlp.info()"
   ]
  },
  {
   "cell_type": "markdown",
   "id": "8d97ed66-90e9-473a-a061-00fb25ad6fae",
   "metadata": {},
   "source": [
    "## check the logic \n",
    "- For the final Sentiment which is the target label"
   ]
  },
  {
   "cell_type": "code",
   "execution_count": 3,
   "id": "65c5e5b8-5da2-4099-8054-b6000ff06079",
   "metadata": {},
   "outputs": [],
   "source": [
    "# Define function to assign sentiment based on tomatometer_status\n",
    "def get_tomatometer_sentiment(tomatometer_status):\n",
    "    if tomatometer_status == 'Certified Fresh':\n",
    "        return 'positive'\n",
    "    elif tomatometer_status == 'Fresh':\n",
    "        return 'positive'\n",
    "    else:  # 'Rotten'\n",
    "        return 'negative'\n",
    "\n",
    "# Define function to assign sentiment based on audience_rating\n",
    "def get_audience_sentiment(audience_rating):\n",
    "    if audience_rating >= 60:\n",
    "        return 'positive'\n",
    "    elif 40 <= audience_rating < 60:\n",
    "        return 'neutral'\n",
    "    else:\n",
    "        return 'negative'\n",
    "\n",
    "# Function to combine both sentiments\n",
    "def combine_sentiments(tomatometer_sentiment, audience_sentiment):\n",
    "    if tomatometer_sentiment == 'positive' and audience_sentiment == 'positive':\n",
    "        return 'positive'\n",
    "    elif tomatometer_sentiment == 'negative' and audience_sentiment == 'negative':\n",
    "        return 'negative'\n",
    "    elif tomatometer_sentiment == 'positive' and audience_sentiment == 'neutral':\n",
    "        return 'positive'\n",
    "    elif tomatometer_sentiment == 'negative' and audience_sentiment == 'neutral':\n",
    "        return 'negative'\n",
    "    else: \n",
    "        return 'negative' # error check <-\"neutral\"\n",
    "    "
   ]
  },
  {
   "cell_type": "code",
   "execution_count": 4,
   "id": "69a79705-a653-4f3a-a07b-9ddcd4a2a87f",
   "metadata": {},
   "outputs": [],
   "source": [
    "df_new = df_nlp.copy()"
   ]
  },
  {
   "cell_type": "code",
   "execution_count": 5,
   "id": "3925cfab-7496-494b-845c-cf15c0e80f54",
   "metadata": {},
   "outputs": [],
   "source": [
    "df_new['tomatometer_sentiment'] = df_new['tomatometer_status'].apply(get_tomatometer_sentiment)\n",
    "df_new['audience_sentiment'] = df_new['audience_rating'].apply(get_audience_sentiment)\n",
    "\n",
    "# Combine both sentiments to create final sentiment column\n",
    "df_new['final_sentiment'] = df_new.apply(\n",
    "    lambda row: combine_sentiments(row['tomatometer_sentiment'], row['audience_sentiment']), axis=1\n",
    ")"
   ]
  },
  {
   "cell_type": "code",
   "execution_count": 6,
   "id": "d6000e0f",
   "metadata": {},
   "outputs": [
    {
     "data": {
      "text/html": [
       "<div>\n",
       "<style scoped>\n",
       "    .dataframe tbody tr th:only-of-type {\n",
       "        vertical-align: middle;\n",
       "    }\n",
       "\n",
       "    .dataframe tbody tr th {\n",
       "        vertical-align: top;\n",
       "    }\n",
       "\n",
       "    .dataframe thead th {\n",
       "        text-align: right;\n",
       "    }\n",
       "</style>\n",
       "<table border=\"1\" class=\"dataframe\">\n",
       "  <thead>\n",
       "    <tr style=\"text-align: right;\">\n",
       "      <th></th>\n",
       "      <th>tomatometer_sentiment</th>\n",
       "      <th>audience_sentiment</th>\n",
       "      <th>final_sentiment</th>\n",
       "    </tr>\n",
       "  </thead>\n",
       "  <tbody>\n",
       "    <tr>\n",
       "      <th>0</th>\n",
       "      <td>negative</td>\n",
       "      <td>neutral</td>\n",
       "      <td>negative</td>\n",
       "    </tr>\n",
       "    <tr>\n",
       "      <th>1</th>\n",
       "      <td>positive</td>\n",
       "      <td>positive</td>\n",
       "      <td>positive</td>\n",
       "    </tr>\n",
       "    <tr>\n",
       "      <th>2</th>\n",
       "      <td>positive</td>\n",
       "      <td>neutral</td>\n",
       "      <td>positive</td>\n",
       "    </tr>\n",
       "    <tr>\n",
       "      <th>3</th>\n",
       "      <td>positive</td>\n",
       "      <td>positive</td>\n",
       "      <td>positive</td>\n",
       "    </tr>\n",
       "    <tr>\n",
       "      <th>4</th>\n",
       "      <td>positive</td>\n",
       "      <td>positive</td>\n",
       "      <td>positive</td>\n",
       "    </tr>\n",
       "    <tr>\n",
       "      <th>...</th>\n",
       "      <td>...</td>\n",
       "      <td>...</td>\n",
       "      <td>...</td>\n",
       "    </tr>\n",
       "    <tr>\n",
       "      <th>16381</th>\n",
       "      <td>negative</td>\n",
       "      <td>positive</td>\n",
       "      <td>negative</td>\n",
       "    </tr>\n",
       "    <tr>\n",
       "      <th>16382</th>\n",
       "      <td>positive</td>\n",
       "      <td>positive</td>\n",
       "      <td>positive</td>\n",
       "    </tr>\n",
       "    <tr>\n",
       "      <th>16383</th>\n",
       "      <td>positive</td>\n",
       "      <td>positive</td>\n",
       "      <td>positive</td>\n",
       "    </tr>\n",
       "    <tr>\n",
       "      <th>16384</th>\n",
       "      <td>positive</td>\n",
       "      <td>positive</td>\n",
       "      <td>positive</td>\n",
       "    </tr>\n",
       "    <tr>\n",
       "      <th>16385</th>\n",
       "      <td>negative</td>\n",
       "      <td>positive</td>\n",
       "      <td>negative</td>\n",
       "    </tr>\n",
       "  </tbody>\n",
       "</table>\n",
       "<p>16386 rows × 3 columns</p>\n",
       "</div>"
      ],
      "text/plain": [
       "      tomatometer_sentiment audience_sentiment final_sentiment\n",
       "0                  negative            neutral        negative\n",
       "1                  positive           positive        positive\n",
       "2                  positive            neutral        positive\n",
       "3                  positive           positive        positive\n",
       "4                  positive           positive        positive\n",
       "...                     ...                ...             ...\n",
       "16381              negative           positive        negative\n",
       "16382              positive           positive        positive\n",
       "16383              positive           positive        positive\n",
       "16384              positive           positive        positive\n",
       "16385              negative           positive        negative\n",
       "\n",
       "[16386 rows x 3 columns]"
      ]
     },
     "execution_count": 6,
     "metadata": {},
     "output_type": "execute_result"
    }
   ],
   "source": [
    "df_new[['tomatometer_sentiment', 'audience_sentiment', 'final_sentiment']]"
   ]
  },
  {
   "cell_type": "code",
   "execution_count": 7,
   "id": "2975f82e-4ec0-48ab-9783-7e482d2cc702",
   "metadata": {},
   "outputs": [
    {
     "data": {
      "text/plain": [
       "tomatometer_sentiment\n",
       "positive    9226\n",
       "negative    7160\n",
       "Name: count, dtype: int64"
      ]
     },
     "execution_count": 7,
     "metadata": {},
     "output_type": "execute_result"
    }
   ],
   "source": [
    "df_new['tomatometer_sentiment'].value_counts()"
   ]
  },
  {
   "cell_type": "code",
   "execution_count": 8,
   "id": "03f3c5bf-5345-4d93-994c-d5a429b6d682",
   "metadata": {},
   "outputs": [
    {
     "data": {
      "text/plain": [
       "audience_sentiment\n",
       "positive    8953\n",
       "neutral     4419\n",
       "negative    3014\n",
       "Name: count, dtype: int64"
      ]
     },
     "execution_count": 8,
     "metadata": {},
     "output_type": "execute_result"
    }
   ],
   "source": [
    "df_new['audience_sentiment'].value_counts()"
   ]
  },
  {
   "cell_type": "markdown",
   "id": "9c38f94d-c93b-43f2-b140-a96f1fa5151d",
   "metadata": {},
   "source": [
    "- As the the audience_sentiment as a 3 target labels\n",
    "- Made a function[combine_sentiments] to combine both sentiments "
   ]
  },
  {
   "cell_type": "code",
   "execution_count": 9,
   "id": "c4abde6b-5c28-4923-ac6d-fa243cc75045",
   "metadata": {},
   "outputs": [
    {
     "data": {
      "text/plain": [
       "final_sentiment\n",
       "positive    8841\n",
       "negative    7545\n",
       "Name: count, dtype: int64"
      ]
     },
     "execution_count": 9,
     "metadata": {},
     "output_type": "execute_result"
    }
   ],
   "source": [
    "df_new['final_sentiment'].value_counts()"
   ]
  },
  {
   "cell_type": "markdown",
   "id": "e48b4252-7e6d-4f9d-8d7a-a01926b604af",
   "metadata": {
    "jp-MarkdownHeadingCollapsed": true
   },
   "source": [
    "- **Finalized**"
   ]
  }
 ],
 "metadata": {
  "kernelspec": {
   "display_name": "Python 3 (ipykernel)",
   "language": "python",
   "name": "python3"
  },
  "language_info": {
   "codemirror_mode": {
    "name": "ipython",
    "version": 3
   },
   "file_extension": ".py",
   "mimetype": "text/x-python",
   "name": "python",
   "nbconvert_exporter": "python",
   "pygments_lexer": "ipython3",
   "version": "3.11.11"
  }
 },
 "nbformat": 4,
 "nbformat_minor": 5
}
