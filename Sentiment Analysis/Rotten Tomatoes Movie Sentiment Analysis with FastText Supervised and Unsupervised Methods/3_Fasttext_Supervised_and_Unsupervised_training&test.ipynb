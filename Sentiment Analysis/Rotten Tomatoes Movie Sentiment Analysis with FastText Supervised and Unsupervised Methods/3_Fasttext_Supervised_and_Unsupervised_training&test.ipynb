{
 "cells": [
  {
   "cell_type": "markdown",
   "id": "e8676b14-6151-4249-b88a-8060b66bd794",
   "metadata": {
    "jp-MarkdownHeadingCollapsed": true
   },
   "source": [
    "### Import Libraries"
   ]
  },
  {
   "cell_type": "code",
   "execution_count": 1,
   "id": "9c8519ad",
   "metadata": {},
   "outputs": [],
   "source": [
    "import pandas as pd \n",
    "import numpy as np\n",
    "import matplotlib.pyplot as plt\n",
    "import seaborn as sns\n",
    "\n",
    "import fasttext\n",
    "\n",
    "import warnings \n",
    "warnings.filterwarnings(\"ignore\")"
   ]
  },
  {
   "cell_type": "markdown",
   "id": "d4d52042",
   "metadata": {
    "jp-MarkdownHeadingCollapsed": true
   },
   "source": [
    "### FastText Supervised Model\n",
    "- Using **Automatic Hyperparameter Optimization**"
   ]
  },
  {
   "cell_type": "code",
   "execution_count": 2,
   "id": "62d947a2",
   "metadata": {},
   "outputs": [],
   "source": [
    "Model_Automatic_Hyperparameter_optimization = fasttext.train_supervised(input = \"train_sentiment.txt\", \n",
    "                                  autotuneValidationFile = \"valid_sentiment.txt\", \n",
    "                                  autotuneDuration = 1200,\n",
    "                                  autotuneMetric=\"precisionAtRecall:30\")"
   ]
  },
  {
   "cell_type": "markdown",
   "id": "3539e1d0-c4c1-41e7-9019-43180fb056a1",
   "metadata": {
    "jp-MarkdownHeadingCollapsed": true
   },
   "source": [
    "#### Test with Valid_Sentiment & Test_Sentiment \n",
    "- Pass **.txt** files "
   ]
  },
  {
   "cell_type": "code",
   "execution_count": 3,
   "id": "5c3b287d",
   "metadata": {},
   "outputs": [
    {
     "data": {
      "text/plain": [
       "(1311, 0.7048054919908466, 0.7048054919908466)"
      ]
     },
     "execution_count": 3,
     "metadata": {},
     "output_type": "execute_result"
    }
   ],
   "source": [
    "Model_Automatic_Hyperparameter_optimization.test(\"valid_sentiment.txt\")"
   ]
  },
  {
   "cell_type": "markdown",
   "id": "1b281844-d334-464e-b806-e2e0f88325a8",
   "metadata": {},
   "source": [
    "- **1311**: size of your validation set.\n",
    "- **0.7048054919908466**:  precision at recall of 30% metric. This is not standard accuracy. It means that, considering only the instances where the model's prediction includes at least 30% recall (i.e., at least 30% of the actual positive cases are correctly identified), the precision (the proportion of true positives among all predicted positives) is approximately 70.5%. This is different than overall accuracy."
   ]
  },
  {
   "cell_type": "code",
   "execution_count": 4,
   "id": "851dfa4b",
   "metadata": {},
   "outputs": [
    {
     "data": {
      "text/plain": [
       "(3278, 0.697986577181208, 0.697986577181208)"
      ]
     },
     "execution_count": 4,
     "metadata": {},
     "output_type": "execute_result"
    }
   ],
   "source": [
    "Model_Automatic_Hyperparameter_optimization.test(\"test_sentiment.txt\")"
   ]
  },
  {
   "cell_type": "markdown",
   "id": "a61ada70-88cd-4a67-b29b-7f29f7eda0c5",
   "metadata": {
    "jp-MarkdownHeadingCollapsed": true
   },
   "source": [
    "#### Model Prects Based on Movie Info & Critics Consensus\n",
    "- Use the trained FastText Automatic Hyperparameter Optimization model to predict the sentiment of the given text. The result shows the predicted label **(e.g., \"__label__positive\")** and the **probability score**."
   ]
  },
  {
   "cell_type": "code",
   "execution_count": 5,
   "id": "41b92534",
   "metadata": {},
   "outputs": [
    {
     "data": {
      "text/plain": [
       "(('__label__positive',), array([0.99992275]))"
      ]
     },
     "execution_count": 5,
     "metadata": {},
     "output_type": "execute_result"
    }
   ],
   "source": [
    "Model_Automatic_Hyperparameter_optimization.predict(\"end line major documentary imminent peril face world ocean narrate ted danson base book charles clover film explore devastating effect fishing have fish stock health ocean scientist predict continue fish current rate planet completely run fish doomsday warning end line offer real practical solution simple doable include advocate control fishing engender specie protect network marine reserve limit fishing educate consumer choice purchase fish sustainable fishery thought provoke insightful documentary danger commercial fishing\")"
   ]
  },
  {
   "cell_type": "code",
   "execution_count": 6,
   "id": "f42284f8",
   "metadata": {},
   "outputs": [
    {
     "data": {
      "text/plain": [
       "(('__label__negative',), array([0.86603749]))"
      ]
     },
     "execution_count": 6,
     "metadata": {},
     "output_type": "execute_result"
    }
   ],
   "source": [
    "Model_Automatic_Hyperparameter_optimization.predict(\"bill heterosexual movie gregg araki doom generation director self style bad taste teen film amy blue rose mcgowan obnoxious teenage speed freak boyfriend jordan white james duval passive slow witted poseur will sex terrify aids claim virgin day run xavier red johnathon schaech charming enigmatic drifter bad habit kill people join young couple seemingly endless road trip xavier verbally challenge jordan insist call prove threatening repulsive strangely alluring companion presence raise issue loyalty sexual identity doom generation dot variety eccentric cameo appearance include comic margaret cho actress parker posey musician perry farrell hollywood madame heidi fleiss onetime brady bunch star christopher knight middle installment araki teen apocalypse trilogy include totally mark deming rovi unknown\")"
   ]
  },
  {
   "cell_type": "code",
   "execution_count": 16,
   "id": "68b3d033",
   "metadata": {},
   "outputs": [
    {
     "data": {
      "text/plain": [
       "(('__label__negative',), array([0.60171354]))"
      ]
     },
     "execution_count": 16,
     "metadata": {},
     "output_type": "execute_result"
    }
   ],
   "source": [
    "Model_Automatic_Hyperparameter_optimization.predict(\"A young outcast from a primitive tribe is forced to defend his people from a brutal onslaught in Independence Day director Roland Emmerich's fast-paced period adventure. Despite the fact that he is low man on the totem pole in his tribe of fearless hunters, a brave young boy (Steven Strait) longs to win the heart of a beautiful princess (Camilla Belle) who is well above his station in life. When an overwhelming horde of powerful invaders forces the hunters into slavery and abducts the princess, the once-aimless boy suddenly finds his destiny taking an unexpected turn. Now, if he has any hope of saving his tribe from certain extinction, this young boy will have to fight for the future to his dying breath. ~ Jason Buchanan, Rovi\")"
   ]
  },
  {
   "cell_type": "code",
   "execution_count": 17,
   "id": "60334664",
   "metadata": {},
   "outputs": [
    {
     "data": {
      "text/plain": [
       "(('__label__positive',), array([0.99178857]))"
      ]
     },
     "execution_count": 17,
     "metadata": {},
     "output_type": "execute_result"
    }
   ],
   "source": [
    "Model_Automatic_Hyperparameter_optimization.predict(\"great buster celebrate life career america influential celebrate filmmaker comedian buster keaton singular style fertile output silent era create legacy true cinematic visionary fill stunningly restore archival keaton film cohen film classics library great buster direct peter bogdanovich filmmaker cinema historian landmark writing film renowned director john ford orson welles standard study measure keaton beginning vaudeville circuit chronicle great buster development trademark physical comedy deadpan expression earn lifelong moniker great stone face lead career high year director writer producer star short film feature intersperse interview nearly dozen collaborator filmmaker performer friend include mel brooks quentin tarantino werner herzog dick van dyke johnny knoxville discuss keaton influence modern comedy cinema loss artistic independence career decline mark later year cover bogdanovich cast close eye keaton extraordinary output yield remarkable feature film include general steamboat bill immortalize great actor filmmaker history cinema great buster celebration breathlessly entertaining filmography inspire long overdue primer close essential\")"
   ]
  },
  {
   "cell_type": "markdown",
   "id": "8427d3b2-188c-4717-a0f1-fea1a3625a7b",
   "metadata": {
    "jp-MarkdownHeadingCollapsed": true
   },
   "source": [
    "### FastText Unsupervised Model"
   ]
  },
  {
   "cell_type": "code",
   "execution_count": 9,
   "id": "581b58e6",
   "metadata": {},
   "outputs": [],
   "source": [
    "model_unsupervised = fasttext.train_unsupervised(\"train_sentiment.txt\", \"cbow\", epoch = 18, lr = 0.02, dim = 300)"
   ]
  },
  {
   "cell_type": "markdown",
   "id": "71f85c05-4172-45c3-9882-af6315437e41",
   "metadata": {
    "jp-MarkdownHeadingCollapsed": true
   },
   "source": [
    "#### Finding the Similar Words using the Unsupervised Model.\n",
    "- finds the words in the model's vocabulary that are most semantically similar to the given input **word**. It leverages the word vectors learned during the training process."
   ]
  },
  {
   "cell_type": "code",
   "execution_count": 10,
   "id": "4f525a5e",
   "metadata": {},
   "outputs": [
    {
     "data": {
      "text/plain": [
       "[(0.8837223649024963, 'revenge'),\n",
       " (0.8814675807952881, 'survivor'),\n",
       " (0.8803136348724365, 'slavery'),\n",
       " (0.8730306029319763, 'terrain'),\n",
       " (0.8727587461471558, 'scavenge'),\n",
       " (0.8726358413696289, 'treat'),\n",
       " (0.8716277480125427, 'evil'),\n",
       " (0.8713346719741821, 'avenge'),\n",
       " (0.8634105920791626, 'savagery'),\n",
       " (0.861932635307312, 'ghost')]"
      ]
     },
     "execution_count": 10,
     "metadata": {},
     "output_type": "execute_result"
    }
   ],
   "source": [
    "model_unsupervised.get_nearest_neighbors('alien')"
   ]
  },
  {
   "cell_type": "code",
   "execution_count": 11,
   "id": "838caaea",
   "metadata": {},
   "outputs": [
    {
     "data": {
      "text/plain": [
       "[(0.964957594871521, 'hearts'),\n",
       " (0.9475719928741455, 'heartache'),\n",
       " (0.9292012453079224, 'hearty'),\n",
       " (0.9243552684783936, 'heartwarme'),\n",
       " (0.9219622611999512, 'lift'),\n",
       " (0.9112288355827332, 'heartbroken'),\n",
       " (0.9054802656173706, 'heartfelt'),\n",
       " (0.8925439119338989, 'heartbreak'),\n",
       " (0.8909814953804016, 'dreams'),\n",
       " (0.8782211542129517, 'dreamy')]"
      ]
     },
     "execution_count": 11,
     "metadata": {},
     "output_type": "execute_result"
    }
   ],
   "source": [
    "model_unsupervised.get_nearest_neighbors('heart')"
   ]
  },
  {
   "cell_type": "code",
   "execution_count": 12,
   "id": "1032595b",
   "metadata": {},
   "outputs": [
    {
     "data": {
      "text/plain": [
       "[(0.9100439548492432, 'dramedy'),\n",
       " (0.9018700122833252, 'comedic'),\n",
       " (0.890731155872345, 'seriocomedy'),\n",
       " (0.8893684148788452, 'quirky'),\n",
       " (0.8655805587768555, 'comedienne'),\n",
       " (0.8475091457366943, 'sharp'),\n",
       " (0.8398624658584595, 'chemistry'),\n",
       " (0.8391808271408081, 'flashy'),\n",
       " (0.8381854891777039, 'bittersweet'),\n",
       " (0.836584210395813, 'ladd')]"
      ]
     },
     "execution_count": 12,
     "metadata": {},
     "output_type": "execute_result"
    }
   ],
   "source": [
    "model_unsupervised.get_nearest_neighbors('comedy')"
   ]
  },
  {
   "cell_type": "code",
   "execution_count": 13,
   "id": "99275248",
   "metadata": {},
   "outputs": [
    {
     "data": {
      "text/plain": [
       "[(0.9864038825035095, 'directors'),\n",
       " (0.9774737358093262, 'direct'),\n",
       " (0.9485283493995667, 'directorial'),\n",
       " (0.9075263142585754, 'dire'),\n",
       " (0.90326327085495, 'screenwriter'),\n",
       " (0.8812114000320435, 'scriptwriter'),\n",
       " (0.873555600643158, 'actor'),\n",
       " (0.8642226457595825, 'debut'),\n",
       " (0.8519041538238525, 'dirk'),\n",
       " (0.8476818799972534, 'writer')]"
      ]
     },
     "execution_count": 13,
     "metadata": {},
     "output_type": "execute_result"
    }
   ],
   "source": [
    "model_unsupervised.get_nearest_neighbors('director')"
   ]
  },
  {
   "cell_type": "markdown",
   "id": "e69d13cd-70b2-4f97-a731-15af6780725f",
   "metadata": {},
   "source": [
    "- **(similarity_score, word) :** Each tuple represents a word found to be semantically similar to \"alien.\"\n",
    "- **similarity_score :** This is a floating-point number representing the cosine similarity between the word vector of \"alien\" and the word vector of the neighboring word. Higher values (closer to 1) indicate stronger similarity. For example, 0.8837223649024963 is a relatively high similarity score.\n",
    "- **word :** This is the neighboring word itself.\n",
    "\n",
    "The **model_unsupervised** suggests that words like **_\"revenge,\" \"survivor,\" \"slavery,\" \"terrain,\"_** and others are semantically close to **_\"alien\"_** based on the word vectors learned from the unsupervised training data."
   ]
  }
 ],
 "metadata": {
  "kernelspec": {
   "display_name": "Python 3 (ipykernel)",
   "language": "python",
   "name": "python3"
  },
  "language_info": {
   "codemirror_mode": {
    "name": "ipython",
    "version": 3
   },
   "file_extension": ".py",
   "mimetype": "text/x-python",
   "name": "python",
   "nbconvert_exporter": "python",
   "pygments_lexer": "ipython3",
   "version": "3.11.11"
  }
 },
 "nbformat": 4,
 "nbformat_minor": 5
}
