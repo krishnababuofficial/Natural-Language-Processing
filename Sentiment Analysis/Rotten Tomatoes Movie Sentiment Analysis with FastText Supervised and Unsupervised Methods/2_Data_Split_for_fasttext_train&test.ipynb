{
 "cells": [
  {
   "cell_type": "markdown",
   "id": "b51dbf73-f72e-4427-be50-44a1d74b2823",
   "metadata": {
    "jp-MarkdownHeadingCollapsed": true
   },
   "source": [
    "## Import Libs."
   ]
  },
  {
   "cell_type": "code",
   "execution_count": 1,
   "id": "d5b836e2",
   "metadata": {},
   "outputs": [],
   "source": [
    "import pandas as pd \n",
    "import numpy as np\n",
    "import matplotlib.pyplot as plt\n",
    "import seaborn as sns\n",
    "\n",
    "import fasttext\n",
    "\n",
    "import warnings \n",
    "warnings.filterwarnings(\"ignore\")"
   ]
  },
  {
   "cell_type": "markdown",
   "id": "117aa3db-0370-467b-bd4d-4d9109190bc7",
   "metadata": {
    "jp-MarkdownHeadingCollapsed": true
   },
   "source": [
    "## Load Data\n",
    "- Use the cleaned & Preprocessed data for fasttest task"
   ]
  },
  {
   "cell_type": "code",
   "execution_count": 2,
   "id": "d7141d54",
   "metadata": {},
   "outputs": [
    {
     "name": "stdout",
     "output_type": "stream",
     "text": [
      "<class 'pandas.core.frame.DataFrame'>\n",
      "RangeIndex: 16386 entries, 0 to 16385\n",
      "Data columns (total 11 columns):\n",
      " #   Column                       Non-Null Count  Dtype \n",
      "---  ------                       --------------  ----- \n",
      " 0   movie_title                  16386 non-null  object\n",
      " 1   movie_info                   16386 non-null  object\n",
      " 2   processed_movie_info         16386 non-null  object\n",
      " 3   critics_consensus            16386 non-null  object\n",
      " 4   processed_critics_consensus  16384 non-null  object\n",
      " 5   tomatometer_status           16386 non-null  object\n",
      " 6   tomatometer_sentiment        16386 non-null  object\n",
      " 7   audience_rating              16386 non-null  int64 \n",
      " 8   audience_sentiment           16386 non-null  object\n",
      " 9   final_sentiment              16386 non-null  object\n",
      " 10  final_text                   16386 non-null  object\n",
      "dtypes: int64(1), object(10)\n",
      "memory usage: 1.4+ MB\n"
     ]
    }
   ],
   "source": [
    "df = pd.read_excel(\"./Nlpt_task_fasttext.xlsx\")\n",
    "df.info()"
   ]
  },
  {
   "cell_type": "markdown",
   "id": "2c8d8a65-2c77-4fb1-a113-c28dc9d04694",
   "metadata": {
    "jp-MarkdownHeadingCollapsed": true
   },
   "source": [
    "## Splitting - Train, Test, Valid"
   ]
  },
  {
   "cell_type": "code",
   "execution_count": 3,
   "id": "1c9d9c54",
   "metadata": {},
   "outputs": [
    {
     "data": {
      "text/plain": [
       "((11797, 11), (1311, 11), (3278, 11))"
      ]
     },
     "execution_count": 3,
     "metadata": {},
     "output_type": "execute_result"
    }
   ],
   "source": [
    "from sklearn.model_selection import train_test_split\n",
    "\n",
    "# Splits the DataFrame into training and testing sets.\n",
    "\n",
    "train, test = train_test_split(df, test_size = 0.2)   \n",
    "# test_size=0.2 means 20% of the data will be used for testing.\n",
    "\n",
    "train, valid = train_test_split(train, test_size=0.1, random_state=42)\n",
    "# test_size=0.1 means 10% of the data will be used for validation.\n",
    "\n",
    "# Prints the shapes of the training and testing DataFrames, showing how many rows and columns each has.\n",
    "\n",
    "train.shape, valid.shape, test.shape"
   ]
  },
  {
   "cell_type": "code",
   "execution_count": 4,
   "id": "9ce177d9",
   "metadata": {},
   "outputs": [
    {
     "name": "stdout",
     "output_type": "stream",
     "text": [
      "FINAL SENTIMENT TARGET COUNTS:\n",
      "\n",
      "Train Data:\n",
      "positive    6375\n",
      "negative    5422\n",
      "Name: final_sentiment, dtype: int64\n",
      "\n",
      "Test Data:\n",
      "positive    1753\n",
      "negative    1525\n",
      "Name: final_sentiment, dtype: int64\n",
      "\n",
      "Valid Data:\n",
      "positive    713\n",
      "negative    598\n",
      "Name: final_sentiment, dtype: int64\n"
     ]
    }
   ],
   "source": [
    "print(\n",
    "    f\"FINAL SENTIMENT TARGET COUNTS:\\n\\nTrain Data:\\n{train['final_sentiment'].value_counts()}\\n\\nTest Data:\\n{test['final_sentiment'].value_counts()}\\n\\nValid Data:\\n{valid['final_sentiment'].value_counts()}\"\n",
    ")"
   ]
  },
  {
   "cell_type": "markdown",
   "id": "3414693c-79e9-406a-bec4-02f26026d46f",
   "metadata": {
    "jp-MarkdownHeadingCollapsed": true
   },
   "source": [
    "## Export Splitted Data"
   ]
  },
  {
   "cell_type": "code",
   "execution_count": 5,
   "id": "9e1c304b",
   "metadata": {},
   "outputs": [],
   "source": [
    "#Saves the \"final_text\" column from the training DataFrame into a CSV file named \"train_sentiment.csv & test_sentiment.csv\".\n",
    "# The header=False and index=False arguments prevent writing the header row and row indices.\n",
    "\n",
    "def export_csv(data, column, data_name):\n",
    "    data.to_csv(data_name, columns=[column], header=False, index=False)\n",
    "    print(f\"Dataset successfully saved as {data_name}\")"
   ]
  },
  {
   "cell_type": "code",
   "execution_count": 6,
   "id": "9d76bbeb",
   "metadata": {},
   "outputs": [
    {
     "name": "stdout",
     "output_type": "stream",
     "text": [
      "Dataset successfully saved as train_sentiment.txt\n",
      "Dataset successfully saved as valid_sentiment.txt\n",
      "Dataset successfully saved as test_sentiment.txt\n"
     ]
    }
   ],
   "source": [
    "#export_csv(train, \"final_text\", \"train_sentiment.txt\")\n",
    "#export_csv(valid, \"final_text\", \"valid_sentiment.txt\")\n",
    "#export_csv(test, \"final_text\", \"test_sentiment.txt\")"
   ]
  }
 ],
 "metadata": {
  "kernelspec": {
   "display_name": "Python 3 (ipykernel)",
   "language": "python",
   "name": "python3"
  },
  "language_info": {
   "codemirror_mode": {
    "name": "ipython",
    "version": 3
   },
   "file_extension": ".py",
   "mimetype": "text/x-python",
   "name": "python",
   "nbconvert_exporter": "python",
   "pygments_lexer": "ipython3",
   "version": "3.11.11"
  }
 },
 "nbformat": 4,
 "nbformat_minor": 5
}
