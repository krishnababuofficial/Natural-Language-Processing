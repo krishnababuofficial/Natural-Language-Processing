{
 "cells": [
  {
   "cell_type": "markdown",
   "id": "67d86052-c4bb-4744-9898-a1680303d1c6",
   "metadata": {
    "jp-MarkdownHeadingCollapsed": true
   },
   "source": [
    "## Import Packages"
   ]
  },
  {
   "cell_type": "code",
   "execution_count": 1,
   "id": "172ce8e8",
   "metadata": {},
   "outputs": [],
   "source": [
    "import pandas as pd \n",
    "import numpy as np\n",
    "import matplotlib.pyplot as plt\n",
    "import seaborn as sns\n",
    "\n",
    "import fasttext\n",
    "\n",
    "import warnings \n",
    "warnings.filterwarnings(\"ignore\")"
   ]
  },
  {
   "cell_type": "markdown",
   "id": "69c558c6-a455-4316-94d7-31cd48ebaac5",
   "metadata": {
    "jp-MarkdownHeadingCollapsed": true
   },
   "source": [
    "## Load Dataset\n",
    "- Have done some preprocess on the Rotten_Tomatoes_Movies3 data for Traditional Machine Learning purpose\n",
    "- Those clean data are used in this fasttext approch "
   ]
  },
  {
   "cell_type": "code",
   "execution_count": 2,
   "id": "d5cc93f5",
   "metadata": {},
   "outputs": [
    {
     "name": "stdout",
     "output_type": "stream",
     "text": [
      "<class 'pandas.core.frame.DataFrame'>\n",
      "RangeIndex: 16386 entries, 0 to 16385\n",
      "Data columns (total 28 columns):\n",
      " #   Column                       Non-Null Count  Dtype         \n",
      "---  ------                       --------------  -----         \n",
      " 0   movie_title                  16386 non-null  object        \n",
      " 1   movie_info                   16386 non-null  object        \n",
      " 2   movie_info_processed         16386 non-null  object        \n",
      " 3   movie_info_missing           16386 non-null  int64         \n",
      " 4   critics_consensus            16386 non-null  object        \n",
      " 5   critics_consensus_processed  16385 non-null  object        \n",
      " 6   critics_consensus_missing    16386 non-null  int64         \n",
      " 7   rating                       16386 non-null  object        \n",
      " 8   genre                        16386 non-null  object        \n",
      " 9   genre_missing                16386 non-null  int64         \n",
      " 10  directors                    16386 non-null  object        \n",
      " 11  directors_missing            16386 non-null  int64         \n",
      " 12  writers                      16386 non-null  object        \n",
      " 13  writers_missing              16386 non-null  int64         \n",
      " 14  cast                         16386 non-null  object        \n",
      " 15  cast_missing                 16386 non-null  int64         \n",
      " 16  in_theaters_date             16386 non-null  datetime64[ns]\n",
      " 17  in_theaters_date_missing     16386 non-null  int64         \n",
      " 18  on_streaming_date            16386 non-null  datetime64[ns]\n",
      " 19  on_streaming_date_missing    16386 non-null  int64         \n",
      " 20  runtime_in_minutes           16386 non-null  int64         \n",
      " 21  runtime_in_minutes_missing   16386 non-null  int64         \n",
      " 22  studio_name                  16386 non-null  object        \n",
      " 23  studio_name_missing          16386 non-null  int64         \n",
      " 24  tomatometer_status           16386 non-null  object        \n",
      " 25  tomatometer_rating           16386 non-null  int64         \n",
      " 26  tomatometer_count            16386 non-null  int64         \n",
      " 27  audience_rating              16386 non-null  int64         \n",
      "dtypes: datetime64[ns](2), int64(14), object(12)\n",
      "memory usage: 3.5+ MB\n"
     ]
    }
   ],
   "source": [
    "df_nlp = pd.read_excel(\"./df_copy_NlpTask.xlsx\")\n",
    "df_nlp.info()"
   ]
  },
  {
   "cell_type": "markdown",
   "id": "ada305dd-7eae-44ba-8094-32970b7a270c",
   "metadata": {
    "jp-MarkdownHeadingCollapsed": true
   },
   "source": [
    "## Data Exploration"
   ]
  },
  {
   "cell_type": "code",
   "execution_count": 3,
   "id": "b4911029",
   "metadata": {},
   "outputs": [
    {
     "name": "stdout",
     "output_type": "stream",
     "text": [
      "tomatometer_status : ['Rotten' 'Certified Fresh' 'Fresh']\n",
      "Rotten             7160\n",
      "Fresh              6275\n",
      "Certified Fresh    2951\n",
      "Name: tomatometer_status, dtype: int64\n"
     ]
    }
   ],
   "source": [
    "print(f\"tomatometer_status : {df_nlp['tomatometer_status'].unique()}\\n{df_nlp['tomatometer_status'].value_counts()}\")"
   ]
  },
  {
   "cell_type": "code",
   "execution_count": 4,
   "id": "701a8b44",
   "metadata": {},
   "outputs": [
    {
     "name": "stdout",
     "output_type": "stream",
     "text": [
      "audience_rating  : [ 53  64  97  74  37  86  78  87  38  66  79  84  35  57  82  80  89  75\n",
      "  60  91  63  71  61  30  48  56  83  40  36  88  65  73  85  42  77  67\n",
      "  94  20  68  58  55  70  93  31  29  24  33  43  59  69  39  52  45  22\n",
      "  46  50  54  21  27  62  72  32  44  18  47  76  26  90  25  81  28  41\n",
      "  19  49  11  34  92 100  12  51  95  96  17  23  16  14  15   9  10   5\n",
      "   7  13   4   0  99   8   6  98]\n",
      "98\n",
      "72    322\n",
      "75    314\n",
      "78    296\n",
      "80    289\n",
      "76    287\n",
      "     ... \n",
      "8       5\n",
      "7       4\n",
      "99      3\n",
      "4       2\n",
      "6       2\n",
      "Name: audience_rating, Length: 98, dtype: int64\n"
     ]
    }
   ],
   "source": [
    "print(f\"audience_rating  : {df_nlp['audience_rating'].unique()}\\n{df_nlp['audience_rating'].nunique()}\\n{df_nlp['audience_rating'].value_counts()}\")"
   ]
  },
  {
   "cell_type": "code",
   "execution_count": 5,
   "id": "2ac25806",
   "metadata": {},
   "outputs": [
    {
     "name": "stdout",
     "output_type": "stream",
     "text": [
      "tomatometer_rating  : [ 49  86  68 100  89   8  96  20  90  80  91  25   4  69  67  92  75   0\n",
      "  31  63  41  93  22  33  21  15  64  32  60  50  24  14  40  99  36  42\n",
      "  27   9  84  97  87  81  78  54  35  82  58  18  55  88  45  53  13  73\n",
      "  72  37  46   7  56  34  83  38  26  76  17  16  12  44  79  70  19  61\n",
      "  62  74  71  29  77   5  51  28  23  10  48  11  95  94  65  30  98  52\n",
      "  59  85  43  39  57  47  66   6   3   2   1]\n",
      "101\n",
      "100    860\n",
      "50     389\n",
      "80     388\n",
      "83     351\n",
      "67     345\n",
      "      ... \n",
      "99      42\n",
      "4       39\n",
      "3       21\n",
      "2       11\n",
      "1        6\n",
      "Name: tomatometer_rating, Length: 101, dtype: int64\n"
     ]
    }
   ],
   "source": [
    "print(f\"tomatometer_rating  : {df_nlp['tomatometer_rating'].unique()}\\n{df_nlp['tomatometer_rating'].nunique()}\\n{df_nlp['tomatometer_rating'].value_counts()}\")"
   ]
  },
  {
   "cell_type": "code",
   "execution_count": 6,
   "id": "c0e3c237",
   "metadata": {
    "scrolled": true
   },
   "outputs": [
    {
     "name": "stdout",
     "output_type": "stream",
     "text": [
      "      tomatometer_status  tomatometer_rating  audience_rating\n",
      "0                 Rotten                  49               53\n",
      "1        Certified Fresh                  86               64\n",
      "2                  Fresh                  68               53\n",
      "3        Certified Fresh                 100               97\n",
      "4                  Fresh                  89               74\n",
      "...                  ...                 ...              ...\n",
      "16381             Rotten                  56               74\n",
      "16382    Certified Fresh                  97               92\n",
      "16383              Fresh                  78               87\n",
      "16384              Fresh                  95               91\n",
      "16385             Rotten                  57               62\n",
      "\n",
      "[16386 rows x 3 columns]\n"
     ]
    }
   ],
   "source": [
    "print(df_nlp[['tomatometer_status', 'tomatometer_rating', 'audience_rating']])"
   ]
  },
  {
   "cell_type": "code",
   "execution_count": 7,
   "id": "3b342b62",
   "metadata": {
    "scrolled": true
   },
   "outputs": [
    {
     "name": "stdout",
     "output_type": "stream",
     "text": [
      "<class 'pandas.core.frame.DataFrame'>\n",
      "RangeIndex: 16386 entries, 0 to 16385\n",
      "Data columns (total 28 columns):\n",
      " #   Column                       Non-Null Count  Dtype         \n",
      "---  ------                       --------------  -----         \n",
      " 0   movie_title                  16386 non-null  object        \n",
      " 1   movie_info                   16386 non-null  object        \n",
      " 2   movie_info_processed         16386 non-null  object        \n",
      " 3   movie_info_missing           16386 non-null  int64         \n",
      " 4   critics_consensus            16386 non-null  object        \n",
      " 5   critics_consensus_processed  16385 non-null  object        \n",
      " 6   critics_consensus_missing    16386 non-null  int64         \n",
      " 7   rating                       16386 non-null  object        \n",
      " 8   genre                        16386 non-null  object        \n",
      " 9   genre_missing                16386 non-null  int64         \n",
      " 10  directors                    16386 non-null  object        \n",
      " 11  directors_missing            16386 non-null  int64         \n",
      " 12  writers                      16386 non-null  object        \n",
      " 13  writers_missing              16386 non-null  int64         \n",
      " 14  cast                         16386 non-null  object        \n",
      " 15  cast_missing                 16386 non-null  int64         \n",
      " 16  in_theaters_date             16386 non-null  datetime64[ns]\n",
      " 17  in_theaters_date_missing     16386 non-null  int64         \n",
      " 18  on_streaming_date            16386 non-null  datetime64[ns]\n",
      " 19  on_streaming_date_missing    16386 non-null  int64         \n",
      " 20  runtime_in_minutes           16386 non-null  int64         \n",
      " 21  runtime_in_minutes_missing   16386 non-null  int64         \n",
      " 22  studio_name                  16386 non-null  object        \n",
      " 23  studio_name_missing          16386 non-null  int64         \n",
      " 24  tomatometer_status           16386 non-null  object        \n",
      " 25  tomatometer_rating           16386 non-null  int64         \n",
      " 26  tomatometer_count            16386 non-null  int64         \n",
      " 27  audience_rating              16386 non-null  int64         \n",
      "dtypes: datetime64[ns](2), int64(14), object(12)\n",
      "memory usage: 3.5+ MB\n"
     ]
    }
   ],
   "source": [
    "df_nlp_1 = df_nlp.copy()\n",
    "df_nlp_1.info()"
   ]
  },
  {
   "cell_type": "markdown",
   "id": "2ace4ab4-fccd-4bd5-96c3-965e0d16d24f",
   "metadata": {
    "jp-MarkdownHeadingCollapsed": true
   },
   "source": [
    "## Preprocessing & Cleaning"
   ]
  },
  {
   "cell_type": "code",
   "execution_count": 8,
   "id": "49f8b3a1",
   "metadata": {},
   "outputs": [],
   "source": [
    "import spacy\n",
    "nlp = spacy.load(\"en_core_web_md\") \n",
    "\n",
    "def preprocess(text):      # This defines a function called preprocess that cleans and normalizes the text\n",
    "    doc = nlp(text)        # Passes the text to the SpaCy model (nlp) to get a linguistic analysis.\n",
    "    filtered_word = []     \n",
    "    for token in doc:\n",
    "        if not token.is_stop and not token.is_punct and token.is_alpha:   # Filters out stop words (common words like \"the,\" \"a,\" \"is\"), punctuation, and non-alphabetic characters.\n",
    "            filtered_word.append(token.lemma_.lower())                    # Adds the lemma (base form) of the token in lowercase to the filtered_word list.\n",
    "    return \" \".join(filtered_word)                                        # Returns the cleaned and normalized text as a single string."
   ]
  },
  {
   "cell_type": "code",
   "execution_count": 9,
   "id": "e2567464",
   "metadata": {},
   "outputs": [
    {
     "data": {
      "text/plain": [
       "'A Puerto Rican youth is on trial for murder, accused of knifing his father to death. The twelve jurors retire to the jury room, having been admonished that the defendant is innocent until proven guilty beyond a reasonable doubt. Eleven of the jurors vote for conviction, each for reasons of his own. The sole holdout is Juror #8, played by Henry Fonda. As Fonda persuades the weary jurors to re-examine the evidence, we learn the backstory of each man. Juror #3 (Lee J. Cobb), a bullying self-made man, has estranged himself from his own son. Juror #7 (Jack Warden) has an ingrained mistrust of foreigners; so, to a lesser extent, does Juror #6 (Edward Binns). Jurors #10 (Ed Begley) and #11 (George Voskovec), so certain of the infallibility of the Law, assume that if the boy was arrested, he must be guilty. Juror #4 (E.G. Marshall) is an advocate of dispassionate deductive reasoning. Juror #5 (Jack Klugman), like the defendant a product of \"the streets,\" hopes that his guilty vote will distance himself from his past. Juror #12 (Robert Webber), an advertising man, doesn\\'t understand anything that he can\\'t package and market. And Jurors #1 (Martin Balsam), #2 (John Fiedler) and #9 (Joseph Sweeney), anxious not to make waves, \"go with the flow.\" The excruciatingly hot day drags into an even hotter night; still, Fonda chips away at the guilty verdict, insisting that his fellow jurors bear in mind those words \"reasonable doubt.\" A pet project of Henry Fonda\\'s, Twelve Angry Men was his only foray into film production; the actor\\'s partner in this venture was Reginald Rose, who wrote the 1954 television play on which the film was based. Carried over from the TV version was director Sidney Lumet, here making his feature-film debut. A flop when it first came out (surprisingly, since it cost almost nothing to make), Twelve Angry Men holds up beautifully when seen today. It was remade for television in 1997 by director William Friedkin with Jack Lemmon and George C. Scott. ~ Hal Erickson, Rovi'"
      ]
     },
     "execution_count": 9,
     "metadata": {},
     "output_type": "execute_result"
    }
   ],
   "source": [
    "sample_test = df_nlp_1['movie_info'][3]\n",
    "sample_test"
   ]
  },
  {
   "cell_type": "code",
   "execution_count": 10,
   "id": "53a6ba32",
   "metadata": {},
   "outputs": [
    {
     "data": {
      "text/plain": [
       "'puerto rican youth trial murder accuse knife father death juror retire jury room having admonish defendant innocent prove guilty reasonable doubt juror vote conviction reason sole holdout juror play henry fonda fonda persuade weary juror examine evidence learn backstory man juror lee cobb bully self man estrange son juror jack warden ingrained mistrust foreigner less extent juror edward binns juror ed begley george voskovec certain infallibility law assume boy arrest guilty juror marshall advocate dispassionate deductive reasoning juror jack klugman like defendant product street hope guilty vote distance past juror robert webber advertising man understand package market juror martin balsam john fiedler joseph sweeney anxious wave flow excruciatingly hot day drag hot night fonda chip away guilty verdict insist fellow juror bear mind word reasonable doubt pet project henry fonda angry men foray film production actor partner venture reginald rose write television play film base carry tv version director sidney lumet make feature film debut flop come surprisingly cost angry men hold beautifully see today remade television director william friedkin jack lemmon george scott hal erickson rovi'"
      ]
     },
     "execution_count": 10,
     "metadata": {},
     "output_type": "execute_result"
    }
   ],
   "source": [
    "preprocess(sample_test)"
   ]
  },
  {
   "cell_type": "code",
   "execution_count": 11,
   "id": "b87de256",
   "metadata": {},
   "outputs": [
    {
     "data": {
      "text/plain": [
       "'Unknown'"
      ]
     },
     "execution_count": 11,
     "metadata": {},
     "output_type": "execute_result"
    }
   ],
   "source": [
    "sample_test_1 = df_nlp_1['critics_consensus'][66]\n",
    "sample_test_1"
   ]
  },
  {
   "cell_type": "code",
   "execution_count": 12,
   "id": "4e128f33",
   "metadata": {},
   "outputs": [
    {
     "data": {
      "text/plain": [
       "'unknown'"
      ]
     },
     "execution_count": 12,
     "metadata": {},
     "output_type": "execute_result"
    }
   ],
   "source": [
    "preprocess(sample_test_1)"
   ]
  },
  {
   "cell_type": "code",
   "execution_count": 13,
   "id": "3a0982ff",
   "metadata": {},
   "outputs": [
    {
     "data": {
      "text/plain": [
       "\"The brilliantly well-rounded Zootopia offers a thoughtful, inclusive message that's as rich and timely as its sumptuously state-of-the-art animation -- all while remaining fast and funny enough to keep younger viewers entertained.\""
      ]
     },
     "execution_count": 13,
     "metadata": {},
     "output_type": "execute_result"
    }
   ],
   "source": [
    "sample_test_2 = df_nlp_1['critics_consensus'][16382]\n",
    "sample_test_2"
   ]
  },
  {
   "cell_type": "code",
   "execution_count": 14,
   "id": "57fc6566",
   "metadata": {},
   "outputs": [
    {
     "data": {
      "text/plain": [
       "'brilliantly rounded zootopia offer thoughtful inclusive message rich timely sumptuously state art animation remain fast funny young viewer entertain'"
      ]
     },
     "execution_count": 14,
     "metadata": {},
     "output_type": "execute_result"
    }
   ],
   "source": [
    "preprocess(sample_test_2)"
   ]
  },
  {
   "cell_type": "code",
   "execution_count": 15,
   "id": "abc22fc6",
   "metadata": {},
   "outputs": [
    {
     "data": {
      "text/plain": [
       "'100 Streets strands its talented cast - led by a clearly overqualified Idris Elba - in the midst of a well-meaning but fatally contrived drama.'"
      ]
     },
     "execution_count": 15,
     "metadata": {},
     "output_type": "execute_result"
    }
   ],
   "source": [
    "sample_test_3 = df_nlp_1['critics_consensus'][485]\n",
    "sample_test_3"
   ]
  },
  {
   "cell_type": "code",
   "execution_count": 16,
   "id": "8d23ae3e",
   "metadata": {},
   "outputs": [
    {
     "data": {
      "text/plain": [
       "'streets strand talented cast lead clearly overqualified idris elba midst mean fatally contrive drama'"
      ]
     },
     "execution_count": 16,
     "metadata": {},
     "output_type": "execute_result"
    }
   ],
   "source": [
    "preprocess(sample_test_3)"
   ]
  },
  {
   "cell_type": "code",
   "execution_count": 17,
   "id": "6bb3637b",
   "metadata": {},
   "outputs": [
    {
     "data": {
      "text/plain": [
       "'brilliantly round zootopia offer thoughtful inclusive message rich timely sumptuously state art animation remain fast funny young viewer entertain'"
      ]
     },
     "execution_count": 17,
     "metadata": {},
     "output_type": "execute_result"
    }
   ],
   "source": [
    "df_nlp_1['critics_consensus_processed'][16382]"
   ]
  },
  {
   "cell_type": "code",
   "execution_count": 18,
   "id": "948cc2c8",
   "metadata": {},
   "outputs": [
    {
     "data": {
      "text/plain": [
       "'100 streets strand talented cast lead clearly overqualifie idris elba midst mean fatally contrived drama'"
      ]
     },
     "execution_count": 18,
     "metadata": {},
     "output_type": "execute_result"
    }
   ],
   "source": [
    "df_nlp_1['critics_consensus_processed'][485]"
   ]
  },
  {
   "cell_type": "code",
   "execution_count": 19,
   "id": "2c53b963-44e0-485e-a65c-8e2c334b54e6",
   "metadata": {},
   "outputs": [],
   "source": [
    "# Add the processed columns\n",
    "df_nlp_1['processed_movie_info'] = df_nlp_1['movie_info'].apply(preprocess)\n",
    "df_nlp_1['processed_critics_consensus'] = df_nlp_1['critics_consensus'].apply(preprocess)"
   ]
  },
  {
   "cell_type": "markdown",
   "id": "f35c4d15-80ab-4a81-aabd-414d5f0a959c",
   "metadata": {
    "jp-MarkdownHeadingCollapsed": true
   },
   "source": [
    "## Feature Engineering"
   ]
  },
  {
   "cell_type": "code",
   "execution_count": 20,
   "id": "a75916fb-f136-4d8b-b022-3a790347507b",
   "metadata": {},
   "outputs": [
    {
     "name": "stdout",
     "output_type": "stream",
     "text": [
      "<class 'pandas.core.frame.DataFrame'>\n",
      "RangeIndex: 16386 entries, 0 to 16385\n",
      "Data columns (total 7 columns):\n",
      " #   Column                       Non-Null Count  Dtype \n",
      "---  ------                       --------------  ----- \n",
      " 0   movie_title                  16386 non-null  object\n",
      " 1   movie_info                   16386 non-null  object\n",
      " 2   critics_consensus            16386 non-null  object\n",
      " 3   tomatometer_status           16386 non-null  object\n",
      " 4   audience_rating              16386 non-null  int64 \n",
      " 5   processed_movie_info         16386 non-null  object\n",
      " 6   processed_critics_consensus  16386 non-null  object\n",
      "dtypes: int64(1), object(6)\n",
      "memory usage: 896.2+ KB\n"
     ]
    }
   ],
   "source": [
    "# Reorder columns so the processed columns come right after the original columns\n",
    "df_new = df_nlp_1.drop(['movie_info_missing', 'critics_consensus_missing',\n",
    "                        'movie_info_processed', 'movie_info_missing',\n",
    "                        'critics_consensus_processed', 'critics_consensus_missing', \n",
    "                        'rating', 'genre', \n",
    "                        'genre_missing', 'directors',\n",
    "                        'directors_missing', 'writers',\n",
    "                        'writers_missing', 'cast',\n",
    "                        'cast_missing', 'in_theaters_date',\n",
    "                        'in_theaters_date_missing', 'on_streaming_date',\n",
    "                        'on_streaming_date_missing', 'runtime_in_minutes',\n",
    "                        'runtime_in_minutes_missing', 'studio_name',\n",
    "                        'studio_name_missing', 'tomatometer_rating',\n",
    "                        'tomatometer_count'], axis=1)\n",
    "\n",
    "\n",
    "df_new.info() "
   ]
  },
  {
   "cell_type": "markdown",
   "id": "8b00a4f3-6d1b-4a68-8cd4-61cb4d92db6b",
   "metadata": {
    "jp-MarkdownHeadingCollapsed": true
   },
   "source": [
    "### Final Sentiment Logic"
   ]
  },
  {
   "cell_type": "code",
   "execution_count": 21,
   "id": "31d0a25b",
   "metadata": {},
   "outputs": [],
   "source": [
    "# Define function to assign sentiment based on tomatometer_status\n",
    "def get_tomatometer_sentiment(tomatometer_status):\n",
    "    if tomatometer_status == 'Certified Fresh':\n",
    "        return 'positive'\n",
    "    elif tomatometer_status == 'Fresh':\n",
    "        return 'positive'\n",
    "    else:  # 'Rotten'\n",
    "        return 'negative'\n",
    "\n",
    "# Define function to assign sentiment based on audience_rating\n",
    "def get_audience_sentiment(audience_rating):\n",
    "    if audience_rating >= 60:\n",
    "        return 'positive'\n",
    "    elif 40 <= audience_rating < 60:\n",
    "        return 'neutral'\n",
    "    else:\n",
    "        return 'negative'\n",
    "\n",
    "# Function to combine both sentiments\n",
    "def combine_sentiments(tomatometer_sentiment, audience_sentiment):\n",
    "    if tomatometer_sentiment == 'positive' and audience_sentiment == 'positive':\n",
    "        return 'positive'\n",
    "    elif tomatometer_sentiment == 'negative' and audience_sentiment == 'negative':\n",
    "        return 'negative'\n",
    "    elif tomatometer_sentiment == 'positive' and audience_sentiment == 'neutral':\n",
    "        return 'positive'\n",
    "    elif tomatometer_sentiment == 'negative' and audience_sentiment == 'neutral':\n",
    "        return 'negative'\n",
    "    else: \n",
    "        return 'negative' # error check <-\"neutral\""
   ]
  },
  {
   "cell_type": "code",
   "execution_count": 22,
   "id": "417523bf",
   "metadata": {},
   "outputs": [],
   "source": [
    "df_new['tomatometer_sentiment'] = df_new['tomatometer_status'].apply(get_tomatometer_sentiment)\n",
    "df_new['audience_sentiment'] = df_new['audience_rating'].apply(get_audience_sentiment)\n",
    "\n",
    "# Combine both sentiments to create final sentiment column\n",
    "df_new['final_sentiment'] = df_new.apply(\n",
    "    lambda row: combine_sentiments(row['tomatometer_sentiment'], row['audience_sentiment']), axis=1\n",
    ")"
   ]
  },
  {
   "cell_type": "code",
   "execution_count": 26,
   "id": "210b9235",
   "metadata": {},
   "outputs": [
    {
     "data": {
      "text/plain": [
       "positive    8841\n",
       "negative    7545\n",
       "Name: final_sentiment, dtype: int64"
      ]
     },
     "execution_count": 26,
     "metadata": {},
     "output_type": "execute_result"
    }
   ],
   "source": [
    "df_new['final_sentiment'].value_counts()"
   ]
  },
  {
   "cell_type": "code",
   "execution_count": 27,
   "id": "33ad801b",
   "metadata": {},
   "outputs": [
    {
     "name": "stdout",
     "output_type": "stream",
     "text": [
      "<class 'pandas.core.frame.DataFrame'>\n",
      "RangeIndex: 16386 entries, 0 to 16385\n",
      "Data columns (total 10 columns):\n",
      " #   Column                       Non-Null Count  Dtype \n",
      "---  ------                       --------------  ----- \n",
      " 0   movie_title                  16386 non-null  object\n",
      " 1   movie_info                   16386 non-null  object\n",
      " 2   critics_consensus            16386 non-null  object\n",
      " 3   tomatometer_status           16386 non-null  object\n",
      " 4   audience_rating              16386 non-null  int64 \n",
      " 5   processed_movie_info         16386 non-null  object\n",
      " 6   processed_critics_consensus  16386 non-null  object\n",
      " 7   tomatometer_sentiment        16386 non-null  object\n",
      " 8   audience_sentiment           16386 non-null  object\n",
      " 9   final_sentiment              16386 non-null  object\n",
      "dtypes: int64(1), object(9)\n",
      "memory usage: 1.3+ MB\n"
     ]
    }
   ],
   "source": [
    "df_new.info()"
   ]
  },
  {
   "cell_type": "markdown",
   "id": "c787b14c-15fa-49ea-acac-e594e7a8a402",
   "metadata": {
    "jp-MarkdownHeadingCollapsed": true
   },
   "source": [
    "## Creates a new column \"final_text\" with the following format:\n",
    "- \"label\" + sentiment + \" \" + preprocessed_review.\n",
    "- This is the format FastText expects for supervised training."
   ]
  },
  {
   "cell_type": "code",
   "execution_count": 28,
   "id": "3c9af3fa",
   "metadata": {},
   "outputs": [
    {
     "data": {
      "text/plain": [
       "'__label__positive puerto rican youth trial murder accuse knife father death juror retire jury room having admonish defendant innocent prove guilty reasonable doubt juror vote conviction reason sole holdout juror play henry fonda fonda persuade weary juror examine evidence learn backstory man juror lee cobb bully self man estrange son juror jack warden ingrained mistrust foreigner less extent juror edward binns juror ed begley george voskovec certain infallibility law assume boy arrest guilty juror marshall advocate dispassionate deductive reasoning juror jack klugman like defendant product street hope guilty vote distance past juror robert webber advertising man understand package market juror martin balsam john fiedler joseph sweeney anxious wave flow excruciatingly hot day drag hot night fonda chip away guilty verdict insist fellow juror bear mind word reasonable doubt pet project henry fonda angry men foray film production actor partner venture reginald rose write television play film base carry tv version director sidney lumet make feature film debut flop come surprisingly cost angry men hold beautifully see today remade television director william friedkin jack lemmon george scott hal erickson rovi sidney lumet feature debut superbly write dramatically effective courtroom thriller rightfully stand modern classic'"
      ]
     },
     "execution_count": 28,
     "metadata": {},
     "output_type": "execute_result"
    }
   ],
   "source": [
    "df_new['final_text'] = \"__label__\"+ df_new['final_sentiment']+ \" \"+ df_new['processed_movie_info']+ \" \"+ df_new['processed_critics_consensus']\n",
    "df_new['final_text'][3]"
   ]
  },
  {
   "cell_type": "markdown",
   "id": "ca9dc293-1243-4871-8944-49626de9ec94",
   "metadata": {
    "jp-MarkdownHeadingCollapsed": true
   },
   "source": [
    "## Rearrange the Features and Target "
   ]
  },
  {
   "cell_type": "code",
   "execution_count": 29,
   "id": "e312a36d",
   "metadata": {},
   "outputs": [],
   "source": [
    "columns_order = [\n",
    "    'movie_title', 'movie_info', 'processed_movie_info',\n",
    "    'critics_consensus', 'processed_critics_consensus',\n",
    "    'tomatometer_status', 'tomatometer_sentiment',\n",
    "    'audience_rating', 'audience_sentiment', 'final_sentiment', \n",
    "    'final_text'     \n",
    "]\n",
    "\n",
    "# Reorder the dataframe columns\n",
    "df_new = df_new[columns_order]"
   ]
  },
  {
   "cell_type": "code",
   "execution_count": 30,
   "id": "f143cfec-c28e-42e0-9f50-e33df7e636ed",
   "metadata": {},
   "outputs": [
    {
     "name": "stdout",
     "output_type": "stream",
     "text": [
      "<class 'pandas.core.frame.DataFrame'>\n",
      "RangeIndex: 16386 entries, 0 to 16385\n",
      "Data columns (total 11 columns):\n",
      " #   Column                       Non-Null Count  Dtype \n",
      "---  ------                       --------------  ----- \n",
      " 0   movie_title                  16386 non-null  object\n",
      " 1   movie_info                   16386 non-null  object\n",
      " 2   processed_movie_info         16386 non-null  object\n",
      " 3   critics_consensus            16386 non-null  object\n",
      " 4   processed_critics_consensus  16386 non-null  object\n",
      " 5   tomatometer_status           16386 non-null  object\n",
      " 6   tomatometer_sentiment        16386 non-null  object\n",
      " 7   audience_rating              16386 non-null  int64 \n",
      " 8   audience_sentiment           16386 non-null  object\n",
      " 9   final_sentiment              16386 non-null  object\n",
      " 10  final_text                   16386 non-null  object\n",
      "dtypes: int64(1), object(10)\n",
      "memory usage: 1.4+ MB\n"
     ]
    }
   ],
   "source": [
    "df_new.info() "
   ]
  },
  {
   "cell_type": "code",
   "execution_count": 31,
   "id": "38e70831",
   "metadata": {},
   "outputs": [
    {
     "data": {
      "text/html": [
       "<div>\n",
       "<style scoped>\n",
       "    .dataframe tbody tr th:only-of-type {\n",
       "        vertical-align: middle;\n",
       "    }\n",
       "\n",
       "    .dataframe tbody tr th {\n",
       "        vertical-align: top;\n",
       "    }\n",
       "\n",
       "    .dataframe thead th {\n",
       "        text-align: right;\n",
       "    }\n",
       "</style>\n",
       "<table border=\"1\" class=\"dataframe\">\n",
       "  <thead>\n",
       "    <tr style=\"text-align: right;\">\n",
       "      <th></th>\n",
       "      <th>movie_title</th>\n",
       "      <th>movie_info</th>\n",
       "      <th>processed_movie_info</th>\n",
       "      <th>critics_consensus</th>\n",
       "      <th>processed_critics_consensus</th>\n",
       "      <th>tomatometer_status</th>\n",
       "      <th>tomatometer_sentiment</th>\n",
       "      <th>audience_rating</th>\n",
       "      <th>audience_sentiment</th>\n",
       "      <th>final_sentiment</th>\n",
       "      <th>final_text</th>\n",
       "    </tr>\n",
       "  </thead>\n",
       "  <tbody>\n",
       "    <tr>\n",
       "      <th>0</th>\n",
       "      <td>Percy Jackson &amp; the Olympians: The Lightning T...</td>\n",
       "      <td>A teenager discovers he's the descendant of a ...</td>\n",
       "      <td>teenager discover descendant greek god set adv...</td>\n",
       "      <td>Though it may seem like just another Harry Pot...</td>\n",
       "      <td>like harry potter knockoff percy jackson benef...</td>\n",
       "      <td>Rotten</td>\n",
       "      <td>negative</td>\n",
       "      <td>53</td>\n",
       "      <td>neutral</td>\n",
       "      <td>negative</td>\n",
       "      <td>__label__negative teenager discover descendant...</td>\n",
       "    </tr>\n",
       "    <tr>\n",
       "      <th>1</th>\n",
       "      <td>Please Give</td>\n",
       "      <td>Kate has a lot on her mind. There's the ethics...</td>\n",
       "      <td>kate lot mind ethic problem buy furniture chea...</td>\n",
       "      <td>Nicole Holofcener's newest might seem slight i...</td>\n",
       "      <td>nicole holofcener new slight place rendering c...</td>\n",
       "      <td>Certified Fresh</td>\n",
       "      <td>positive</td>\n",
       "      <td>64</td>\n",
       "      <td>positive</td>\n",
       "      <td>positive</td>\n",
       "      <td>__label__positive kate lot mind ethic problem ...</td>\n",
       "    </tr>\n",
       "    <tr>\n",
       "      <th>2</th>\n",
       "      <td>10</td>\n",
       "      <td>Blake Edwards' 10 stars Dudley Moore as George...</td>\n",
       "      <td>blake edwards star dudley moore george mancini...</td>\n",
       "      <td>Unknown</td>\n",
       "      <td>unknown</td>\n",
       "      <td>Fresh</td>\n",
       "      <td>positive</td>\n",
       "      <td>53</td>\n",
       "      <td>neutral</td>\n",
       "      <td>positive</td>\n",
       "      <td>__label__positive blake edwards star dudley mo...</td>\n",
       "    </tr>\n",
       "    <tr>\n",
       "      <th>3</th>\n",
       "      <td>12 Angry Men (Twelve Angry Men)</td>\n",
       "      <td>A Puerto Rican youth is on trial for murder, a...</td>\n",
       "      <td>puerto rican youth trial murder accuse knife f...</td>\n",
       "      <td>Sidney Lumet's feature debut is a superbly wri...</td>\n",
       "      <td>sidney lumet feature debut superbly write dram...</td>\n",
       "      <td>Certified Fresh</td>\n",
       "      <td>positive</td>\n",
       "      <td>97</td>\n",
       "      <td>positive</td>\n",
       "      <td>positive</td>\n",
       "      <td>__label__positive puerto rican youth trial mur...</td>\n",
       "    </tr>\n",
       "    <tr>\n",
       "      <th>4</th>\n",
       "      <td>20,000 Leagues Under The Sea</td>\n",
       "      <td>This 1954 Disney version of Jules Verne's 20,0...</td>\n",
       "      <td>disney version jules verne leagues sea represe...</td>\n",
       "      <td>One of Disney's finest live-action adventures,...</td>\n",
       "      <td>disney fine live action adventure leagues sea ...</td>\n",
       "      <td>Fresh</td>\n",
       "      <td>positive</td>\n",
       "      <td>74</td>\n",
       "      <td>positive</td>\n",
       "      <td>positive</td>\n",
       "      <td>__label__positive disney version jules verne l...</td>\n",
       "    </tr>\n",
       "  </tbody>\n",
       "</table>\n",
       "</div>"
      ],
      "text/plain": [
       "                                         movie_title  \\\n",
       "0  Percy Jackson & the Olympians: The Lightning T...   \n",
       "1                                        Please Give   \n",
       "2                                                 10   \n",
       "3                    12 Angry Men (Twelve Angry Men)   \n",
       "4                       20,000 Leagues Under The Sea   \n",
       "\n",
       "                                          movie_info  \\\n",
       "0  A teenager discovers he's the descendant of a ...   \n",
       "1  Kate has a lot on her mind. There's the ethics...   \n",
       "2  Blake Edwards' 10 stars Dudley Moore as George...   \n",
       "3  A Puerto Rican youth is on trial for murder, a...   \n",
       "4  This 1954 Disney version of Jules Verne's 20,0...   \n",
       "\n",
       "                                processed_movie_info  \\\n",
       "0  teenager discover descendant greek god set adv...   \n",
       "1  kate lot mind ethic problem buy furniture chea...   \n",
       "2  blake edwards star dudley moore george mancini...   \n",
       "3  puerto rican youth trial murder accuse knife f...   \n",
       "4  disney version jules verne leagues sea represe...   \n",
       "\n",
       "                                   critics_consensus  \\\n",
       "0  Though it may seem like just another Harry Pot...   \n",
       "1  Nicole Holofcener's newest might seem slight i...   \n",
       "2                                            Unknown   \n",
       "3  Sidney Lumet's feature debut is a superbly wri...   \n",
       "4  One of Disney's finest live-action adventures,...   \n",
       "\n",
       "                         processed_critics_consensus tomatometer_status  \\\n",
       "0  like harry potter knockoff percy jackson benef...             Rotten   \n",
       "1  nicole holofcener new slight place rendering c...    Certified Fresh   \n",
       "2                                            unknown              Fresh   \n",
       "3  sidney lumet feature debut superbly write dram...    Certified Fresh   \n",
       "4  disney fine live action adventure leagues sea ...              Fresh   \n",
       "\n",
       "  tomatometer_sentiment  audience_rating audience_sentiment final_sentiment  \\\n",
       "0              negative               53            neutral        negative   \n",
       "1              positive               64           positive        positive   \n",
       "2              positive               53            neutral        positive   \n",
       "3              positive               97           positive        positive   \n",
       "4              positive               74           positive        positive   \n",
       "\n",
       "                                          final_text  \n",
       "0  __label__negative teenager discover descendant...  \n",
       "1  __label__positive kate lot mind ethic problem ...  \n",
       "2  __label__positive blake edwards star dudley mo...  \n",
       "3  __label__positive puerto rican youth trial mur...  \n",
       "4  __label__positive disney version jules verne l...  "
      ]
     },
     "execution_count": 31,
     "metadata": {},
     "output_type": "execute_result"
    }
   ],
   "source": [
    "df_new.head()"
   ]
  },
  {
   "cell_type": "markdown",
   "id": "09c251a3-79bd-4c5a-b610-f4e235416662",
   "metadata": {
    "jp-MarkdownHeadingCollapsed": true
   },
   "source": [
    "## Export Preprocessed Data \n",
    "- next we will split the data for Training the Fasttext model."
   ]
  },
  {
   "cell_type": "code",
   "execution_count": 32,
   "id": "cd341cd9",
   "metadata": {},
   "outputs": [],
   "source": [
    "def export_excel(data_set, dataset_name):\n",
    "    data_set.to_excel(dataset_name, index=False)\n",
    "    print(f\"Dataset successfully saved as {dataset_name}\")"
   ]
  },
  {
   "cell_type": "code",
   "execution_count": 33,
   "id": "c85176f7",
   "metadata": {},
   "outputs": [
    {
     "name": "stdout",
     "output_type": "stream",
     "text": [
      "Dataset successfully saved as Nlpt_task_fasttext.xlsx\n"
     ]
    }
   ],
   "source": [
    "#export_excel(df_new, \"Nlpt_task_fasttext.xlsx\")"
   ]
  }
 ],
 "metadata": {
  "kernelspec": {
   "display_name": "Python 3 (ipykernel)",
   "language": "python",
   "name": "python3"
  },
  "language_info": {
   "codemirror_mode": {
    "name": "ipython",
    "version": 3
   },
   "file_extension": ".py",
   "mimetype": "text/x-python",
   "name": "python",
   "nbconvert_exporter": "python",
   "pygments_lexer": "ipython3",
   "version": "3.11.11"
  }
 },
 "nbformat": 4,
 "nbformat_minor": 5
}
