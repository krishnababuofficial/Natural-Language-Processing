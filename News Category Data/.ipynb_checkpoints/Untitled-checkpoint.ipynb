{
 "cells": [
  {
   "cell_type": "code",
   "execution_count": null,
   "id": "0cffddf4",
   "metadata": {},
   "outputs": [],
   "source": [
    "import pandas as pd"
   ]
  },
  {
   "cell_type": "code",
   "execution_count": null,
   "id": "e93f24f3",
   "metadata": {},
   "outputs": [],
   "source": [
    "df = pd.read_json(\"News_Category_Dataset_v3.json\",lines = True)\n",
    "\n",
    "df.head()"
   ]
  },
  {
   "cell_type": "code",
   "execution_count": null,
   "id": "03e364d0",
   "metadata": {},
   "outputs": [],
   "source": [
    "df.dtypes, df.shape"
   ]
  },
  {
   "cell_type": "code",
   "execution_count": null,
   "id": "4521ab14",
   "metadata": {},
   "outputs": [],
   "source": [
    "df['category'].value_counts()"
   ]
  },
  {
   "cell_type": "code",
   "execution_count": null,
   "id": "82776d57",
   "metadata": {},
   "outputs": [],
   "source": [
    "df['New_category'] = df['category'].replace({\n",
    "                        # 1. \"News and Current Affairs\"\n",
    "                        'THE WORLDPOST': 'News_and_Current_Affairs',\n",
    "                        'WORLDPOST': 'News_and_Current_Affairs',\n",
    "                        'WORLD NEWS': 'News_and_Current_Affairs',\n",
    "                        'U.S. NEWS': 'News_and_Current_Affairs',\n",
    "                        'POLITICS': 'News_and_Current_Affairs',\n",
    "                        'ENVIRONMENT': 'News_and_Current_Affairs',\n",
    "                        'SCIENCE': 'News_and_Current_Affairs',\n",
    "                        'CRIME': 'News_and_Current_Affairs',\n",
    "                        'WORLDPOST': 'News_and_Current_Affairs',\n",
    "                        'EDUCATION': 'News_and_Current_Affairs',\n",
    "    \n",
    "                        # 2. \"Lifestyle and Culture\"\n",
    "                        'COMEDY': 'Lifestyle_and_Culture',\n",
    "                        'CULTURE & ARTS': 'Lifestyle_and_Culture',\n",
    "                        'ENTERTAINMENT': 'Lifestyle_and_Culture',\n",
    "                        'STYLE & BEAUTY': 'Lifestyle_and_Culture',\n",
    "                        'FOOD & DRINK': 'Lifestyle_and_Culture',\n",
    "                        'MEDIA': 'Lifestyle_and_Culture',\n",
    "                        'WEIRD NEWS': 'Lifestyle_and_Culture',\n",
    "                        'TRAVEL': 'Lifestyle_and_Culture',\n",
    "                        'STYLE & BEAUTY': 'Lifestyle_and_Culture',\n",
    "                        'STYLE': 'Lifestyle_and_Culture',\n",
    "                        'HOME & LIVING': 'Lifestyle_and_Culture',\n",
    "                        'ARTS & CULTURE': 'Lifestyle_and_Culture',\n",
    "                        'TASTE': 'Lifestyle_and_Culture',\n",
    "                        'HEALTHY LIVING': 'Lifestyle_and_Culture',\n",
    "                        'GOOD NEWS': 'Lifestyle_and_Culture',\n",
    "                        'FIFTY': 'Lifestyle_and_Culture',\n",
    "                        'ARTS': 'Lifestyle_and_Culture',\n",
    "    \n",
    "                        # 3. \"Health and Wellness\"\n",
    "                        'WELLNESS': 'Health_and_Wellness',\n",
    "                        'PARENTING': 'Health_and_Wellness',\n",
    "                        'PARENTS': 'Health_and_Wellness',\n",
    "                        'WEDDINGS': 'Health_and_Wellness',\n",
    "                        'DIVORCE': 'Health_and_Wellness',\n",
    "                        'COLLEGE': 'Health_and_Wellness',\n",
    "    \n",
    "                        # 4. \"Diversity and Voices\"\n",
    "                        'LATINO VOICES': 'Diversity_and_Voices',\n",
    "                        'BLACK VOICES': 'Diversity_and_Voices',\n",
    "                        'QUEER VOICES': 'Diversity_and_Voices',\n",
    "                        'WOMEN': 'Diversity_and_Voices',\n",
    "    \n",
    "                        # 5. \"Business and Finance\"\n",
    "                        'TECH': 'Business_and_Finance',\n",
    "                        'MONEY': 'Business_and_Finance',\n",
    "                        'BUSINESS': 'Business_and_Finance',\n",
    "    \n",
    "                        # 6. \"Special Interest\"\n",
    "                        'IMPACT': 'Special_Interest',\n",
    "                        'RELIGION': 'Special_Interest',\n",
    "                        \n",
    "                        # 7. \"Specific Topics\"\n",
    "                        'SPORTS': 'Specific_Topics',\n",
    "                        'EDUCATION': 'Specific_Topics',\n",
    "                        'GREEN': 'Specific_Topics',\n",
    "                       })"
   ]
  },
  {
   "cell_type": "code",
   "execution_count": null,
   "id": "ec2896bf",
   "metadata": {},
   "outputs": [],
   "source": [
    "df['New_category'].unique(), df['New_category'].nunique()"
   ]
  },
  {
   "cell_type": "code",
   "execution_count": null,
   "id": "7881ac1e",
   "metadata": {},
   "outputs": [],
   "source": [
    "df['num_category'] = df['New_category'].map({'News_and_Current_Affairs': '0', \n",
    "                             'Lifestyle_and_Culture': '1',\n",
    "                             'Health_and_Wellness': '2', \n",
    "                             'Business_and_Finance': '3', \n",
    "                             'Specific_Topics': '4',\n",
    "                             'Diversity_and_Voices': '5',\n",
    "                             'Special_Interest': '6'\n",
    "                            })"
   ]
  },
  {
   "cell_type": "code",
   "execution_count": null,
   "id": "b35e5b89",
   "metadata": {},
   "outputs": [],
   "source": [
    "df['num_category'].unique()"
   ]
  },
  {
   "cell_type": "code",
   "execution_count": null,
   "id": "8e8282f2",
   "metadata": {},
   "outputs": [],
   "source": [
    "df.duplicated(['headline','short_description']).sum()"
   ]
  },
  {
   "cell_type": "code",
   "execution_count": null,
   "id": "9b3ece15",
   "metadata": {},
   "outputs": [],
   "source": [
    "df.drop_duplicates(['headline','short_description'], inplace = True)"
   ]
  },
  {
   "cell_type": "code",
   "execution_count": null,
   "id": "06a19eef",
   "metadata": {},
   "outputs": [],
   "source": [
    "df[df['headline'] == '']\n"
   ]
  },
  {
   "cell_type": "code",
   "execution_count": null,
   "id": "a210f360",
   "metadata": {},
   "outputs": [],
   "source": [
    "df[df['short_description'] == '']"
   ]
  },
  {
   "cell_type": "code",
   "execution_count": null,
   "id": "69fb87cc",
   "metadata": {},
   "outputs": [],
   "source": [
    "df.drop([90944,95567], axis = 0, inplace = True)"
   ]
  },
  {
   "cell_type": "code",
   "execution_count": null,
   "id": "e2129bb5",
   "metadata": {},
   "outputs": [],
   "source": [
    "df = df.loc[df['short_description'] != '']"
   ]
  },
  {
   "cell_type": "code",
   "execution_count": null,
   "id": "df692e7a",
   "metadata": {},
   "outputs": [],
   "source": [
    "df['New_category'].value_counts(),  df.shape"
   ]
  },
  {
   "cell_type": "code",
   "execution_count": null,
   "id": "09c543e5",
   "metadata": {},
   "outputs": [],
   "source": [
    "df.reset_index(inplace = True, drop = True)"
   ]
  },
  {
   "cell_type": "code",
   "execution_count": null,
   "id": "4a8f0a27",
   "metadata": {},
   "outputs": [],
   "source": [
    "import matplotlib.pyplot as plt\n",
    "import seaborn as sns"
   ]
  },
  {
   "cell_type": "code",
   "execution_count": null,
   "id": "5c59aa1e",
   "metadata": {},
   "outputs": [],
   "source": [
    "plt.figure(figsize = (27,13))\n",
    "sns.barplot(x= df['New_category'].value_counts().index, y=df['num_category'].value_counts().values, \n",
    "            palette = 'Pastel1')\n",
    "plt.title('Category Distribution.', fontsize = 21)\n",
    "plt.xlabel('New_Category', fontsize = 17)\n",
    "plt.ylabel('No of Samples', fontsize = 17)\n",
    "plt.yticks(rotation = 0)\n",
    "plt.show();"
   ]
  },
  {
   "cell_type": "code",
   "execution_count": null,
   "id": "f0bd0c81",
   "metadata": {},
   "outputs": [],
   "source": [
    "plt.figure(figsize = (6, 7))\n",
    "plt.pie(df['num_category'].value_counts().values, autopct = \"%1.1f%%\", labels = df['New_category'].value_counts().index)\n",
    "plt.show();"
   ]
  },
  {
   "cell_type": "code",
   "execution_count": null,
   "id": "a7b5b096",
   "metadata": {},
   "outputs": [],
   "source": [
    "df.dtypes"
   ]
  },
  {
   "cell_type": "code",
   "execution_count": null,
   "id": "848fc24b",
   "metadata": {},
   "outputs": [],
   "source": [
    "df['headline_short_description'] = df['headline'] + \"  \" + df['short_description']"
   ]
  },
  {
   "cell_type": "code",
   "execution_count": null,
   "id": "c05ecf83",
   "metadata": {},
   "outputs": [],
   "source": [
    "df['len_text'] = df['headline_short_description'].apply(lambda x: len(x))\n",
    "df.head()"
   ]
  },
  {
   "cell_type": "code",
   "execution_count": null,
   "id": "e5aa8ebf",
   "metadata": {},
   "outputs": [],
   "source": [
    "df.groupby('New_category')['len_text'].mean().reset_index().sort_values(by = 'len_text', ascending = False)\n",
    "\n",
    "#It is better to calculate the mean instead of max or min as the mean gives a better understanding of the average length of news article(headline + short_description) for each category"
   ]
  },
  {
   "cell_type": "code",
   "execution_count": null,
   "id": "7ffa06d5",
   "metadata": {},
   "outputs": [],
   "source": [
    "plt.boxplot(df['len_text'])"
   ]
  },
  {
   "cell_type": "code",
   "execution_count": null,
   "id": "97a46b9c",
   "metadata": {},
   "outputs": [],
   "source": [
    "count = 0\n",
    "max_threshold = df['len_text'].std() *3 + df['len_text'].mean()\n",
    "min_threshold = abs(df['len_text'].mean() - df['len_text'].std() *3)\n",
    "\n",
    "for numbers in df['len_text']:\n",
    "    if numbers > max_threshold or numbers < min_threshold:\n",
    "        count += 1\n",
    "print(f'totla outliers : {count}')        \n",
    "\n",
    "\n",
    "#Any value that lies beyond the threshold is consider an outlier. Threshold is distance of 3 standard deviations from the mean.\n",
    "#This is because for a normally distributed data, 99% of the values lie within 3 standard deviations from the mean"
   ]
  },
  {
   "cell_type": "code",
   "execution_count": null,
   "id": "a2c8dd42",
   "metadata": {},
   "outputs": [],
   "source": [
    "df = df[(df['len_text'] < max_threshold) & (df['len_text'] > min_threshold)]\n",
    "df.shape"
   ]
  },
  {
   "cell_type": "code",
   "execution_count": null,
   "id": "da7af3fa",
   "metadata": {},
   "outputs": [],
   "source": [
    "df['headline_short_description'][0]"
   ]
  },
  {
   "cell_type": "code",
   "execution_count": null,
   "id": "6e5012b9",
   "metadata": {},
   "outputs": [],
   "source": [
    "df['New_category'] = \"_label_\" + df['New_category'].astype(str)\n",
    "df['New_category'].unique()"
   ]
  },
  {
   "cell_type": "code",
   "execution_count": null,
   "id": "39231268",
   "metadata": {},
   "outputs": [],
   "source": [
    "df['category_description'] = df['New_category'] + \" \" + df['headline_short_description']"
   ]
  },
  {
   "cell_type": "code",
   "execution_count": null,
   "id": "db4b3699",
   "metadata": {},
   "outputs": [],
   "source": [
    "df['category_description'][0]"
   ]
  },
  {
   "cell_type": "code",
   "execution_count": null,
   "id": "7b39ece5",
   "metadata": {},
   "outputs": [],
   "source": [
    "import re\n",
    "\n",
    "def preprocess(text):\n",
    "    text = re.sub(r'[^\\w\\s\\']', ' ', text)\n",
    "    text = re.sub(r' +', ' ', text)\n",
    "    return text.strip().lower()"
   ]
  },
  {
   "cell_type": "code",
   "execution_count": null,
   "id": "62148902",
   "metadata": {},
   "outputs": [],
   "source": [
    "df['category_description'] = df['category_description'].map(preprocess)"
   ]
  },
  {
   "cell_type": "code",
   "execution_count": null,
   "id": "797455d7",
   "metadata": {},
   "outputs": [],
   "source": [
    "df['category_description'][0]"
   ]
  },
  {
   "cell_type": "code",
   "execution_count": null,
   "id": "a4567570",
   "metadata": {},
   "outputs": [],
   "source": [
    "df.dtypes"
   ]
  },
  {
   "cell_type": "code",
   "execution_count": null,
   "id": "df51b3d7",
   "metadata": {},
   "outputs": [],
   "source": [
    "df.drop(['link', 'headline', 'category', 'short_description', 'authors', 'date', 'num_category', 'len_text'], axis = 1, inplace = True)"
   ]
  },
  {
   "cell_type": "code",
   "execution_count": null,
   "id": "bbc58bbb",
   "metadata": {},
   "outputs": [],
   "source": [
    "df.head()"
   ]
  },
  {
   "cell_type": "code",
   "execution_count": null,
   "id": "b351a64f",
   "metadata": {},
   "outputs": [],
   "source": [
    "df.info()"
   ]
  },
  {
   "cell_type": "code",
   "execution_count": null,
   "id": "b2e14399",
   "metadata": {},
   "outputs": [],
   "source": [
    "from sklearn.model_selection import train_test_split"
   ]
  },
  {
   "cell_type": "code",
   "execution_count": null,
   "id": "9206c916",
   "metadata": {},
   "outputs": [],
   "source": [
    "train, test = train_test_split(df, test_size = 0.2)"
   ]
  },
  {
   "cell_type": "code",
   "execution_count": null,
   "id": "480269ad",
   "metadata": {},
   "outputs": [],
   "source": [
    "train.head()"
   ]
  },
  {
   "cell_type": "code",
   "execution_count": null,
   "id": "3236bd72",
   "metadata": {},
   "outputs": [],
   "source": [
    "train.shape, test.shape"
   ]
  },
  {
   "cell_type": "code",
   "execution_count": null,
   "id": "b4dba352",
   "metadata": {},
   "outputs": [],
   "source": [
    "test.head()"
   ]
  },
  {
   "cell_type": "code",
   "execution_count": null,
   "id": "8b52dac2",
   "metadata": {},
   "outputs": [],
   "source": [
    "train.to_csv(\"newscategory.train\", columns=[\"category_description\"], index = False, header = False)\n",
    "test.to_csv(\"newscategory.test\", columns=[\"category_description\"],  index = False, header = False)"
   ]
  },
  {
   "cell_type": "code",
   "execution_count": null,
   "id": "9b5689d1",
   "metadata": {},
   "outputs": [],
   "source": [
    "import fasttext"
   ]
  },
  {
   "cell_type": "code",
   "execution_count": null,
   "id": "abc80e07",
   "metadata": {},
   "outputs": [],
   "source": [
    "model = fasttext.train_unsupervised(input=\"newscategory.train\")"
   ]
  },
  {
   "cell_type": "code",
   "execution_count": null,
   "id": "b788b7c4",
   "metadata": {},
   "outputs": [],
   "source": [
    "model.get"
   ]
  },
  {
   "cell_type": "code",
   "execution_count": null,
   "id": "19612298",
   "metadata": {},
   "outputs": [],
   "source": []
  }
 ],
 "metadata": {
  "kernelspec": {
   "display_name": "Python 3 (ipykernel)",
   "language": "python",
   "name": "python3"
  },
  "language_info": {
   "codemirror_mode": {
    "name": "ipython",
    "version": 3
   },
   "file_extension": ".py",
   "mimetype": "text/x-python",
   "name": "python",
   "nbconvert_exporter": "python",
   "pygments_lexer": "ipython3",
   "version": "3.9.13"
  }
 },
 "nbformat": 4,
 "nbformat_minor": 5
}
