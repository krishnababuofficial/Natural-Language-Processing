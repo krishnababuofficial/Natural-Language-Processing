{
 "cells": [
  {
   "cell_type": "markdown",
   "id": "f1d83623",
   "metadata": {},
   "source": [
    "## Import Libries."
   ]
  },
  {
   "cell_type": "code",
   "execution_count": 1,
   "id": "0cffddf4",
   "metadata": {},
   "outputs": [],
   "source": [
    "import pandas as pd\n",
    "import numpy as np\n",
    "import matplotlib.pyplot as plt\n",
    "import seaborn as sns\n",
    "from sklearn.model_selection import train_test_split\n",
    "import fasttext\n",
    "from sklearn.preprocessing import MinMaxScaler\n",
    "from sklearn.naive_bayes import MultinomialNB\n",
    "from sklearn.neighbors import KNeighborsClassifier\n",
    "from sklearn.ensemble import RandomForestClassifier\n",
    "from sklearn.metrics import classification_report\n",
    "\n",
    "import warnings\n",
    "warnings.filterwarnings(\"ignore\")"
   ]
  },
  {
   "cell_type": "markdown",
   "id": "2c82243a",
   "metadata": {},
   "source": [
    "## EDA & Preprocessing data"
   ]
  },
  {
   "cell_type": "code",
   "execution_count": 3,
   "id": "e93f24f3",
   "metadata": {},
   "outputs": [
    {
     "data": {
      "text/html": [
       "<div>\n",
       "<style scoped>\n",
       "    .dataframe tbody tr th:only-of-type {\n",
       "        vertical-align: middle;\n",
       "    }\n",
       "\n",
       "    .dataframe tbody tr th {\n",
       "        vertical-align: top;\n",
       "    }\n",
       "\n",
       "    .dataframe thead th {\n",
       "        text-align: right;\n",
       "    }\n",
       "</style>\n",
       "<table border=\"1\" class=\"dataframe\">\n",
       "  <thead>\n",
       "    <tr style=\"text-align: right;\">\n",
       "      <th></th>\n",
       "      <th>link</th>\n",
       "      <th>headline</th>\n",
       "      <th>category</th>\n",
       "      <th>short_description</th>\n",
       "      <th>authors</th>\n",
       "      <th>date</th>\n",
       "    </tr>\n",
       "  </thead>\n",
       "  <tbody>\n",
       "    <tr>\n",
       "      <th>0</th>\n",
       "      <td>https://www.huffpost.com/entry/covid-boosters-...</td>\n",
       "      <td>Over 4 Million Americans Roll Up Sleeves For O...</td>\n",
       "      <td>U.S. NEWS</td>\n",
       "      <td>Health experts said it is too early to predict...</td>\n",
       "      <td>Carla K. Johnson, AP</td>\n",
       "      <td>2022-09-23</td>\n",
       "    </tr>\n",
       "    <tr>\n",
       "      <th>1</th>\n",
       "      <td>https://www.huffpost.com/entry/american-airlin...</td>\n",
       "      <td>American Airlines Flyer Charged, Banned For Li...</td>\n",
       "      <td>U.S. NEWS</td>\n",
       "      <td>He was subdued by passengers and crew when he ...</td>\n",
       "      <td>Mary Papenfuss</td>\n",
       "      <td>2022-09-23</td>\n",
       "    </tr>\n",
       "    <tr>\n",
       "      <th>2</th>\n",
       "      <td>https://www.huffpost.com/entry/funniest-tweets...</td>\n",
       "      <td>23 Of The Funniest Tweets About Cats And Dogs ...</td>\n",
       "      <td>COMEDY</td>\n",
       "      <td>\"Until you have a dog you don't understand wha...</td>\n",
       "      <td>Elyse Wanshel</td>\n",
       "      <td>2022-09-23</td>\n",
       "    </tr>\n",
       "    <tr>\n",
       "      <th>3</th>\n",
       "      <td>https://www.huffpost.com/entry/funniest-parent...</td>\n",
       "      <td>The Funniest Tweets From Parents This Week (Se...</td>\n",
       "      <td>PARENTING</td>\n",
       "      <td>\"Accidentally put grown-up toothpaste on my to...</td>\n",
       "      <td>Caroline Bologna</td>\n",
       "      <td>2022-09-23</td>\n",
       "    </tr>\n",
       "    <tr>\n",
       "      <th>4</th>\n",
       "      <td>https://www.huffpost.com/entry/amy-cooper-lose...</td>\n",
       "      <td>Woman Who Called Cops On Black Bird-Watcher Lo...</td>\n",
       "      <td>U.S. NEWS</td>\n",
       "      <td>Amy Cooper accused investment firm Franklin Te...</td>\n",
       "      <td>Nina Golgowski</td>\n",
       "      <td>2022-09-22</td>\n",
       "    </tr>\n",
       "  </tbody>\n",
       "</table>\n",
       "</div>"
      ],
      "text/plain": [
       "                                                link  \\\n",
       "0  https://www.huffpost.com/entry/covid-boosters-...   \n",
       "1  https://www.huffpost.com/entry/american-airlin...   \n",
       "2  https://www.huffpost.com/entry/funniest-tweets...   \n",
       "3  https://www.huffpost.com/entry/funniest-parent...   \n",
       "4  https://www.huffpost.com/entry/amy-cooper-lose...   \n",
       "\n",
       "                                            headline   category  \\\n",
       "0  Over 4 Million Americans Roll Up Sleeves For O...  U.S. NEWS   \n",
       "1  American Airlines Flyer Charged, Banned For Li...  U.S. NEWS   \n",
       "2  23 Of The Funniest Tweets About Cats And Dogs ...     COMEDY   \n",
       "3  The Funniest Tweets From Parents This Week (Se...  PARENTING   \n",
       "4  Woman Who Called Cops On Black Bird-Watcher Lo...  U.S. NEWS   \n",
       "\n",
       "                                   short_description               authors  \\\n",
       "0  Health experts said it is too early to predict...  Carla K. Johnson, AP   \n",
       "1  He was subdued by passengers and crew when he ...        Mary Papenfuss   \n",
       "2  \"Until you have a dog you don't understand wha...         Elyse Wanshel   \n",
       "3  \"Accidentally put grown-up toothpaste on my to...      Caroline Bologna   \n",
       "4  Amy Cooper accused investment firm Franklin Te...        Nina Golgowski   \n",
       "\n",
       "        date  \n",
       "0 2022-09-23  \n",
       "1 2022-09-23  \n",
       "2 2022-09-23  \n",
       "3 2022-09-23  \n",
       "4 2022-09-22  "
      ]
     },
     "execution_count": 3,
     "metadata": {},
     "output_type": "execute_result"
    }
   ],
   "source": [
    "df = pd.read_json(\"News_Category_Dataset_v3.json\",lines = True)\n",
    "\n",
    "df.head()"
   ]
  },
  {
   "cell_type": "code",
   "execution_count": 4,
   "id": "03e364d0",
   "metadata": {},
   "outputs": [
    {
     "data": {
      "text/plain": [
       "(link                         object\n",
       " headline                     object\n",
       " category                     object\n",
       " short_description            object\n",
       " authors                      object\n",
       " date                 datetime64[ns]\n",
       " dtype: object,\n",
       " (209527, 6))"
      ]
     },
     "execution_count": 4,
     "metadata": {},
     "output_type": "execute_result"
    }
   ],
   "source": [
    "df.dtypes, df.shape"
   ]
  },
  {
   "cell_type": "code",
   "execution_count": 5,
   "id": "4521ab14",
   "metadata": {},
   "outputs": [
    {
     "data": {
      "text/plain": [
       "POLITICS          35602\n",
       "WELLNESS          17945\n",
       "ENTERTAINMENT     17362\n",
       "TRAVEL             9900\n",
       "STYLE & BEAUTY     9814\n",
       "PARENTING          8791\n",
       "HEALTHY LIVING     6694\n",
       "QUEER VOICES       6347\n",
       "FOOD & DRINK       6340\n",
       "BUSINESS           5992\n",
       "COMEDY             5400\n",
       "SPORTS             5077\n",
       "BLACK VOICES       4583\n",
       "HOME & LIVING      4320\n",
       "PARENTS            3955\n",
       "THE WORLDPOST      3664\n",
       "WEDDINGS           3653\n",
       "WOMEN              3572\n",
       "CRIME              3562\n",
       "IMPACT             3484\n",
       "DIVORCE            3426\n",
       "WORLD NEWS         3299\n",
       "MEDIA              2944\n",
       "WEIRD NEWS         2777\n",
       "GREEN              2622\n",
       "WORLDPOST          2579\n",
       "RELIGION           2577\n",
       "STYLE              2254\n",
       "SCIENCE            2206\n",
       "TECH               2104\n",
       "TASTE              2096\n",
       "MONEY              1756\n",
       "ARTS               1509\n",
       "ENVIRONMENT        1444\n",
       "FIFTY              1401\n",
       "GOOD NEWS          1398\n",
       "U.S. NEWS          1377\n",
       "ARTS & CULTURE     1339\n",
       "COLLEGE            1144\n",
       "LATINO VOICES      1130\n",
       "CULTURE & ARTS     1074\n",
       "EDUCATION          1014\n",
       "Name: category, dtype: int64"
      ]
     },
     "execution_count": 5,
     "metadata": {},
     "output_type": "execute_result"
    }
   ],
   "source": [
    "df['category'].value_counts()"
   ]
  },
  {
   "cell_type": "code",
   "execution_count": 6,
   "id": "82776d57",
   "metadata": {},
   "outputs": [],
   "source": [
    "df['New_category'] = df['category'].replace({\n",
    "                        # 1. \"News and Current Affairs\"\n",
    "                        'THE WORLDPOST': 'News_and_Current_Affairs',\n",
    "                        'WORLDPOST': 'News_and_Current_Affairs',\n",
    "                        'WORLD NEWS': 'News_and_Current_Affairs',\n",
    "                        'U.S. NEWS': 'News_and_Current_Affairs',\n",
    "                        'POLITICS': 'News_and_Current_Affairs',\n",
    "                        'ENVIRONMENT': 'News_and_Current_Affairs',\n",
    "                        'SCIENCE': 'News_and_Current_Affairs',\n",
    "                        'CRIME': 'News_and_Current_Affairs',\n",
    "                        'WORLDPOST': 'News_and_Current_Affairs',\n",
    "                        'EDUCATION': 'News_and_Current_Affairs',\n",
    "    \n",
    "                        # 2. \"Lifestyle and Culture\"\n",
    "                        'COMEDY': 'Lifestyle_and_Culture',\n",
    "                        'CULTURE & ARTS': 'Lifestyle_and_Culture',\n",
    "                        'ENTERTAINMENT': 'Lifestyle_and_Culture',\n",
    "                        'STYLE & BEAUTY': 'Lifestyle_and_Culture',\n",
    "                        'FOOD & DRINK': 'Lifestyle_and_Culture',\n",
    "                        'MEDIA': 'Lifestyle_and_Culture',\n",
    "                        'WEIRD NEWS': 'Lifestyle_and_Culture',\n",
    "                        'TRAVEL': 'Lifestyle_and_Culture',\n",
    "                        'STYLE & BEAUTY': 'Lifestyle_and_Culture',\n",
    "                        'STYLE': 'Lifestyle_and_Culture',\n",
    "                        'HOME & LIVING': 'Lifestyle_and_Culture',\n",
    "                        'ARTS & CULTURE': 'Lifestyle_and_Culture',\n",
    "                        'TASTE': 'Lifestyle_and_Culture',\n",
    "                        'HEALTHY LIVING': 'Lifestyle_and_Culture',\n",
    "                        'GOOD NEWS': 'Lifestyle_and_Culture',\n",
    "                        'FIFTY': 'Lifestyle_and_Culture',\n",
    "                        'ARTS': 'Lifestyle_and_Culture',\n",
    "    \n",
    "                        # 3. \"Health and Wellness\"\n",
    "                        'WELLNESS': 'Health_and_Wellness',\n",
    "                        'PARENTING': 'Health_and_Wellness',\n",
    "                        'PARENTS': 'Health_and_Wellness',\n",
    "                        'WEDDINGS': 'Health_and_Wellness',\n",
    "                        'DIVORCE': 'Health_and_Wellness',\n",
    "                        'COLLEGE': 'Health_and_Wellness',\n",
    "    \n",
    "                        # 4. \"Diversity and Voices\"\n",
    "                        'LATINO VOICES': 'Diversity_and_Voices',\n",
    "                        'BLACK VOICES': 'Diversity_and_Voices',\n",
    "                        'QUEER VOICES': 'Diversity_and_Voices',\n",
    "                        'WOMEN': 'Diversity_and_Voices',\n",
    "    \n",
    "                        # 5. \"Business and Finance\"\n",
    "                        'TECH': 'Business_and_Finance',\n",
    "                        'MONEY': 'Business_and_Finance',\n",
    "                        'BUSINESS': 'Business_and_Finance',\n",
    "    \n",
    "                        # 6. \"Special Interest\"\n",
    "                        'IMPACT': 'Special_Interest',\n",
    "                        'RELIGION': 'Special_Interest',\n",
    "                        \n",
    "                        # 7. \"Specific Topics\"\n",
    "                        'SPORTS': 'Specific_Topics',\n",
    "                        'EDUCATION': 'Specific_Topics',\n",
    "                        'GREEN': 'Specific_Topics',\n",
    "                       })"
   ]
  },
  {
   "cell_type": "code",
   "execution_count": 7,
   "id": "ec2896bf",
   "metadata": {},
   "outputs": [
    {
     "data": {
      "text/plain": [
       "(array(['News_and_Current_Affairs', 'Lifestyle_and_Culture',\n",
       "        'Health_and_Wellness', 'Business_and_Finance', 'Specific_Topics',\n",
       "        'Diversity_and_Voices', 'Special_Interest'], dtype=object),\n",
       " 7)"
      ]
     },
     "execution_count": 7,
     "metadata": {},
     "output_type": "execute_result"
    }
   ],
   "source": [
    "df['New_category'].unique(), df['New_category'].nunique()"
   ]
  },
  {
   "cell_type": "code",
   "execution_count": 8,
   "id": "7881ac1e",
   "metadata": {},
   "outputs": [],
   "source": [
    "df['num_category'] = df['New_category'].map({'News_and_Current_Affairs': '0', \n",
    "                             'Lifestyle_and_Culture': '1',\n",
    "                             'Health_and_Wellness': '2', \n",
    "                             'Business_and_Finance': '3', \n",
    "                             'Specific_Topics': '4',\n",
    "                             'Diversity_and_Voices': '5',\n",
    "                             'Special_Interest': '6'\n",
    "                            })"
   ]
  },
  {
   "cell_type": "code",
   "execution_count": 9,
   "id": "b35e5b89",
   "metadata": {},
   "outputs": [
    {
     "data": {
      "text/plain": [
       "array(['0', '1', '2', '3', '4', '5', '6'], dtype=object)"
      ]
     },
     "execution_count": 9,
     "metadata": {},
     "output_type": "execute_result"
    }
   ],
   "source": [
    "df['num_category'].unique()"
   ]
  },
  {
   "cell_type": "code",
   "execution_count": 10,
   "id": "8e8282f2",
   "metadata": {},
   "outputs": [
    {
     "data": {
      "text/plain": [
       "489"
      ]
     },
     "execution_count": 10,
     "metadata": {},
     "output_type": "execute_result"
    }
   ],
   "source": [
    "df.duplicated(['headline','short_description']).sum()"
   ]
  },
  {
   "cell_type": "code",
   "execution_count": 11,
   "id": "9b3ece15",
   "metadata": {},
   "outputs": [],
   "source": [
    "df.drop_duplicates(['headline','short_description'], inplace = True)"
   ]
  },
  {
   "cell_type": "code",
   "execution_count": 12,
   "id": "06a19eef",
   "metadata": {},
   "outputs": [
    {
     "data": {
      "text/html": [
       "<div>\n",
       "<style scoped>\n",
       "    .dataframe tbody tr th:only-of-type {\n",
       "        vertical-align: middle;\n",
       "    }\n",
       "\n",
       "    .dataframe tbody tr th {\n",
       "        vertical-align: top;\n",
       "    }\n",
       "\n",
       "    .dataframe thead th {\n",
       "        text-align: right;\n",
       "    }\n",
       "</style>\n",
       "<table border=\"1\" class=\"dataframe\">\n",
       "  <thead>\n",
       "    <tr style=\"text-align: right;\">\n",
       "      <th></th>\n",
       "      <th>link</th>\n",
       "      <th>headline</th>\n",
       "      <th>category</th>\n",
       "      <th>short_description</th>\n",
       "      <th>authors</th>\n",
       "      <th>date</th>\n",
       "      <th>New_category</th>\n",
       "      <th>num_category</th>\n",
       "    </tr>\n",
       "  </thead>\n",
       "  <tbody>\n",
       "    <tr>\n",
       "      <th>90944</th>\n",
       "      <td>https://www.huffingtonpost.com/entry/lincoln-2...</td>\n",
       "      <td></td>\n",
       "      <td>POLITICS</td>\n",
       "      <td></td>\n",
       "      <td>Robert Moran, ContributorRobert Moran leads Br...</td>\n",
       "      <td>2015-08-22</td>\n",
       "      <td>News_and_Current_Affairs</td>\n",
       "      <td>0</td>\n",
       "    </tr>\n",
       "    <tr>\n",
       "      <th>95567</th>\n",
       "      <td>https://www.huffingtonpost.com/entry/post_9671...</td>\n",
       "      <td></td>\n",
       "      <td>RELIGION</td>\n",
       "      <td>Let everyone not wrapped in tired and disprove...</td>\n",
       "      <td>Matthew Fox, ContributorRadical theologian Mat...</td>\n",
       "      <td>2015-06-30</td>\n",
       "      <td>Special_Interest</td>\n",
       "      <td>6</td>\n",
       "    </tr>\n",
       "  </tbody>\n",
       "</table>\n",
       "</div>"
      ],
      "text/plain": [
       "                                                    link headline  category  \\\n",
       "90944  https://www.huffingtonpost.com/entry/lincoln-2...           POLITICS   \n",
       "95567  https://www.huffingtonpost.com/entry/post_9671...           RELIGION   \n",
       "\n",
       "                                       short_description  \\\n",
       "90944                                                      \n",
       "95567  Let everyone not wrapped in tired and disprove...   \n",
       "\n",
       "                                                 authors       date  \\\n",
       "90944  Robert Moran, ContributorRobert Moran leads Br... 2015-08-22   \n",
       "95567  Matthew Fox, ContributorRadical theologian Mat... 2015-06-30   \n",
       "\n",
       "                   New_category num_category  \n",
       "90944  News_and_Current_Affairs            0  \n",
       "95567          Special_Interest            6  "
      ]
     },
     "execution_count": 12,
     "metadata": {},
     "output_type": "execute_result"
    }
   ],
   "source": [
    "df[df['headline'] == '']\n"
   ]
  },
  {
   "cell_type": "code",
   "execution_count": 13,
   "id": "a210f360",
   "metadata": {},
   "outputs": [
    {
     "data": {
      "text/html": [
       "<div>\n",
       "<style scoped>\n",
       "    .dataframe tbody tr th:only-of-type {\n",
       "        vertical-align: middle;\n",
       "    }\n",
       "\n",
       "    .dataframe tbody tr th {\n",
       "        vertical-align: top;\n",
       "    }\n",
       "\n",
       "    .dataframe thead th {\n",
       "        text-align: right;\n",
       "    }\n",
       "</style>\n",
       "<table border=\"1\" class=\"dataframe\">\n",
       "  <thead>\n",
       "    <tr style=\"text-align: right;\">\n",
       "      <th></th>\n",
       "      <th>link</th>\n",
       "      <th>headline</th>\n",
       "      <th>category</th>\n",
       "      <th>short_description</th>\n",
       "      <th>authors</th>\n",
       "      <th>date</th>\n",
       "      <th>New_category</th>\n",
       "      <th>num_category</th>\n",
       "    </tr>\n",
       "  </thead>\n",
       "  <tbody>\n",
       "    <tr>\n",
       "      <th>20773</th>\n",
       "      <td>https://www.huffingtonpost.com/entry/the-big-b...</td>\n",
       "      <td>The Big Blue Wave</td>\n",
       "      <td>COMEDY</td>\n",
       "      <td></td>\n",
       "      <td>Shan Wells, ContributorSciency sun venerator +...</td>\n",
       "      <td>2017-11-10</td>\n",
       "      <td>Lifestyle_and_Culture</td>\n",
       "      <td>1</td>\n",
       "    </tr>\n",
       "    <tr>\n",
       "      <th>21523</th>\n",
       "      <td>https://www.huffingtonpost.com/entry/inside-ru...</td>\n",
       "      <td>Inside Rukban Camp, One Of Syria’s Most Desper...</td>\n",
       "      <td>WORLD NEWS</td>\n",
       "      <td></td>\n",
       "      <td>Yasser Allawi, Syria Deeply</td>\n",
       "      <td>2017-10-31</td>\n",
       "      <td>News_and_Current_Affairs</td>\n",
       "      <td>0</td>\n",
       "    </tr>\n",
       "    <tr>\n",
       "      <th>22793</th>\n",
       "      <td>https://www.huffingtonpost.com/entry/syrian-re...</td>\n",
       "      <td>Syrian Refugees Return From Lebanon Only To Fl...</td>\n",
       "      <td>WORLD NEWS</td>\n",
       "      <td></td>\n",
       "      <td>Abby Sewell, Refugees Deeply</td>\n",
       "      <td>2017-10-14</td>\n",
       "      <td>News_and_Current_Affairs</td>\n",
       "      <td>0</td>\n",
       "    </tr>\n",
       "    <tr>\n",
       "      <th>32223</th>\n",
       "      <td>https://www.huffingtonpost.com/entry/your-guid...</td>\n",
       "      <td>Your Guide To The Best BBQ In St. Louis Accord...</td>\n",
       "      <td>TASTE</td>\n",
       "      <td></td>\n",
       "      <td></td>\n",
       "      <td>2017-06-19</td>\n",
       "      <td>Lifestyle_and_Culture</td>\n",
       "      <td>1</td>\n",
       "    </tr>\n",
       "    <tr>\n",
       "      <th>34488</th>\n",
       "      <td>https://www.huffingtonpost.com/entry/the-bechd...</td>\n",
       "      <td>The Bechdel Test</td>\n",
       "      <td>COMEDY</td>\n",
       "      <td></td>\n",
       "      <td>Hilary Fitzgerald Campbell, ContributorHilary'...</td>\n",
       "      <td>2017-05-24</td>\n",
       "      <td>Lifestyle_and_Culture</td>\n",
       "      <td>1</td>\n",
       "    </tr>\n",
       "    <tr>\n",
       "      <th>...</th>\n",
       "      <td>...</td>\n",
       "      <td>...</td>\n",
       "      <td>...</td>\n",
       "      <td>...</td>\n",
       "      <td>...</td>\n",
       "      <td>...</td>\n",
       "      <td>...</td>\n",
       "      <td>...</td>\n",
       "    </tr>\n",
       "    <tr>\n",
       "      <th>206924</th>\n",
       "      <td>https://www.huffingtonpost.com/entry/true-lgbt...</td>\n",
       "      <td>True LGBTQ Stories: When A College Football Te...</td>\n",
       "      <td>QUEER VOICES</td>\n",
       "      <td></td>\n",
       "      <td>Nathan Manske, Contributor\\nExecutive Director...</td>\n",
       "      <td>2012-02-25</td>\n",
       "      <td>Diversity_and_Voices</td>\n",
       "      <td>5</td>\n",
       "    </tr>\n",
       "    <tr>\n",
       "      <th>206939</th>\n",
       "      <td>https://www.huffingtonpost.com/entry/chasing-i...</td>\n",
       "      <td>'Chasing Ice' -- The Climate Change Debate Is ...</td>\n",
       "      <td>ENVIRONMENT</td>\n",
       "      <td></td>\n",
       "      <td>Greg Reitman, Contributor\\nFounder of Blue Wat...</td>\n",
       "      <td>2012-02-25</td>\n",
       "      <td>News_and_Current_Affairs</td>\n",
       "      <td>0</td>\n",
       "    </tr>\n",
       "    <tr>\n",
       "      <th>208803</th>\n",
       "      <td>https://www.huffingtonpost.com/entry/love-is-l...</td>\n",
       "      <td>Practice for International Kissing Day: 'Love ...</td>\n",
       "      <td>IMPACT</td>\n",
       "      <td></td>\n",
       "      <td>Karen Dalton-Beninato, Contributor\\nWriter Nea...</td>\n",
       "      <td>2012-02-05</td>\n",
       "      <td>Special_Interest</td>\n",
       "      <td>6</td>\n",
       "    </tr>\n",
       "    <tr>\n",
       "      <th>208865</th>\n",
       "      <td>https://www.huffingtonpost.com/entry/zach-hust...</td>\n",
       "      <td>Zach Huston, Victim of Brutal Ohio School Bull...</td>\n",
       "      <td>QUEER VOICES</td>\n",
       "      <td></td>\n",
       "      <td>Ian Thompson, Contributor\\nLegislative Represe...</td>\n",
       "      <td>2012-02-04</td>\n",
       "      <td>Diversity_and_Voices</td>\n",
       "      <td>5</td>\n",
       "    </tr>\n",
       "    <tr>\n",
       "      <th>208940</th>\n",
       "      <td>https://www.huffingtonpost.com/entry/nail-tren...</td>\n",
       "      <td>5 Nail Trends That You Can Actually Do Yourself</td>\n",
       "      <td>STYLE &amp; BEAUTY</td>\n",
       "      <td></td>\n",
       "      <td>Brooke Moreland, Contributor\\nContributor</td>\n",
       "      <td>2012-02-03</td>\n",
       "      <td>Lifestyle_and_Culture</td>\n",
       "      <td>1</td>\n",
       "    </tr>\n",
       "  </tbody>\n",
       "</table>\n",
       "<p>19611 rows × 8 columns</p>\n",
       "</div>"
      ],
      "text/plain": [
       "                                                     link  \\\n",
       "20773   https://www.huffingtonpost.com/entry/the-big-b...   \n",
       "21523   https://www.huffingtonpost.com/entry/inside-ru...   \n",
       "22793   https://www.huffingtonpost.com/entry/syrian-re...   \n",
       "32223   https://www.huffingtonpost.com/entry/your-guid...   \n",
       "34488   https://www.huffingtonpost.com/entry/the-bechd...   \n",
       "...                                                   ...   \n",
       "206924  https://www.huffingtonpost.com/entry/true-lgbt...   \n",
       "206939  https://www.huffingtonpost.com/entry/chasing-i...   \n",
       "208803  https://www.huffingtonpost.com/entry/love-is-l...   \n",
       "208865  https://www.huffingtonpost.com/entry/zach-hust...   \n",
       "208940  https://www.huffingtonpost.com/entry/nail-tren...   \n",
       "\n",
       "                                                 headline        category  \\\n",
       "20773                                   The Big Blue Wave          COMEDY   \n",
       "21523   Inside Rukban Camp, One Of Syria’s Most Desper...      WORLD NEWS   \n",
       "22793   Syrian Refugees Return From Lebanon Only To Fl...      WORLD NEWS   \n",
       "32223   Your Guide To The Best BBQ In St. Louis Accord...           TASTE   \n",
       "34488                                    The Bechdel Test          COMEDY   \n",
       "...                                                   ...             ...   \n",
       "206924  True LGBTQ Stories: When A College Football Te...    QUEER VOICES   \n",
       "206939  'Chasing Ice' -- The Climate Change Debate Is ...     ENVIRONMENT   \n",
       "208803  Practice for International Kissing Day: 'Love ...          IMPACT   \n",
       "208865  Zach Huston, Victim of Brutal Ohio School Bull...    QUEER VOICES   \n",
       "208940    5 Nail Trends That You Can Actually Do Yourself  STYLE & BEAUTY   \n",
       "\n",
       "       short_description                                            authors  \\\n",
       "20773                     Shan Wells, ContributorSciency sun venerator +...   \n",
       "21523                                           Yasser Allawi, Syria Deeply   \n",
       "22793                                          Abby Sewell, Refugees Deeply   \n",
       "32223                                                                         \n",
       "34488                     Hilary Fitzgerald Campbell, ContributorHilary'...   \n",
       "...                  ...                                                ...   \n",
       "206924                    Nathan Manske, Contributor\\nExecutive Director...   \n",
       "206939                    Greg Reitman, Contributor\\nFounder of Blue Wat...   \n",
       "208803                    Karen Dalton-Beninato, Contributor\\nWriter Nea...   \n",
       "208865                    Ian Thompson, Contributor\\nLegislative Represe...   \n",
       "208940                            Brooke Moreland, Contributor\\nContributor   \n",
       "\n",
       "             date              New_category num_category  \n",
       "20773  2017-11-10     Lifestyle_and_Culture            1  \n",
       "21523  2017-10-31  News_and_Current_Affairs            0  \n",
       "22793  2017-10-14  News_and_Current_Affairs            0  \n",
       "32223  2017-06-19     Lifestyle_and_Culture            1  \n",
       "34488  2017-05-24     Lifestyle_and_Culture            1  \n",
       "...           ...                       ...          ...  \n",
       "206924 2012-02-25      Diversity_and_Voices            5  \n",
       "206939 2012-02-25  News_and_Current_Affairs            0  \n",
       "208803 2012-02-05          Special_Interest            6  \n",
       "208865 2012-02-04      Diversity_and_Voices            5  \n",
       "208940 2012-02-03     Lifestyle_and_Culture            1  \n",
       "\n",
       "[19611 rows x 8 columns]"
      ]
     },
     "execution_count": 13,
     "metadata": {},
     "output_type": "execute_result"
    }
   ],
   "source": [
    "df[df['short_description'] == '']"
   ]
  },
  {
   "cell_type": "code",
   "execution_count": 14,
   "id": "69fb87cc",
   "metadata": {},
   "outputs": [],
   "source": [
    "df.drop([90944,95567], axis = 0, inplace = True)"
   ]
  },
  {
   "cell_type": "code",
   "execution_count": 15,
   "id": "e2129bb5",
   "metadata": {},
   "outputs": [],
   "source": [
    "df = df.loc[df['short_description'] != '']"
   ]
  },
  {
   "cell_type": "code",
   "execution_count": 16,
   "id": "df692e7a",
   "metadata": {},
   "outputs": [
    {
     "data": {
      "text/plain": [
       "(Lifestyle_and_Culture       67943\n",
       " News_and_Current_Affairs    48080\n",
       " Health_and_Wellness         38212\n",
       " Diversity_and_Voices        13932\n",
       " Business_and_Finance         8937\n",
       " Specific_Topics              7360\n",
       " Special_Interest             4962\n",
       " Name: New_category, dtype: int64,\n",
       " (189426, 8))"
      ]
     },
     "execution_count": 16,
     "metadata": {},
     "output_type": "execute_result"
    }
   ],
   "source": [
    "df['New_category'].value_counts(),  df.shape"
   ]
  },
  {
   "cell_type": "code",
   "execution_count": 17,
   "id": "09c543e5",
   "metadata": {},
   "outputs": [],
   "source": [
    "df.reset_index(inplace = True, drop = True)"
   ]
  },
  {
   "cell_type": "markdown",
   "id": "4f6ddde1",
   "metadata": {},
   "source": [
    "## Data Visualization"
   ]
  },
  {
   "cell_type": "code",
   "execution_count": 18,
   "id": "5c59aa1e",
   "metadata": {},
   "outputs": [
    {
     "data": {
      "image/png": "[encoded data removed]",
      "text/plain": [
       "<Figure size 2700x1300 with 1 Axes>"
      ]
     },
     "metadata": {},
     "output_type": "display_data"
    }
   ],
   "source": [
    "plt.figure(figsize = (27,13))\n",
    "sns.barplot(x= df['New_category'].value_counts().index, y=df['num_category'].value_counts().values, \n",
    "            palette = 'Pastel1')\n",
    "plt.title('Category Distribution.', fontsize = 21)\n",
    "plt.xlabel('New_Category', fontsize = 17)\n",
    "plt.ylabel('No of Samples', fontsize = 17)\n",
    "plt.yticks(rotation = 0)\n",
    "plt.show();"
   ]
  },
  {
   "cell_type": "code",
   "execution_count": 19,
   "id": "f0bd0c81",
   "metadata": {},
   "outputs": [
    {
     "data": {
      "image/png": "[encoded data removed]",
      "text/plain": [
       "<Figure size 600x700 with 1 Axes>"
      ]
     },
     "metadata": {},
     "output_type": "display_data"
    }
   ],
   "source": [
    "plt.figure(figsize = (6, 7))\n",
    "plt.pie(df['num_category'].value_counts().values, autopct = \"%1.1f%%\", labels = df['New_category'].value_counts().index)\n",
    "plt.show();"
   ]
  },
  {
   "cell_type": "code",
   "execution_count": 20,
   "id": "a7b5b096",
   "metadata": {},
   "outputs": [
    {
     "data": {
      "text/plain": [
       "link                         object\n",
       "headline                     object\n",
       "category                     object\n",
       "short_description            object\n",
       "authors                      object\n",
       "date                 datetime64[ns]\n",
       "New_category                 object\n",
       "num_category                 object\n",
       "dtype: object"
      ]
     },
     "execution_count": 20,
     "metadata": {},
     "output_type": "execute_result"
    }
   ],
   "source": [
    "df.dtypes"
   ]
  },
  {
   "cell_type": "code",
   "execution_count": 21,
   "id": "848fc24b",
   "metadata": {},
   "outputs": [],
   "source": [
    "df['headline_short_description'] = df['headline'] + \"  \" + df['short_description']"
   ]
  },
  {
   "cell_type": "code",
   "execution_count": 22,
   "id": "c05ecf83",
   "metadata": {},
   "outputs": [
    {
     "data": {
      "text/html": [
       "<div>\n",
       "<style scoped>\n",
       "    .dataframe tbody tr th:only-of-type {\n",
       "        vertical-align: middle;\n",
       "    }\n",
       "\n",
       "    .dataframe tbody tr th {\n",
       "        vertical-align: top;\n",
       "    }\n",
       "\n",
       "    .dataframe thead th {\n",
       "        text-align: right;\n",
       "    }\n",
       "</style>\n",
       "<table border=\"1\" class=\"dataframe\">\n",
       "  <thead>\n",
       "    <tr style=\"text-align: right;\">\n",
       "      <th></th>\n",
       "      <th>link</th>\n",
       "      <th>headline</th>\n",
       "      <th>category</th>\n",
       "      <th>short_description</th>\n",
       "      <th>authors</th>\n",
       "      <th>date</th>\n",
       "      <th>New_category</th>\n",
       "      <th>num_category</th>\n",
       "      <th>headline_short_description</th>\n",
       "      <th>len_text</th>\n",
       "    </tr>\n",
       "  </thead>\n",
       "  <tbody>\n",
       "    <tr>\n",
       "      <th>0</th>\n",
       "      <td>https://www.huffpost.com/entry/covid-boosters-...</td>\n",
       "      <td>Over 4 Million Americans Roll Up Sleeves For O...</td>\n",
       "      <td>U.S. NEWS</td>\n",
       "      <td>Health experts said it is too early to predict...</td>\n",
       "      <td>Carla K. Johnson, AP</td>\n",
       "      <td>2022-09-23</td>\n",
       "      <td>News_and_Current_Affairs</td>\n",
       "      <td>0</td>\n",
       "      <td>Over 4 Million Americans Roll Up Sleeves For O...</td>\n",
       "      <td>232</td>\n",
       "    </tr>\n",
       "    <tr>\n",
       "      <th>1</th>\n",
       "      <td>https://www.huffpost.com/entry/american-airlin...</td>\n",
       "      <td>American Airlines Flyer Charged, Banned For Li...</td>\n",
       "      <td>U.S. NEWS</td>\n",
       "      <td>He was subdued by passengers and crew when he ...</td>\n",
       "      <td>Mary Papenfuss</td>\n",
       "      <td>2022-09-23</td>\n",
       "      <td>News_and_Current_Affairs</td>\n",
       "      <td>0</td>\n",
       "      <td>American Airlines Flyer Charged, Banned For Li...</td>\n",
       "      <td>250</td>\n",
       "    </tr>\n",
       "    <tr>\n",
       "      <th>2</th>\n",
       "      <td>https://www.huffpost.com/entry/funniest-tweets...</td>\n",
       "      <td>23 Of The Funniest Tweets About Cats And Dogs ...</td>\n",
       "      <td>COMEDY</td>\n",
       "      <td>\"Until you have a dog you don't understand wha...</td>\n",
       "      <td>Elyse Wanshel</td>\n",
       "      <td>2022-09-23</td>\n",
       "      <td>Lifestyle_and_Culture</td>\n",
       "      <td>1</td>\n",
       "      <td>23 Of The Funniest Tweets About Cats And Dogs ...</td>\n",
       "      <td>135</td>\n",
       "    </tr>\n",
       "    <tr>\n",
       "      <th>3</th>\n",
       "      <td>https://www.huffpost.com/entry/funniest-parent...</td>\n",
       "      <td>The Funniest Tweets From Parents This Week (Se...</td>\n",
       "      <td>PARENTING</td>\n",
       "      <td>\"Accidentally put grown-up toothpaste on my to...</td>\n",
       "      <td>Caroline Bologna</td>\n",
       "      <td>2022-09-23</td>\n",
       "      <td>Health_and_Wellness</td>\n",
       "      <td>2</td>\n",
       "      <td>The Funniest Tweets From Parents This Week (Se...</td>\n",
       "      <td>217</td>\n",
       "    </tr>\n",
       "    <tr>\n",
       "      <th>4</th>\n",
       "      <td>https://www.huffpost.com/entry/amy-cooper-lose...</td>\n",
       "      <td>Woman Who Called Cops On Black Bird-Watcher Lo...</td>\n",
       "      <td>U.S. NEWS</td>\n",
       "      <td>Amy Cooper accused investment firm Franklin Te...</td>\n",
       "      <td>Nina Golgowski</td>\n",
       "      <td>2022-09-22</td>\n",
       "      <td>News_and_Current_Affairs</td>\n",
       "      <td>0</td>\n",
       "      <td>Woman Who Called Cops On Black Bird-Watcher Lo...</td>\n",
       "      <td>235</td>\n",
       "    </tr>\n",
       "  </tbody>\n",
       "</table>\n",
       "</div>"
      ],
      "text/plain": [
       "                                                link  \\\n",
       "0  https://www.huffpost.com/entry/covid-boosters-...   \n",
       "1  https://www.huffpost.com/entry/american-airlin...   \n",
       "2  https://www.huffpost.com/entry/funniest-tweets...   \n",
       "3  https://www.huffpost.com/entry/funniest-parent...   \n",
       "4  https://www.huffpost.com/entry/amy-cooper-lose...   \n",
       "\n",
       "                                            headline   category  \\\n",
       "0  Over 4 Million Americans Roll Up Sleeves For O...  U.S. NEWS   \n",
       "1  American Airlines Flyer Charged, Banned For Li...  U.S. NEWS   \n",
       "2  23 Of The Funniest Tweets About Cats And Dogs ...     COMEDY   \n",
       "3  The Funniest Tweets From Parents This Week (Se...  PARENTING   \n",
       "4  Woman Who Called Cops On Black Bird-Watcher Lo...  U.S. NEWS   \n",
       "\n",
       "                                   short_description               authors  \\\n",
       "0  Health experts said it is too early to predict...  Carla K. Johnson, AP   \n",
       "1  He was subdued by passengers and crew when he ...        Mary Papenfuss   \n",
       "2  \"Until you have a dog you don't understand wha...         Elyse Wanshel   \n",
       "3  \"Accidentally put grown-up toothpaste on my to...      Caroline Bologna   \n",
       "4  Amy Cooper accused investment firm Franklin Te...        Nina Golgowski   \n",
       "\n",
       "        date              New_category num_category  \\\n",
       "0 2022-09-23  News_and_Current_Affairs            0   \n",
       "1 2022-09-23  News_and_Current_Affairs            0   \n",
       "2 2022-09-23     Lifestyle_and_Culture            1   \n",
       "3 2022-09-23       Health_and_Wellness            2   \n",
       "4 2022-09-22  News_and_Current_Affairs            0   \n",
       "\n",
       "                          headline_short_description  len_text  \n",
       "0  Over 4 Million Americans Roll Up Sleeves For O...       232  \n",
       "1  American Airlines Flyer Charged, Banned For Li...       250  \n",
       "2  23 Of The Funniest Tweets About Cats And Dogs ...       135  \n",
       "3  The Funniest Tweets From Parents This Week (Se...       217  \n",
       "4  Woman Who Called Cops On Black Bird-Watcher Lo...       235  "
      ]
     },
     "execution_count": 22,
     "metadata": {},
     "output_type": "execute_result"
    }
   ],
   "source": [
    "df['len_text'] = df['headline_short_description'].apply(lambda x: len(x))\n",
    "df.head()"
   ]
  },
  {
   "cell_type": "code",
   "execution_count": 23,
   "id": "e5aa8ebf",
   "metadata": {},
   "outputs": [
    {
     "data": {
      "text/html": [
       "<div>\n",
       "<style scoped>\n",
       "    .dataframe tbody tr th:only-of-type {\n",
       "        vertical-align: middle;\n",
       "    }\n",
       "\n",
       "    .dataframe tbody tr th {\n",
       "        vertical-align: top;\n",
       "    }\n",
       "\n",
       "    .dataframe thead th {\n",
       "        text-align: right;\n",
       "    }\n",
       "</style>\n",
       "<table border=\"1\" class=\"dataframe\">\n",
       "  <thead>\n",
       "    <tr style=\"text-align: right;\">\n",
       "      <th></th>\n",
       "      <th>New_category</th>\n",
       "      <th>len_text</th>\n",
       "    </tr>\n",
       "  </thead>\n",
       "  <tbody>\n",
       "    <tr>\n",
       "      <th>5</th>\n",
       "      <td>Special_Interest</td>\n",
       "      <td>219.420597</td>\n",
       "    </tr>\n",
       "    <tr>\n",
       "      <th>2</th>\n",
       "      <td>Health_and_Wellness</td>\n",
       "      <td>216.242411</td>\n",
       "    </tr>\n",
       "    <tr>\n",
       "      <th>0</th>\n",
       "      <td>Business_and_Finance</td>\n",
       "      <td>201.336466</td>\n",
       "    </tr>\n",
       "    <tr>\n",
       "      <th>1</th>\n",
       "      <td>Diversity_and_Voices</td>\n",
       "      <td>183.443009</td>\n",
       "    </tr>\n",
       "    <tr>\n",
       "      <th>6</th>\n",
       "      <td>Specific_Topics</td>\n",
       "      <td>181.005978</td>\n",
       "    </tr>\n",
       "    <tr>\n",
       "      <th>4</th>\n",
       "      <td>News_and_Current_Affairs</td>\n",
       "      <td>176.948752</td>\n",
       "    </tr>\n",
       "    <tr>\n",
       "      <th>3</th>\n",
       "      <td>Lifestyle_and_Culture</td>\n",
       "      <td>174.236801</td>\n",
       "    </tr>\n",
       "  </tbody>\n",
       "</table>\n",
       "</div>"
      ],
      "text/plain": [
       "               New_category    len_text\n",
       "5          Special_Interest  219.420597\n",
       "2       Health_and_Wellness  216.242411\n",
       "0      Business_and_Finance  201.336466\n",
       "1      Diversity_and_Voices  183.443009\n",
       "6           Specific_Topics  181.005978\n",
       "4  News_and_Current_Affairs  176.948752\n",
       "3     Lifestyle_and_Culture  174.236801"
      ]
     },
     "execution_count": 23,
     "metadata": {},
     "output_type": "execute_result"
    }
   ],
   "source": [
    "df.groupby('New_category')['len_text'].mean().reset_index().sort_values(by = 'len_text', ascending = False)\n",
    "\n",
    "#It is better to calculate the mean instead of max or min as the mean gives a better understanding of the average length of news article(headline + short_description) for each category"
   ]
  },
  {
   "cell_type": "code",
   "execution_count": 24,
   "id": "7ffa06d5",
   "metadata": {},
   "outputs": [
    {
     "data": {
      "text/plain": [
       "{'whiskers': [<matplotlib.lines.Line2D at 0x1ddea771550>,\n",
       "  <matplotlib.lines.Line2D at 0x1ddea771700>],\n",
       " 'caps': [<matplotlib.lines.Line2D at 0x1ddea7719d0>,\n",
       "  <matplotlib.lines.Line2D at 0x1ddea771ca0>],\n",
       " 'boxes': [<matplotlib.lines.Line2D at 0x1ddea771280>],\n",
       " 'medians': [<matplotlib.lines.Line2D at 0x1ddea771f70>],\n",
       " 'fliers': [<matplotlib.lines.Line2D at 0x1ddebe06280>],\n",
       " 'means': []}"
      ]
     },
     "execution_count": 24,
     "metadata": {},
     "output_type": "execute_result"
    },
    {
     "data": {
      "image/png": "[encoded data removed]",
      "text/plain": [
       "<Figure size 640x480 with 1 Axes>"
      ]
     },
     "metadata": {},
     "output_type": "display_data"
    }
   ],
   "source": [
    "plt.boxplot(df['len_text'])"
   ]
  },
  {
   "cell_type": "code",
   "execution_count": 25,
   "id": "97a46b9c",
   "metadata": {},
   "outputs": [
    {
     "name": "stdout",
     "output_type": "stream",
     "text": [
      "totla outliers : 1145\n"
     ]
    }
   ],
   "source": [
    "count = 0\n",
    "max_threshold = df['len_text'].std() *3 + df['len_text'].mean()\n",
    "min_threshold = abs(df['len_text'].mean() - df['len_text'].std() *3)\n",
    "\n",
    "for numbers in df['len_text']:\n",
    "    if numbers > max_threshold or numbers < min_threshold:\n",
    "        count += 1\n",
    "print(f'totla outliers : {count}')        \n",
    "\n",
    "\n",
    "#Any value that lies beyond the threshold is consider an outlier. Threshold is distance of 3 standard deviations from the mean.\n",
    "#This is because for a normally distributed data, 99% of the values lie within 3 standard deviations from the mean"
   ]
  },
  {
   "cell_type": "code",
   "execution_count": 26,
   "id": "a2c8dd42",
   "metadata": {},
   "outputs": [
    {
     "data": {
      "text/plain": [
       "(188281, 10)"
      ]
     },
     "execution_count": 26,
     "metadata": {},
     "output_type": "execute_result"
    }
   ],
   "source": [
    "df = df[(df['len_text'] < max_threshold) & (df['len_text'] > min_threshold)]\n",
    "df.shape"
   ]
  },
  {
   "cell_type": "code",
   "execution_count": 27,
   "id": "da7af3fa",
   "metadata": {},
   "outputs": [
    {
     "data": {
      "text/plain": [
       "'Over 4 Million Americans Roll Up Sleeves For Omicron-Targeted COVID Boosters  Health experts said it is too early to predict whether demand would match up with the 171 million doses of the new boosters the U.S. ordered for the fall.'"
      ]
     },
     "execution_count": 27,
     "metadata": {},
     "output_type": "execute_result"
    }
   ],
   "source": [
    "df['headline_short_description'][0]"
   ]
  },
  {
   "cell_type": "code",
   "execution_count": 28,
   "id": "6e5012b9",
   "metadata": {},
   "outputs": [
    {
     "data": {
      "text/plain": [
       "array(['__label__News_and_Current_Affairs',\n",
       "       '__label__Lifestyle_and_Culture', '__label__Health_and_Wellness',\n",
       "       '__label__Business_and_Finance', '__label__Specific_Topics',\n",
       "       '__label__Diversity_and_Voices', '__label__Special_Interest'],\n",
       "      dtype=object)"
      ]
     },
     "execution_count": 28,
     "metadata": {},
     "output_type": "execute_result"
    }
   ],
   "source": [
    "df['New_category'] = \"__label__\" + df['New_category'].astype(str)\n",
    "df['New_category'].unique()"
   ]
  },
  {
   "cell_type": "code",
   "execution_count": 29,
   "id": "39231268",
   "metadata": {},
   "outputs": [],
   "source": [
    "df['category_description'] = df['New_category'] + \" \" + df['headline_short_description']"
   ]
  },
  {
   "cell_type": "code",
   "execution_count": 30,
   "id": "db4b3699",
   "metadata": {},
   "outputs": [
    {
     "data": {
      "text/plain": [
       "'__label__News_and_Current_Affairs Over 4 Million Americans Roll Up Sleeves For Omicron-Targeted COVID Boosters  Health experts said it is too early to predict whether demand would match up with the 171 million doses of the new boosters the U.S. ordered for the fall.'"
      ]
     },
     "execution_count": 30,
     "metadata": {},
     "output_type": "execute_result"
    }
   ],
   "source": [
    "df['category_description'][0]"
   ]
  },
  {
   "cell_type": "code",
   "execution_count": 31,
   "id": "7b39ece5",
   "metadata": {},
   "outputs": [],
   "source": [
    "import re\n",
    "\n",
    "def preprocess(text):\n",
    "    text = re.sub(r'[^\\w\\s\\']', ' ', text)\n",
    "    text = re.sub(r' +', ' ', text)\n",
    "    return text.strip().lower()"
   ]
  },
  {
   "cell_type": "code",
   "execution_count": 32,
   "id": "62148902",
   "metadata": {},
   "outputs": [],
   "source": [
    "df['category_description'] = df['category_description'].map(preprocess)"
   ]
  },
  {
   "cell_type": "code",
   "execution_count": 33,
   "id": "797455d7",
   "metadata": {},
   "outputs": [
    {
     "data": {
      "text/plain": [
       "'__label__news_and_current_affairs over 4 million americans roll up sleeves for omicron targeted covid boosters health experts said it is too early to predict whether demand would match up with the 171 million doses of the new boosters the u s ordered for the fall'"
      ]
     },
     "execution_count": 33,
     "metadata": {},
     "output_type": "execute_result"
    }
   ],
   "source": [
    "df['category_description'][0]"
   ]
  },
  {
   "cell_type": "code",
   "execution_count": 34,
   "id": "a4567570",
   "metadata": {},
   "outputs": [
    {
     "data": {
      "text/plain": [
       "link                                  object\n",
       "headline                              object\n",
       "category                              object\n",
       "short_description                     object\n",
       "authors                               object\n",
       "date                          datetime64[ns]\n",
       "New_category                          object\n",
       "num_category                          object\n",
       "headline_short_description            object\n",
       "len_text                               int64\n",
       "category_description                  object\n",
       "dtype: object"
      ]
     },
     "execution_count": 34,
     "metadata": {},
     "output_type": "execute_result"
    }
   ],
   "source": [
    "df.dtypes"
   ]
  },
  {
   "cell_type": "code",
   "execution_count": 35,
   "id": "df51b3d7",
   "metadata": {},
   "outputs": [],
   "source": [
    "df.drop(['link', 'headline', 'category', 'short_description', 'authors', 'date', 'len_text'], axis = 1, inplace = True)"
   ]
  },
  {
   "cell_type": "code",
   "execution_count": 36,
   "id": "bbc58bbb",
   "metadata": {},
   "outputs": [
    {
     "data": {
      "text/html": [
       "<div>\n",
       "<style scoped>\n",
       "    .dataframe tbody tr th:only-of-type {\n",
       "        vertical-align: middle;\n",
       "    }\n",
       "\n",
       "    .dataframe tbody tr th {\n",
       "        vertical-align: top;\n",
       "    }\n",
       "\n",
       "    .dataframe thead th {\n",
       "        text-align: right;\n",
       "    }\n",
       "</style>\n",
       "<table border=\"1\" class=\"dataframe\">\n",
       "  <thead>\n",
       "    <tr style=\"text-align: right;\">\n",
       "      <th></th>\n",
       "      <th>New_category</th>\n",
       "      <th>num_category</th>\n",
       "      <th>headline_short_description</th>\n",
       "      <th>category_description</th>\n",
       "    </tr>\n",
       "  </thead>\n",
       "  <tbody>\n",
       "    <tr>\n",
       "      <th>0</th>\n",
       "      <td>__label__News_and_Current_Affairs</td>\n",
       "      <td>0</td>\n",
       "      <td>Over 4 Million Americans Roll Up Sleeves For O...</td>\n",
       "      <td>__label__news_and_current_affairs over 4 milli...</td>\n",
       "    </tr>\n",
       "    <tr>\n",
       "      <th>1</th>\n",
       "      <td>__label__News_and_Current_Affairs</td>\n",
       "      <td>0</td>\n",
       "      <td>American Airlines Flyer Charged, Banned For Li...</td>\n",
       "      <td>__label__news_and_current_affairs american air...</td>\n",
       "    </tr>\n",
       "    <tr>\n",
       "      <th>2</th>\n",
       "      <td>__label__Lifestyle_and_Culture</td>\n",
       "      <td>1</td>\n",
       "      <td>23 Of The Funniest Tweets About Cats And Dogs ...</td>\n",
       "      <td>__label__lifestyle_and_culture 23 of the funni...</td>\n",
       "    </tr>\n",
       "    <tr>\n",
       "      <th>3</th>\n",
       "      <td>__label__Health_and_Wellness</td>\n",
       "      <td>2</td>\n",
       "      <td>The Funniest Tweets From Parents This Week (Se...</td>\n",
       "      <td>__label__health_and_wellness the funniest twee...</td>\n",
       "    </tr>\n",
       "    <tr>\n",
       "      <th>4</th>\n",
       "      <td>__label__News_and_Current_Affairs</td>\n",
       "      <td>0</td>\n",
       "      <td>Woman Who Called Cops On Black Bird-Watcher Lo...</td>\n",
       "      <td>__label__news_and_current_affairs woman who ca...</td>\n",
       "    </tr>\n",
       "  </tbody>\n",
       "</table>\n",
       "</div>"
      ],
      "text/plain": [
       "                        New_category num_category  \\\n",
       "0  __label__News_and_Current_Affairs            0   \n",
       "1  __label__News_and_Current_Affairs            0   \n",
       "2     __label__Lifestyle_and_Culture            1   \n",
       "3       __label__Health_and_Wellness            2   \n",
       "4  __label__News_and_Current_Affairs            0   \n",
       "\n",
       "                          headline_short_description  \\\n",
       "0  Over 4 Million Americans Roll Up Sleeves For O...   \n",
       "1  American Airlines Flyer Charged, Banned For Li...   \n",
       "2  23 Of The Funniest Tweets About Cats And Dogs ...   \n",
       "3  The Funniest Tweets From Parents This Week (Se...   \n",
       "4  Woman Who Called Cops On Black Bird-Watcher Lo...   \n",
       "\n",
       "                                category_description  \n",
       "0  __label__news_and_current_affairs over 4 milli...  \n",
       "1  __label__news_and_current_affairs american air...  \n",
       "2  __label__lifestyle_and_culture 23 of the funni...  \n",
       "3  __label__health_and_wellness the funniest twee...  \n",
       "4  __label__news_and_current_affairs woman who ca...  "
      ]
     },
     "execution_count": 36,
     "metadata": {},
     "output_type": "execute_result"
    }
   ],
   "source": [
    "df.head()"
   ]
  },
  {
   "cell_type": "code",
   "execution_count": 37,
   "id": "b351a64f",
   "metadata": {},
   "outputs": [
    {
     "name": "stdout",
     "output_type": "stream",
     "text": [
      "<class 'pandas.core.frame.DataFrame'>\n",
      "Int64Index: 188281 entries, 0 to 189425\n",
      "Data columns (total 4 columns):\n",
      " #   Column                      Non-Null Count   Dtype \n",
      "---  ------                      --------------   ----- \n",
      " 0   New_category                188281 non-null  object\n",
      " 1   num_category                188281 non-null  object\n",
      " 2   headline_short_description  188281 non-null  object\n",
      " 3   category_description        188281 non-null  object\n",
      "dtypes: object(4)\n",
      "memory usage: 11.2+ MB\n"
     ]
    }
   ],
   "source": [
    "df.info()"
   ]
  },
  {
   "cell_type": "code",
   "execution_count": 38,
   "id": "9206c916",
   "metadata": {},
   "outputs": [],
   "source": [
    "train, test = train_test_split(df, test_size = 0.2)"
   ]
  },
  {
   "cell_type": "code",
   "execution_count": 39,
   "id": "480269ad",
   "metadata": {},
   "outputs": [
    {
     "data": {
      "text/html": [
       "<div>\n",
       "<style scoped>\n",
       "    .dataframe tbody tr th:only-of-type {\n",
       "        vertical-align: middle;\n",
       "    }\n",
       "\n",
       "    .dataframe tbody tr th {\n",
       "        vertical-align: top;\n",
       "    }\n",
       "\n",
       "    .dataframe thead th {\n",
       "        text-align: right;\n",
       "    }\n",
       "</style>\n",
       "<table border=\"1\" class=\"dataframe\">\n",
       "  <thead>\n",
       "    <tr style=\"text-align: right;\">\n",
       "      <th></th>\n",
       "      <th>New_category</th>\n",
       "      <th>num_category</th>\n",
       "      <th>headline_short_description</th>\n",
       "      <th>category_description</th>\n",
       "    </tr>\n",
       "  </thead>\n",
       "  <tbody>\n",
       "    <tr>\n",
       "      <th>29467</th>\n",
       "      <td>__label__News_and_Current_Affairs</td>\n",
       "      <td>0</td>\n",
       "      <td>Texas Grandmother Freed By Obama Heading Back ...</td>\n",
       "      <td>__label__news_and_current_affairs texas grandm...</td>\n",
       "    </tr>\n",
       "    <tr>\n",
       "      <th>134048</th>\n",
       "      <td>__label__Health_and_Wellness</td>\n",
       "      <td>2</td>\n",
       "      <td>4 Ways to Have a Healthy Fall  Fall is almost ...</td>\n",
       "      <td>__label__health_and_wellness 4 ways to have a ...</td>\n",
       "    </tr>\n",
       "    <tr>\n",
       "      <th>16717</th>\n",
       "      <td>__label__Lifestyle_and_Culture</td>\n",
       "      <td>1</td>\n",
       "      <td>'Roseanne' Reboot Shows A Family 'That Is Divi...</td>\n",
       "      <td>__label__lifestyle_and_culture 'roseanne' rebo...</td>\n",
       "    </tr>\n",
       "    <tr>\n",
       "      <th>60177</th>\n",
       "      <td>__label__News_and_Current_Affairs</td>\n",
       "      <td>0</td>\n",
       "      <td>Clinton Campaign: Trump Needs To Guarantee He ...</td>\n",
       "      <td>__label__news_and_current_affairs clinton camp...</td>\n",
       "    </tr>\n",
       "    <tr>\n",
       "      <th>124104</th>\n",
       "      <td>__label__Lifestyle_and_Culture</td>\n",
       "      <td>1</td>\n",
       "      <td>Stephen Colbert's 'The Hobbit' Cameo Pops Up O...</td>\n",
       "      <td>__label__lifestyle_and_culture stephen colbert...</td>\n",
       "    </tr>\n",
       "  </tbody>\n",
       "</table>\n",
       "</div>"
      ],
      "text/plain": [
       "                             New_category num_category  \\\n",
       "29467   __label__News_and_Current_Affairs            0   \n",
       "134048       __label__Health_and_Wellness            2   \n",
       "16717      __label__Lifestyle_and_Culture            1   \n",
       "60177   __label__News_and_Current_Affairs            0   \n",
       "124104     __label__Lifestyle_and_Culture            1   \n",
       "\n",
       "                               headline_short_description  \\\n",
       "29467   Texas Grandmother Freed By Obama Heading Back ...   \n",
       "134048  4 Ways to Have a Healthy Fall  Fall is almost ...   \n",
       "16717   'Roseanne' Reboot Shows A Family 'That Is Divi...   \n",
       "60177   Clinton Campaign: Trump Needs To Guarantee He ...   \n",
       "124104  Stephen Colbert's 'The Hobbit' Cameo Pops Up O...   \n",
       "\n",
       "                                     category_description  \n",
       "29467   __label__news_and_current_affairs texas grandm...  \n",
       "134048  __label__health_and_wellness 4 ways to have a ...  \n",
       "16717   __label__lifestyle_and_culture 'roseanne' rebo...  \n",
       "60177   __label__news_and_current_affairs clinton camp...  \n",
       "124104  __label__lifestyle_and_culture stephen colbert...  "
      ]
     },
     "execution_count": 39,
     "metadata": {},
     "output_type": "execute_result"
    }
   ],
   "source": [
    "train.head()"
   ]
  },
  {
   "cell_type": "code",
   "execution_count": 40,
   "id": "3236bd72",
   "metadata": {},
   "outputs": [
    {
     "data": {
      "text/plain": [
       "((150624, 4), (37657, 4))"
      ]
     },
     "execution_count": 40,
     "metadata": {},
     "output_type": "execute_result"
    }
   ],
   "source": [
    "train.shape, test.shape"
   ]
  },
  {
   "cell_type": "code",
   "execution_count": 41,
   "id": "b4dba352",
   "metadata": {},
   "outputs": [
    {
     "data": {
      "text/html": [
       "<div>\n",
       "<style scoped>\n",
       "    .dataframe tbody tr th:only-of-type {\n",
       "        vertical-align: middle;\n",
       "    }\n",
       "\n",
       "    .dataframe tbody tr th {\n",
       "        vertical-align: top;\n",
       "    }\n",
       "\n",
       "    .dataframe thead th {\n",
       "        text-align: right;\n",
       "    }\n",
       "</style>\n",
       "<table border=\"1\" class=\"dataframe\">\n",
       "  <thead>\n",
       "    <tr style=\"text-align: right;\">\n",
       "      <th></th>\n",
       "      <th>New_category</th>\n",
       "      <th>num_category</th>\n",
       "      <th>headline_short_description</th>\n",
       "      <th>category_description</th>\n",
       "    </tr>\n",
       "  </thead>\n",
       "  <tbody>\n",
       "    <tr>\n",
       "      <th>132270</th>\n",
       "      <td>__label__Health_and_Wellness</td>\n",
       "      <td>2</td>\n",
       "      <td>Final Days With Your Pet: How Music Can Help Y...</td>\n",
       "      <td>__label__health_and_wellness final days with y...</td>\n",
       "    </tr>\n",
       "    <tr>\n",
       "      <th>84251</th>\n",
       "      <td>__label__News_and_Current_Affairs</td>\n",
       "      <td>0</td>\n",
       "      <td>Inside Biden's Final Deliberations  It went do...</td>\n",
       "      <td>__label__news_and_current_affairs inside biden...</td>\n",
       "    </tr>\n",
       "    <tr>\n",
       "      <th>98205</th>\n",
       "      <td>__label__Lifestyle_and_Culture</td>\n",
       "      <td>1</td>\n",
       "      <td>Are Mermaids, Unicorns and Dragons Real?  Some...</td>\n",
       "      <td>__label__lifestyle_and_culture are mermaids un...</td>\n",
       "    </tr>\n",
       "    <tr>\n",
       "      <th>114584</th>\n",
       "      <td>__label__Lifestyle_and_Culture</td>\n",
       "      <td>1</td>\n",
       "      <td>CityLove: Meet Atlanta  Burned to the ground b...</td>\n",
       "      <td>__label__lifestyle_and_culture citylove meet a...</td>\n",
       "    </tr>\n",
       "    <tr>\n",
       "      <th>153531</th>\n",
       "      <td>__label__Health_and_Wellness</td>\n",
       "      <td>2</td>\n",
       "      <td>Kids and Team Sports: Should Parents Push Thei...</td>\n",
       "      <td>__label__health_and_wellness kids and team spo...</td>\n",
       "    </tr>\n",
       "  </tbody>\n",
       "</table>\n",
       "</div>"
      ],
      "text/plain": [
       "                             New_category num_category  \\\n",
       "132270       __label__Health_and_Wellness            2   \n",
       "84251   __label__News_and_Current_Affairs            0   \n",
       "98205      __label__Lifestyle_and_Culture            1   \n",
       "114584     __label__Lifestyle_and_Culture            1   \n",
       "153531       __label__Health_and_Wellness            2   \n",
       "\n",
       "                               headline_short_description  \\\n",
       "132270  Final Days With Your Pet: How Music Can Help Y...   \n",
       "84251   Inside Biden's Final Deliberations  It went do...   \n",
       "98205   Are Mermaids, Unicorns and Dragons Real?  Some...   \n",
       "114584  CityLove: Meet Atlanta  Burned to the ground b...   \n",
       "153531  Kids and Team Sports: Should Parents Push Thei...   \n",
       "\n",
       "                                     category_description  \n",
       "132270  __label__health_and_wellness final days with y...  \n",
       "84251   __label__news_and_current_affairs inside biden...  \n",
       "98205   __label__lifestyle_and_culture are mermaids un...  \n",
       "114584  __label__lifestyle_and_culture citylove meet a...  \n",
       "153531  __label__health_and_wellness kids and team spo...  "
      ]
     },
     "execution_count": 41,
     "metadata": {},
     "output_type": "execute_result"
    }
   ],
   "source": [
    "test.head()"
   ]
  },
  {
   "cell_type": "code",
   "execution_count": 42,
   "id": "8b52dac2",
   "metadata": {},
   "outputs": [],
   "source": [
    "train.to_csv(\"newscategory_train.text\", columns=[\"category_description\"], index = False, header = False)\n",
    "test.to_csv(\"newscategory_test.text\", columns=[\"category_description\"],  index = False, header = False)"
   ]
  },
  {
   "cell_type": "markdown",
   "id": "802b066c",
   "metadata": {},
   "source": [
    "## FastText Model"
   ]
  },
  {
   "cell_type": "code",
   "execution_count": 43,
   "id": "abc80e07",
   "metadata": {},
   "outputs": [],
   "source": [
    "model = fasttext.train_unsupervised(input=\"newscategory_train.text\")"
   ]
  },
  {
   "cell_type": "code",
   "execution_count": 44,
   "id": "b788b7c4",
   "metadata": {},
   "outputs": [],
   "source": [
    "df['vector'] = df['headline_short_description'].apply(lambda x: model.get_word_vector(x))"
   ]
  },
  {
   "cell_type": "code",
   "execution_count": 45,
   "id": "19612298",
   "metadata": {
    "scrolled": true
   },
   "outputs": [
    {
     "data": {
      "text/html": [
       "<div>\n",
       "<style scoped>\n",
       "    .dataframe tbody tr th:only-of-type {\n",
       "        vertical-align: middle;\n",
       "    }\n",
       "\n",
       "    .dataframe tbody tr th {\n",
       "        vertical-align: top;\n",
       "    }\n",
       "\n",
       "    .dataframe thead th {\n",
       "        text-align: right;\n",
       "    }\n",
       "</style>\n",
       "<table border=\"1\" class=\"dataframe\">\n",
       "  <thead>\n",
       "    <tr style=\"text-align: right;\">\n",
       "      <th></th>\n",
       "      <th>New_category</th>\n",
       "      <th>num_category</th>\n",
       "      <th>headline_short_description</th>\n",
       "      <th>category_description</th>\n",
       "      <th>vector</th>\n",
       "    </tr>\n",
       "  </thead>\n",
       "  <tbody>\n",
       "    <tr>\n",
       "      <th>0</th>\n",
       "      <td>__label__News_and_Current_Affairs</td>\n",
       "      <td>0</td>\n",
       "      <td>Over 4 Million Americans Roll Up Sleeves For O...</td>\n",
       "      <td>__label__news_and_current_affairs over 4 milli...</td>\n",
       "      <td>[-0.026898403, 0.03343957, -0.048142094, -0.09...</td>\n",
       "    </tr>\n",
       "    <tr>\n",
       "      <th>1</th>\n",
       "      <td>__label__News_and_Current_Affairs</td>\n",
       "      <td>0</td>\n",
       "      <td>American Airlines Flyer Charged, Banned For Li...</td>\n",
       "      <td>__label__news_and_current_affairs american air...</td>\n",
       "      <td>[0.015680786, 0.06786515, 0.0070151514, -0.130...</td>\n",
       "    </tr>\n",
       "    <tr>\n",
       "      <th>2</th>\n",
       "      <td>__label__Lifestyle_and_Culture</td>\n",
       "      <td>1</td>\n",
       "      <td>23 Of The Funniest Tweets About Cats And Dogs ...</td>\n",
       "      <td>__label__lifestyle_and_culture 23 of the funni...</td>\n",
       "      <td>[0.010689174, 0.0031293368, -0.07495423, -0.08...</td>\n",
       "    </tr>\n",
       "    <tr>\n",
       "      <th>3</th>\n",
       "      <td>__label__Health_and_Wellness</td>\n",
       "      <td>2</td>\n",
       "      <td>The Funniest Tweets From Parents This Week (Se...</td>\n",
       "      <td>__label__health_and_wellness the funniest twee...</td>\n",
       "      <td>[0.023222513, 0.07895377, -0.030581767, -0.100...</td>\n",
       "    </tr>\n",
       "    <tr>\n",
       "      <th>4</th>\n",
       "      <td>__label__News_and_Current_Affairs</td>\n",
       "      <td>0</td>\n",
       "      <td>Woman Who Called Cops On Black Bird-Watcher Lo...</td>\n",
       "      <td>__label__news_and_current_affairs woman who ca...</td>\n",
       "      <td>[-0.0052022357, 0.054090414, -0.031428166, -0....</td>\n",
       "    </tr>\n",
       "  </tbody>\n",
       "</table>\n",
       "</div>"
      ],
      "text/plain": [
       "                        New_category num_category  \\\n",
       "0  __label__News_and_Current_Affairs            0   \n",
       "1  __label__News_and_Current_Affairs            0   \n",
       "2     __label__Lifestyle_and_Culture            1   \n",
       "3       __label__Health_and_Wellness            2   \n",
       "4  __label__News_and_Current_Affairs            0   \n",
       "\n",
       "                          headline_short_description  \\\n",
       "0  Over 4 Million Americans Roll Up Sleeves For O...   \n",
       "1  American Airlines Flyer Charged, Banned For Li...   \n",
       "2  23 Of The Funniest Tweets About Cats And Dogs ...   \n",
       "3  The Funniest Tweets From Parents This Week (Se...   \n",
       "4  Woman Who Called Cops On Black Bird-Watcher Lo...   \n",
       "\n",
       "                                category_description  \\\n",
       "0  __label__news_and_current_affairs over 4 milli...   \n",
       "1  __label__news_and_current_affairs american air...   \n",
       "2  __label__lifestyle_and_culture 23 of the funni...   \n",
       "3  __label__health_and_wellness the funniest twee...   \n",
       "4  __label__news_and_current_affairs woman who ca...   \n",
       "\n",
       "                                              vector  \n",
       "0  [-0.026898403, 0.03343957, -0.048142094, -0.09...  \n",
       "1  [0.015680786, 0.06786515, 0.0070151514, -0.130...  \n",
       "2  [0.010689174, 0.0031293368, -0.07495423, -0.08...  \n",
       "3  [0.023222513, 0.07895377, -0.030581767, -0.100...  \n",
       "4  [-0.0052022357, 0.054090414, -0.031428166, -0....  "
      ]
     },
     "execution_count": 45,
     "metadata": {},
     "output_type": "execute_result"
    }
   ],
   "source": [
    "df.head()"
   ]
  },
  {
   "cell_type": "code",
   "execution_count": 46,
   "id": "c85f3260",
   "metadata": {},
   "outputs": [],
   "source": [
    "x = df['vector']\n",
    "y = df['num_category']"
   ]
  },
  {
   "cell_type": "code",
   "execution_count": 47,
   "id": "a366c540",
   "metadata": {},
   "outputs": [],
   "source": [
    "x= np.stack(x)"
   ]
  },
  {
   "cell_type": "code",
   "execution_count": 48,
   "id": "78750dfb",
   "metadata": {},
   "outputs": [],
   "source": [
    "scaler = MinMaxScaler()\n",
    "\n",
    "X = scaler.fit_transform(x)"
   ]
  },
  {
   "cell_type": "code",
   "execution_count": 49,
   "id": "0bb0aaae",
   "metadata": {},
   "outputs": [],
   "source": [
    "xtrain, xtest, ytrain, ytest = train_test_split(X,y, test_size = 0.2, random_state = 0, stratify = y)"
   ]
  },
  {
   "cell_type": "code",
   "execution_count": 50,
   "id": "b5433a0c",
   "metadata": {},
   "outputs": [
    {
     "name": "stdout",
     "output_type": "stream",
     "text": [
      "Train Acc: 0.4099479498619078\n",
      "Test Acc: 0.40898106593727596\n",
      "\n",
      "Classification Report:\n",
      "              precision    recall  f1-score   support\n",
      "\n",
      "           0       0.82      0.21      0.33      9539\n",
      "           1       0.38      0.99      0.55     13513\n",
      "           2       0.15      0.00      0.00      7617\n",
      "           3       0.00      0.00      0.00      1777\n",
      "           4       0.00      0.00      0.00      1462\n",
      "           5       0.00      0.00      0.00      2769\n",
      "           6       0.00      0.00      0.00       980\n",
      "\n",
      "    accuracy                           0.41     37657\n",
      "   macro avg       0.19      0.17      0.13     37657\n",
      "weighted avg       0.37      0.41      0.28     37657\n",
      " \n"
     ]
    }
   ],
   "source": [
    "# MultinomialNB\n",
    "\n",
    "clf_MNB = MultinomialNB()\n",
    "\n",
    "clf_MNB.fit(xtrain, ytrain)\n",
    "ypred_MNB = clf_MNB.predict(xtest)\n",
    "\n",
    "train_MNB =clf_MNB.score(xtrain, ytrain)\n",
    "test_MNB =clf_MNB.score(xtest, ytest)\n",
    "print(f'Train Acc: {train_MNB}\\nTest Acc: {test_MNB}\\n\\nClassification Report:\\n{classification_report(ytest, ypred_MNB)} ')"
   ]
  },
  {
   "cell_type": "code",
   "execution_count": 51,
   "id": "9524f945",
   "metadata": {},
   "outputs": [
    {
     "name": "stdout",
     "output_type": "stream",
     "text": [
      "Train Acc: 0.7336081899298916\n",
      "Test Acc: 0.6309849430384789\n",
      "\n",
      "Classification Report:\n",
      "              precision    recall  f1-score   support\n",
      "\n",
      "           0       0.68      0.76      0.72      9539\n",
      "           1       0.66      0.72      0.69     13513\n",
      "           2       0.58      0.69      0.63      7617\n",
      "           3       0.53      0.29      0.38      1777\n",
      "           4       0.48      0.26      0.34      1462\n",
      "           5       0.44      0.17      0.24      2769\n",
      "           6       0.41      0.13      0.20       980\n",
      "\n",
      "    accuracy                           0.63     37657\n",
      "   macro avg       0.54      0.43      0.46     37657\n",
      "weighted avg       0.61      0.63      0.61     37657\n",
      " \n"
     ]
    }
   ],
   "source": [
    "# KNeighborsClassifier\n",
    "\n",
    "clf_kn = KNeighborsClassifier()\n",
    "\n",
    "clf_kn.fit(xtrain, ytrain)\n",
    "ypred_kn = clf_kn.predict(xtest)\n",
    "\n",
    "train_kn =clf_kn.score(xtrain, ytrain)\n",
    "test_kn =clf_kn.score(xtest, ytest)\n",
    "print(f'Train Acc: {train_kn}\\nTest Acc: {test_kn}\\n\\nClassification Report:\\n{classification_report(ytest, ypred_kn)} ')"
   ]
  },
  {
   "cell_type": "code",
   "execution_count": 52,
   "id": "0c6b77d9",
   "metadata": {},
   "outputs": [
    {
     "name": "stdout",
     "output_type": "stream",
     "text": [
      "Train ACC: 1.0\n",
      "Test ACC: 0.6393764771490028\n",
      "\n",
      "              precision    recall  f1-score   support\n",
      "\n",
      "           0       0.66      0.80      0.72      9539\n",
      "           1       0.63      0.80      0.70     13513\n",
      "           2       0.63      0.66      0.65      7617\n",
      "           3       0.62      0.14      0.22      1777\n",
      "           4       0.69      0.09      0.15      1462\n",
      "           5       0.67      0.06      0.12      2769\n",
      "           6       0.80      0.04      0.07       980\n",
      "\n",
      "    accuracy                           0.64     37657\n",
      "   macro avg       0.67      0.37      0.38     37657\n",
      "weighted avg       0.65      0.64      0.59     37657\n",
      "\n"
     ]
    }
   ],
   "source": [
    "# RandomForestClassifier\n",
    "\n",
    "clf_rf = RandomForestClassifier()\n",
    "clf_rf.fit(xtrain, ytrain)\n",
    "\n",
    "y_pred = clf_rf.predict(xtest)\n",
    "\n",
    "rf_train = clf_rf.score(xtrain,ytrain)\n",
    "rf_test = clf_rf.score(xtest, ytest)\n",
    "\n",
    "print(f'Train ACC: {rf_train}\\nTest ACC: {rf_test}\\n\\n{classification_report(ytest, y_pred)}')"
   ]
  }
 ],
 "metadata": {
  "kernelspec": {
   "display_name": "Python 3 (ipykernel)",
   "language": "python",
   "name": "python3"
  },
  "language_info": {
   "codemirror_mode": {
    "name": "ipython",
    "version": 3
   },
   "file_extension": ".py",
   "mimetype": "text/x-python",
   "name": "python",
   "nbconvert_exporter": "python",
   "pygments_lexer": "ipython3",
   "version": "3.9.13"
  }
 },
 "nbformat": 4,
 "nbformat_minor": 5
}
